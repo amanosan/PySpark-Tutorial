{
 "cells": [
  {
   "cell_type": "code",
   "execution_count": 1,
   "id": "522c83a4",
   "metadata": {},
   "outputs": [],
   "source": [
    "import pyspark\n",
    "import pandas as pd\n",
    "import numpy as np\n",
    "from pyspark.sql import SparkSession\n",
    "from pyspark.sql.functions import lit, column\n",
    "from pyspark.ml.feature import Imputer\n",
    "from pyspark.sql.functions import *"
   ]
  },
  {
   "cell_type": "code",
   "execution_count": null,
   "id": "464bb660",
   "metadata": {},
   "outputs": [],
   "source": [
    "# creating the spark session\n",
    "spark = SparkSession.builder.appName('Introduction').getOrCreate()"
   ]
  },
  {
   "cell_type": "code",
   "execution_count": 3,
   "id": "4e2d646d",
   "metadata": {},
   "outputs": [
    {
     "data": {
      "text/html": [
       "\n",
       "            <div>\n",
       "                <p><b>SparkSession - in-memory</b></p>\n",
       "                \n",
       "        <div>\n",
       "            <p><b>SparkContext</b></p>\n",
       "\n",
       "            <p><a href=\"http://DESKTOP-NKF58JP:4040\">Spark UI</a></p>\n",
       "\n",
       "            <dl>\n",
       "              <dt>Version</dt>\n",
       "                <dd><code>v3.1.2</code></dd>\n",
       "              <dt>Master</dt>\n",
       "                <dd><code>local[*]</code></dd>\n",
       "              <dt>AppName</dt>\n",
       "                <dd><code>Introduction</code></dd>\n",
       "            </dl>\n",
       "        </div>\n",
       "        \n",
       "            </div>\n",
       "        "
      ],
      "text/plain": [
       "<pyspark.sql.session.SparkSession at 0x1ed64cd1be0>"
      ]
     },
     "execution_count": 3,
     "metadata": {},
     "output_type": "execute_result"
    }
   ],
   "source": [
    "# looking at the spark session details:\n",
    "spark"
   ]
  },
  {
   "cell_type": "code",
   "execution_count": 11,
   "id": "b64a26d3",
   "metadata": {},
   "outputs": [],
   "source": [
    "data = spark.read.csv('test1.csv', header=True)\n",
    "# header=True is to use the first row as the header"
   ]
  },
  {
   "cell_type": "code",
   "execution_count": 18,
   "id": "de5d30b5",
   "metadata": {},
   "outputs": [
    {
     "data": {
      "text/plain": [
       "pyspark.sql.dataframe.DataFrame"
      ]
     },
     "execution_count": 18,
     "metadata": {},
     "output_type": "execute_result"
    }
   ],
   "source": [
    "# checking the type of data:\n",
    "type(data)"
   ]
  },
  {
   "cell_type": "code",
   "execution_count": 12,
   "id": "e5356229",
   "metadata": {},
   "outputs": [
    {
     "name": "stdout",
     "output_type": "stream",
     "text": [
      "+-----+---+----------+\n",
      "| name|age|experience|\n",
      "+-----+---+----------+\n",
      "| adam| 25|         3|\n",
      "|harry| 40|        15|\n",
      "| john| 30|         9|\n",
      "+-----+---+----------+\n",
      "\n"
     ]
    }
   ],
   "source": [
    "data.show()"
   ]
  },
  {
   "cell_type": "code",
   "execution_count": 14,
   "id": "0de86851",
   "metadata": {},
   "outputs": [
    {
     "data": {
      "text/plain": [
       "[('name', 'string'), ('age', 'string'), ('experience', 'string')]"
      ]
     },
     "execution_count": 14,
     "metadata": {},
     "output_type": "execute_result"
    }
   ],
   "source": [
    "# checking the data types of columns:\n",
    "data.dtypes"
   ]
  },
  {
   "cell_type": "code",
   "execution_count": 15,
   "id": "2b54893c",
   "metadata": {},
   "outputs": [],
   "source": [
    "# as we see the default way in which spark loads the data is strings, to get the correct datatypes we use inferschema "
   ]
  },
  {
   "cell_type": "code",
   "execution_count": 16,
   "id": "731ad0fc",
   "metadata": {},
   "outputs": [],
   "source": [
    "data = spark.read.csv('test1.csv', inferSchema=True, header=True)"
   ]
  },
  {
   "cell_type": "code",
   "execution_count": 21,
   "id": "1c632ae4",
   "metadata": {},
   "outputs": [
    {
     "data": {
      "text/plain": [
       "['name', 'age', 'experience']"
      ]
     },
     "execution_count": 21,
     "metadata": {},
     "output_type": "execute_result"
    }
   ],
   "source": [
    "# list of the columns in the dataframe:\n",
    "data.columns"
   ]
  },
  {
   "cell_type": "code",
   "execution_count": 17,
   "id": "fcbd28e3",
   "metadata": {},
   "outputs": [
    {
     "data": {
      "text/plain": [
       "[('name', 'string'), ('age', 'int'), ('experience', 'int')]"
      ]
     },
     "execution_count": 17,
     "metadata": {},
     "output_type": "execute_result"
    }
   ],
   "source": [
    "# looking at the dtypes of columns:\n",
    "data.dtypes"
   ]
  },
  {
   "cell_type": "code",
   "execution_count": 20,
   "id": "4d911aed",
   "metadata": {},
   "outputs": [
    {
     "name": "stdout",
     "output_type": "stream",
     "text": [
      "root\n",
      " |-- name: string (nullable = true)\n",
      " |-- age: integer (nullable = true)\n",
      " |-- experience: integer (nullable = true)\n",
      "\n"
     ]
    }
   ],
   "source": [
    "# having a look at the schema of the dataframe:\n",
    "data.printSchema()"
   ]
  },
  {
   "cell_type": "code",
   "execution_count": 30,
   "id": "1ddd43fe",
   "metadata": {},
   "outputs": [
    {
     "name": "stdout",
     "output_type": "stream",
     "text": [
      "DataFrame[name: string]\n"
     ]
    }
   ],
   "source": [
    "# Selecting a columns:\n",
    "data_name = data.select('name')\n",
    "print(data_name)"
   ]
  },
  {
   "cell_type": "code",
   "execution_count": 31,
   "id": "d98a487a",
   "metadata": {},
   "outputs": [
    {
     "name": "stdout",
     "output_type": "stream",
     "text": [
      "+-----+\n",
      "| name|\n",
      "+-----+\n",
      "| adam|\n",
      "|harry|\n",
      "| john|\n",
      "+-----+\n",
      "\n"
     ]
    }
   ],
   "source": [
    "data_name.show()"
   ]
  },
  {
   "cell_type": "code",
   "execution_count": 27,
   "id": "64504d4a",
   "metadata": {},
   "outputs": [
    {
     "name": "stdout",
     "output_type": "stream",
     "text": [
      "+-----+----------+\n",
      "| name|experience|\n",
      "+-----+----------+\n",
      "| adam|         3|\n",
      "|harry|        15|\n",
      "| john|         9|\n",
      "+-----+----------+\n",
      "\n"
     ]
    }
   ],
   "source": [
    "# Selecting multiple columns:\n",
    "data.select(['name', 'experience']).show()"
   ]
  },
  {
   "cell_type": "code",
   "execution_count": 32,
   "id": "af2e177a",
   "metadata": {},
   "outputs": [
    {
     "name": "stdout",
     "output_type": "stream",
     "text": [
      "+-------+----+------------------+----------+\n",
      "|summary|name|               age|experience|\n",
      "+-------+----+------------------+----------+\n",
      "|  count|   3|                 3|         3|\n",
      "|   mean|null|31.666666666666668|       9.0|\n",
      "| stddev|null| 7.637626158259733|       6.0|\n",
      "|    min|adam|                25|         3|\n",
      "|    max|john|                40|        15|\n",
      "+-------+----+------------------+----------+\n",
      "\n"
     ]
    }
   ],
   "source": [
    "# looking at the decsription of the data:\n",
    "data.describe().show()"
   ]
  },
  {
   "cell_type": "code",
   "execution_count": 45,
   "id": "2e36974d",
   "metadata": {},
   "outputs": [],
   "source": [
    "## Adding columns in the dataframe from existing column:\n",
    "temp = data.withColumn('Working Since', data['age'] - data['experience'])"
   ]
  },
  {
   "cell_type": "code",
   "execution_count": 46,
   "id": "62f1c75f",
   "metadata": {},
   "outputs": [
    {
     "name": "stdout",
     "output_type": "stream",
     "text": [
      "+-----+---+----------+-------------+\n",
      "| name|age|experience|Working Since|\n",
      "+-----+---+----------+-------------+\n",
      "| adam| 25|         3|           22|\n",
      "|harry| 40|        15|           25|\n",
      "| john| 30|         9|           21|\n",
      "+-----+---+----------+-------------+\n",
      "\n"
     ]
    }
   ],
   "source": [
    "temp.show()"
   ]
  },
  {
   "cell_type": "code",
   "execution_count": 49,
   "id": "6e4298d2",
   "metadata": {},
   "outputs": [],
   "source": [
    "## Dropping columns from the dataframe:\n",
    "temp = temp.drop('Working Since')"
   ]
  },
  {
   "cell_type": "code",
   "execution_count": 50,
   "id": "0cf7a580",
   "metadata": {},
   "outputs": [
    {
     "name": "stdout",
     "output_type": "stream",
     "text": [
      "+-----+---+----------+\n",
      "| name|age|experience|\n",
      "+-----+---+----------+\n",
      "| adam| 25|         3|\n",
      "|harry| 40|        15|\n",
      "| john| 30|         9|\n",
      "+-----+---+----------+\n",
      "\n"
     ]
    }
   ],
   "source": [
    "temp.show()"
   ]
  },
  {
   "cell_type": "code",
   "execution_count": 52,
   "id": "b52f87b3",
   "metadata": {},
   "outputs": [
    {
     "name": "stdout",
     "output_type": "stream",
     "text": [
      "+----------+---+----------+\n",
      "|first name|age|experience|\n",
      "+----------+---+----------+\n",
      "|      adam| 25|         3|\n",
      "|     harry| 40|        15|\n",
      "|      john| 30|         9|\n",
      "+----------+---+----------+\n",
      "\n"
     ]
    }
   ],
   "source": [
    "## Renaming the columns:\n",
    "data = data.withColumnRenamed('name', 'first name')\n",
    "data.show()"
   ]
  },
  {
   "cell_type": "code",
   "execution_count": 8,
   "id": "02d327dc",
   "metadata": {},
   "outputs": [],
   "source": [
    "df = spark.read.csv(\"test2.csv\", inferSchema=True, header=True)"
   ]
  },
  {
   "cell_type": "code",
   "execution_count": 45,
   "id": "de5784fc",
   "metadata": {},
   "outputs": [
    {
     "data": {
      "text/plain": [
       "7"
      ]
     },
     "execution_count": 45,
     "metadata": {},
     "output_type": "execute_result"
    }
   ],
   "source": [
    "# number of records:\n",
    "df.count()"
   ]
  },
  {
   "cell_type": "code",
   "execution_count": 9,
   "id": "6ba0ed48",
   "metadata": {},
   "outputs": [
    {
     "name": "stdout",
     "output_type": "stream",
     "text": [
      "root\n",
      " |-- name: string (nullable = true)\n",
      " |-- age: integer (nullable = true)\n",
      " |-- experience: integer (nullable = true)\n",
      " |-- salary: integer (nullable = true)\n",
      "\n"
     ]
    }
   ],
   "source": [
    "# schema of the data:\n",
    "df.printSchema()"
   ]
  },
  {
   "cell_type": "code",
   "execution_count": 11,
   "id": "b9c81bbf",
   "metadata": {},
   "outputs": [
    {
     "data": {
      "text/plain": [
       "[('name', 'string'), ('age', 'int'), ('experience', 'int'), ('salary', 'int')]"
      ]
     },
     "execution_count": 11,
     "metadata": {},
     "output_type": "execute_result"
    }
   ],
   "source": [
    "# another way to look at the data types\n",
    "df.dtypes"
   ]
  },
  {
   "cell_type": "code",
   "execution_count": 12,
   "id": "027ec3bd",
   "metadata": {},
   "outputs": [
    {
     "data": {
      "text/plain": [
       "['name', 'age', 'experience', 'salary']"
      ]
     },
     "execution_count": 12,
     "metadata": {},
     "output_type": "execute_result"
    }
   ],
   "source": [
    "# looking at the columns in the dataframe\n",
    "df.columns"
   ]
  },
  {
   "cell_type": "code",
   "execution_count": 13,
   "id": "a706488a",
   "metadata": {},
   "outputs": [
    {
     "name": "stdout",
     "output_type": "stream",
     "text": [
      "+-----+----+----------+------+\n",
      "| name| age|experience|salary|\n",
      "+-----+----+----------+------+\n",
      "|kaden|  35|        10| 35000|\n",
      "| adam|  25|         4| 15000|\n",
      "|James|null|        13| 45000|\n",
      "| Andy|  45|        17| 50000|\n",
      "|  Sid|  32|      null| 25000|\n",
      "| Kyle|  28|         7| 25000|\n",
      "| Dave|null|         3| 12500|\n",
      "+-----+----+----------+------+\n",
      "\n"
     ]
    }
   ],
   "source": [
    "df.show()"
   ]
  },
  {
   "cell_type": "code",
   "execution_count": 14,
   "id": "f9c0dbd5",
   "metadata": {},
   "outputs": [
    {
     "name": "stdout",
     "output_type": "stream",
     "text": [
      "+-----+---+----------+------+\n",
      "| name|age|experience|salary|\n",
      "+-----+---+----------+------+\n",
      "|kaden| 35|        10| 35000|\n",
      "| adam| 25|         4| 15000|\n",
      "| Andy| 45|        17| 50000|\n",
      "| Kyle| 28|         7| 25000|\n",
      "+-----+---+----------+------+\n",
      "\n"
     ]
    }
   ],
   "source": [
    "# dropping rows with null values:\n",
    "df.na.drop().show()"
   ]
  },
  {
   "cell_type": "code",
   "execution_count": 15,
   "id": "54f266bb",
   "metadata": {},
   "outputs": [
    {
     "name": "stdout",
     "output_type": "stream",
     "text": [
      "+-----+---+----------+------+\n",
      "| name|age|experience|salary|\n",
      "+-----+---+----------+------+\n",
      "|kaden| 35|        10| 35000|\n",
      "| adam| 25|         4| 15000|\n",
      "| Andy| 45|        17| 50000|\n",
      "| Kyle| 28|         7| 25000|\n",
      "+-----+---+----------+------+\n",
      "\n",
      "+-----+----+----------+------+\n",
      "| name| age|experience|salary|\n",
      "+-----+----+----------+------+\n",
      "|kaden|  35|        10| 35000|\n",
      "| adam|  25|         4| 15000|\n",
      "|James|null|        13| 45000|\n",
      "| Andy|  45|        17| 50000|\n",
      "|  Sid|  32|      null| 25000|\n",
      "| Kyle|  28|         7| 25000|\n",
      "| Dave|null|         3| 12500|\n",
      "+-----+----+----------+------+\n",
      "\n"
     ]
    }
   ],
   "source": [
    "# looking at the how parameter of the drop function:\n",
    "\n",
    "df.na.drop(how='any').show()  # this will drop a row if any of the value is null\n",
    "df.na.drop(how='all').show()  # this will drop a row only if all the values in the row are null."
   ]
  },
  {
   "cell_type": "code",
   "execution_count": 37,
   "id": "4a07494a",
   "metadata": {},
   "outputs": [],
   "source": [
    "# Imputing Missing values:\n",
    "impute = Imputer(inputCols=['age','experience'],\n",
    "                outputCols=[f\"{x}_imputed\" for x in ['age', 'experience']]).setStrategy('mean')"
   ]
  },
  {
   "cell_type": "code",
   "execution_count": 39,
   "id": "017639f5",
   "metadata": {},
   "outputs": [
    {
     "name": "stdout",
     "output_type": "stream",
     "text": [
      "+-----+----+----------+------+-----------+------------------+\n",
      "| name| age|experience|salary|age_imputed|experience_imputed|\n",
      "+-----+----+----------+------+-----------+------------------+\n",
      "|kaden|  35|        10| 35000|         35|                10|\n",
      "| adam|  25|         4| 15000|         25|                 4|\n",
      "|James|null|        13| 45000|         33|                13|\n",
      "| Andy|  45|        17| 50000|         45|                17|\n",
      "|  Sid|  32|      null| 25000|         32|                 9|\n",
      "| Kyle|  28|         7| 25000|         28|                 7|\n",
      "| Dave|null|         3| 12500|         33|                 3|\n",
      "+-----+----+----------+------+-----------+------------------+\n",
      "\n"
     ]
    }
   ],
   "source": [
    "# applying fit transform to the df\n",
    "impute.fit(df).transform(df).show()"
   ]
  },
  {
   "cell_type": "code",
   "execution_count": 47,
   "id": "71ff7d35",
   "metadata": {},
   "outputs": [
    {
     "name": "stdout",
     "output_type": "stream",
     "text": [
      "+-----+----+----------+------+\n",
      "| name| age|experience|salary|\n",
      "+-----+----+----------+------+\n",
      "|kaden|  35|        10| 35000|\n",
      "|James|null|        13| 45000|\n",
      "| Andy|  45|        17| 50000|\n",
      "+-----+----+----------+------+\n",
      "\n"
     ]
    }
   ],
   "source": [
    "# Filters in pySpark:\n",
    "\n",
    "df.filter(\"salary>30000\").show()"
   ]
  },
  {
   "cell_type": "code",
   "execution_count": 49,
   "id": "a9b76b52",
   "metadata": {},
   "outputs": [
    {
     "name": "stdout",
     "output_type": "stream",
     "text": [
      "+-----+----------+\n",
      "| name|experience|\n",
      "+-----+----------+\n",
      "|kaden|        10|\n",
      "|James|        13|\n",
      "| Andy|        17|\n",
      "+-----+----------+\n",
      "\n"
     ]
    }
   ],
   "source": [
    "df.filter(df['salary'] >= 30000).select(['name', 'experience']).show()"
   ]
  },
  {
   "cell_type": "code",
   "execution_count": 54,
   "id": "7754d119",
   "metadata": {},
   "outputs": [
    {
     "name": "stdout",
     "output_type": "stream",
     "text": [
      "+----+----------+\n",
      "|name|experience|\n",
      "+----+----------+\n",
      "|adam|         4|\n",
      "| Sid|      null|\n",
      "|Kyle|         7|\n",
      "|Dave|         3|\n",
      "+----+----------+\n",
      "\n"
     ]
    }
   ],
   "source": [
    "# not operator:\n",
    "df.filter(~(df['salary'] >= 30000)).select(['name', 'experience']).show()"
   ]
  },
  {
   "cell_type": "code",
   "execution_count": 55,
   "id": "f9ab3965",
   "metadata": {},
   "outputs": [
    {
     "name": "stdout",
     "output_type": "stream",
     "text": [
      "+-----+----+----------+------+\n",
      "| name| age|experience|salary|\n",
      "+-----+----+----------+------+\n",
      "|James|null|        13| 45000|\n",
      "| Andy|  45|        17| 50000|\n",
      "+-----+----+----------+------+\n",
      "\n"
     ]
    }
   ],
   "source": [
    "# Multiple Filters using or(|) and and(&):\n",
    "df.filter((df['salary'] > 30000) & (df['experience'] >= 13)).show()"
   ]
  },
  {
   "cell_type": "code",
   "execution_count": 56,
   "id": "26082fd6",
   "metadata": {},
   "outputs": [
    {
     "name": "stdout",
     "output_type": "stream",
     "text": [
      "+-----+----+----------+------+\n",
      "| name| age|experience|salary|\n",
      "+-----+----+----------+------+\n",
      "| adam|  25|         4| 15000|\n",
      "|James|null|        13| 45000|\n",
      "| Andy|  45|        17| 50000|\n",
      "| Dave|null|         3| 12500|\n",
      "+-----+----+----------+------+\n",
      "\n"
     ]
    }
   ],
   "source": [
    "df.filter((df['salary'] >= 45000) | (df['salary'] <= 20000)).show()"
   ]
  },
  {
   "cell_type": "code",
   "execution_count": 57,
   "id": "61cdc7dd",
   "metadata": {},
   "outputs": [],
   "source": [
    "# Groupby and Aggregation Functions:"
   ]
  },
  {
   "cell_type": "code",
   "execution_count": 60,
   "id": "892e9c2e",
   "metadata": {},
   "outputs": [],
   "source": [
    "df = spark.read.csv('test3.csv', header=True, inferSchema=True)"
   ]
  },
  {
   "cell_type": "code",
   "execution_count": 61,
   "id": "188898d0",
   "metadata": {},
   "outputs": [
    {
     "name": "stdout",
     "output_type": "stream",
     "text": [
      "root\n",
      " |-- name: string (nullable = true)\n",
      " |-- department: string (nullable = true)\n",
      " |-- salary: integer (nullable = true)\n",
      "\n"
     ]
    }
   ],
   "source": [
    "df.printSchema()"
   ]
  },
  {
   "cell_type": "code",
   "execution_count": 62,
   "id": "7474ae53",
   "metadata": {},
   "outputs": [
    {
     "name": "stdout",
     "output_type": "stream",
     "text": [
      "+-------+-----------+------+\n",
      "|   name| department|salary|\n",
      "+-------+-----------+------+\n",
      "|   john|datascience| 10000|\n",
      "|   john|        iot|  5000|\n",
      "|   mark|    bigdata|  4000|\n",
      "|   john|    bigdata|  3000|\n",
      "|   mark|datascience|  8000|\n",
      "|  shawn|datascience| 15000|\n",
      "|  shawn|        iot|  3500|\n",
      "|  shawn|    bigdata|  7000|\n",
      "|dorothy|datascience|  6500|\n",
      "|dorothy|    bigdata|  4500|\n",
      "+-------+-----------+------+\n",
      "\n"
     ]
    }
   ],
   "source": [
    "df.show()"
   ]
  },
  {
   "cell_type": "code",
   "execution_count": 67,
   "id": "e29fac70",
   "metadata": {},
   "outputs": [
    {
     "name": "stdout",
     "output_type": "stream",
     "text": [
      "+-------+-----------+\n",
      "|   Name|sum(salary)|\n",
      "+-------+-----------+\n",
      "|  shawn|      25500|\n",
      "|dorothy|      11000|\n",
      "|   john|      18000|\n",
      "|   mark|      12000|\n",
      "+-------+-----------+\n",
      "\n"
     ]
    }
   ],
   "source": [
    "# Groupby\n",
    "df.groupBy('Name').sum().show()"
   ]
  },
  {
   "cell_type": "code",
   "execution_count": 72,
   "id": "56922b23",
   "metadata": {},
   "outputs": [
    {
     "name": "stdout",
     "output_type": "stream",
     "text": [
      "+-----------+-----------+\n",
      "| department|avg(salary)|\n",
      "+-----------+-----------+\n",
      "|        iot|     4250.0|\n",
      "|    bigdata|     4625.0|\n",
      "|datascience|     9875.0|\n",
      "+-----------+-----------+\n",
      "\n"
     ]
    }
   ],
   "source": [
    "# mean salary of each department\n",
    "df.groupBy('department').mean().show()"
   ]
  },
  {
   "cell_type": "code",
   "execution_count": 73,
   "id": "591a6995",
   "metadata": {},
   "outputs": [
    {
     "name": "stdout",
     "output_type": "stream",
     "text": [
      "+-----------+-----+\n",
      "| department|count|\n",
      "+-----------+-----+\n",
      "|        iot|    2|\n",
      "|    bigdata|    4|\n",
      "|datascience|    4|\n",
      "+-----------+-----+\n",
      "\n"
     ]
    }
   ],
   "source": [
    "# number of employees in each department\n",
    "df.groupBy('department').count().show()"
   ]
  },
  {
   "cell_type": "code",
   "execution_count": 74,
   "id": "3868e2c3",
   "metadata": {},
   "outputs": [
    {
     "name": "stdout",
     "output_type": "stream",
     "text": [
      "+-----------+\n",
      "|sum(salary)|\n",
      "+-----------+\n",
      "|      66500|\n",
      "+-----------+\n",
      "\n"
     ]
    }
   ],
   "source": [
    "# Aggregation:\n",
    "df.agg({'salary': 'sum'}).show()"
   ]
  },
  {
   "cell_type": "code",
   "execution_count": 81,
   "id": "abc0e8af",
   "metadata": {},
   "outputs": [
    {
     "name": "stdout",
     "output_type": "stream",
     "text": [
      "+---------+\n",
      "|max(name)|\n",
      "+---------+\n",
      "|    shawn|\n",
      "+---------+\n",
      "\n"
     ]
    }
   ],
   "source": [
    "# finding person with highest salary:\n",
    "df.groupBy('name').sum().agg({'name': 'max'}).show()"
   ]
  },
  {
   "cell_type": "markdown",
   "id": "71c5a289",
   "metadata": {},
   "source": [
    "# Data Science With Pyspark"
   ]
  },
  {
   "cell_type": "markdown",
   "id": "2bace8b0",
   "metadata": {},
   "source": [
    "### Basics:"
   ]
  },
  {
   "cell_type": "code",
   "execution_count": 15,
   "id": "d7af908a",
   "metadata": {},
   "outputs": [],
   "source": [
    "# loading the data from the file:\n",
    "file_location = \"movie_data_part1.csv\"\n",
    "file_type = \"csv\""
   ]
  },
  {
   "cell_type": "code",
   "execution_count": 16,
   "id": "2db81a99",
   "metadata": {},
   "outputs": [],
   "source": [
    "# loading the data:\n",
    "df = spark.read.csv(file_location,\n",
    "                   header=True,\n",
    "                   inferSchema=False,\n",
    "                   sep=\"|\")"
   ]
  },
  {
   "cell_type": "code",
   "execution_count": 17,
   "id": "e7fc6394",
   "metadata": {},
   "outputs": [
    {
     "name": "stdout",
     "output_type": "stream",
     "text": [
      "root\n",
      " |-- belongs_to_collection: string (nullable = true)\n",
      " |-- budget: string (nullable = true)\n",
      " |-- id: string (nullable = true)\n",
      " |-- original_language: string (nullable = true)\n",
      " |-- original_title: string (nullable = true)\n",
      " |-- overview: string (nullable = true)\n",
      " |-- popularity: string (nullable = true)\n",
      " |-- production_companies: string (nullable = true)\n",
      " |-- production_countries: string (nullable = true)\n",
      " |-- release_date: string (nullable = true)\n",
      " |-- revenue: string (nullable = true)\n",
      " |-- runtime: string (nullable = true)\n",
      " |-- status: string (nullable = true)\n",
      " |-- tagline: string (nullable = true)\n",
      " |-- title: string (nullable = true)\n",
      " |-- vote_average: string (nullable = true)\n",
      "\n"
     ]
    }
   ],
   "source": [
    "# Reading the metadata:\n",
    "df.printSchema()"
   ]
  },
  {
   "cell_type": "code",
   "execution_count": 18,
   "id": "2164bac5",
   "metadata": {},
   "outputs": [
    {
     "name": "stdout",
     "output_type": "stream",
     "text": [
      "Total number of records: 43998\n"
     ]
    }
   ],
   "source": [
    "# number of records:\n",
    "print(f\"Total number of records: {df.count()}\")"
   ]
  },
  {
   "cell_type": "code",
   "execution_count": 19,
   "id": "9fa60229",
   "metadata": {},
   "outputs": [],
   "source": [
    "# Selecting a subset of the columns:\n",
    "select_cols = ['id', 'budget', 'popularity', 'release_date', 'revenue', 'title']"
   ]
  },
  {
   "cell_type": "code",
   "execution_count": 20,
   "id": "6fb864a5",
   "metadata": {},
   "outputs": [],
   "source": [
    "df = df.select(*select_cols)"
   ]
  },
  {
   "cell_type": "code",
   "execution_count": 21,
   "id": "fe94e7ba",
   "metadata": {},
   "outputs": [
    {
     "name": "stdout",
     "output_type": "stream",
     "text": [
      "+-----+-------+------------------+------------+-------+--------------------------------------------------+\n",
      "|id   |budget |popularity        |release_date|revenue|title                                             |\n",
      "+-----+-------+------------------+------------+-------+--------------------------------------------------+\n",
      "|43000|0      |2.503             |1962-05-23  |0      |The Elusive Corporal                              |\n",
      "|43001|0      |5.51              |1962-11-12  |0      |Sundays and Cybele                                |\n",
      "|43002|0      |5.62              |1962-05-24  |0      |Lonely Are the Brave                              |\n",
      "|43003|0      |7.159             |1975-03-12  |0      |F for Fake                                        |\n",
      "|43004|500000 |3.988             |1962-10-09  |0      |Long Day's Journey Into Night                     |\n",
      "|43006|0      |3.194             |1962-03-09  |0      |My Geisha                                         |\n",
      "|43007|0      |2.689             |1962-10-31  |0      |Period of Adjustment                              |\n",
      "|43008|0      |6.537             |1959-03-13  |0      |The Hanging Tree                                  |\n",
      "|43010|0      |4.297             |1962-01-01  |0      |Sherlock Holmes and the Deadly Necklace           |\n",
      "|43011|0      |4.417             |1962-01-01  |0      |Sodom and Gomorrah                                |\n",
      "|43012|7000000|4.7219999999999995|1962-11-21  |4000000|Taras Bulba                                       |\n",
      "|43013|0      |2.543             |1962-04-17  |0      |The Counterfeit Traitor                           |\n",
      "|43014|0      |4.303             |1962-10-24  |0      |Tower of London                                   |\n",
      "|43015|0      |3.493             |1962-12-07  |0      |Varan the Unbelievable                            |\n",
      "|43016|0      |2.851             |1962-01-01  |0      |Waltz of the Toreadors                            |\n",
      "|43017|0      |4.047             |1961-10-11  |0      |Back Street                                       |\n",
      "|43018|0      |2.661             |1961-06-02  |0      |Gidget Goes Hawaiian                              |\n",
      "|43019|0      |3.225             |2010-05-28  |0      |Schuks Tshabalala's Survival Guide to South Africa|\n",
      "|43020|0      |5.72              |1961-06-15  |0      |The Colossus of Rhodes                            |\n",
      "|43021|0      |3.292             |2008-08-22  |0      |Sex Galaxy                                        |\n",
      "+-----+-------+------------------+------------+-------+--------------------------------------------------+\n",
      "only showing top 20 rows\n",
      "\n"
     ]
    }
   ],
   "source": [
    "df.show(truncate=False)"
   ]
  },
  {
   "cell_type": "markdown",
   "id": "3145580c",
   "metadata": {},
   "source": [
    "###### Missing Values:"
   ]
  },
  {
   "cell_type": "code",
   "execution_count": 21,
   "id": "d40cdbf4",
   "metadata": {},
   "outputs": [],
   "source": [
    "from pyspark.sql.functions import *"
   ]
  },
  {
   "cell_type": "code",
   "execution_count": 16,
   "id": "e7c1c3d3",
   "metadata": {},
   "outputs": [
    {
     "data": {
      "text/plain": [
       "215"
      ]
     },
     "execution_count": 16,
     "metadata": {},
     "output_type": "execute_result"
    }
   ],
   "source": [
    "# Counting the number of missing values in a column:\n",
    "df.filter((df['popularity'] == '') | df['popularity'].isNull() | isnan(df['popularity'])).count()"
   ]
  },
  {
   "cell_type": "code",
   "execution_count": 17,
   "id": "9a446259",
   "metadata": {},
   "outputs": [
    {
     "name": "stdout",
     "output_type": "stream",
     "text": [
      "+---+------+----------+------------+-------+-----+\n",
      "| id|budget|popularity|release_date|revenue|title|\n",
      "+---+------+----------+------------+-------+-----+\n",
      "|125|   125|       215|         221|    215|  304|\n",
      "+---+------+----------+------------+-------+-----+\n",
      "\n"
     ]
    }
   ],
   "source": [
    "# Calculating all the missing values in the DataFrame:\n",
    "\n",
    "df.select([count(when((col(c) == '') | col(c).isNull() | isnan(c), c)).alias(c) for c in df.columns]).show()"
   ]
  },
  {
   "cell_type": "markdown",
   "id": "0ea36ade",
   "metadata": {},
   "source": [
    "###### Counting Frequencies:"
   ]
  },
  {
   "cell_type": "code",
   "execution_count": 18,
   "id": "96091169",
   "metadata": {},
   "outputs": [
    {
     "name": "stdout",
     "output_type": "stream",
     "text": [
      "+--------------------+-----+\n",
      "|               title|count|\n",
      "+--------------------+-----+\n",
      "|   The Corn Is Green|    1|\n",
      "|Meet The Browns -...|    1|\n",
      "|Morenita, El Esca...|    1|\n",
      "| Father Takes a Wife|    1|\n",
      "|The Werewolf of W...|    1|\n",
      "|My Wife Is a Gang...|    1|\n",
      "|Depeche Mode: Tou...|    1|\n",
      "|  A Woman Is a Woman|    1|\n",
      "|History Is Made a...|    1|\n",
      "|      Colombian Love|    1|\n",
      "|        Ace Attorney|    1|\n",
      "|     Not Like Others|    1|\n",
      "|40 Guns to Apache...|    1|\n",
      "|          Middle Men|    1|\n",
      "|         It's a Gift|    1|\n",
      "|    La Vie de Bohème|    1|\n",
      "|Rasputin: The Mad...|    1|\n",
      "|The Ballad of Jac...|    1|\n",
      "|         How to Deal|    1|\n",
      "|             Freaked|    1|\n",
      "+--------------------+-----+\n",
      "only showing top 20 rows\n",
      "\n"
     ]
    }
   ],
   "source": [
    "# counting frequency of title column:\n",
    "df.groupBy('title').count().show()"
   ]
  },
  {
   "cell_type": "code",
   "execution_count": 21,
   "id": "759661e9",
   "metadata": {},
   "outputs": [
    {
     "name": "stdout",
     "output_type": "stream",
     "text": [
      "+--------------------+-----+\n",
      "|title               |count|\n",
      "+--------------------+-----+\n",
      "|null                |304  |\n",
      "|Les Misérables      |8    |\n",
      "|Cinderella          |8    |\n",
      "|The Three Musketeers|8    |\n",
      "|Hamlet              |7    |\n",
      "|Dracula             |7    |\n",
      "|A Christmas Carol   |7    |\n",
      "|The Island          |7    |\n",
      "|Frankenstein        |7    |\n",
      "|Borderline          |6    |\n",
      "+--------------------+-----+\n",
      "only showing top 10 rows\n",
      "\n"
     ]
    }
   ],
   "source": [
    "# Getting the 10 most frequent titles:\n",
    "df.groupBy('title').count().sort(desc(\"count\")).show(10, False)"
   ]
  },
  {
   "cell_type": "code",
   "execution_count": 22,
   "id": "3a476419",
   "metadata": {},
   "outputs": [],
   "source": [
    "# Subsetting to eliminate the missing values:\n",
    "# df_temp will get all the not null values:\n",
    "df_temp = df.filter((df['title'] != '') & df['title'].isNotNull() & (~isnan(df['title'])))"
   ]
  },
  {
   "cell_type": "code",
   "execution_count": 25,
   "id": "7097c19f",
   "metadata": {},
   "outputs": [
    {
     "name": "stdout",
     "output_type": "stream",
     "text": [
      "+--------------------+-----+\n",
      "|title               |count|\n",
      "+--------------------+-----+\n",
      "|Les Misérables      |8    |\n",
      "|Cinderella          |8    |\n",
      "|The Three Musketeers|8    |\n",
      "|Dracula             |7    |\n",
      "|The Island          |7    |\n",
      "|Frankenstein        |7    |\n",
      "|A Christmas Carol   |7    |\n",
      "|Hamlet              |7    |\n",
      "|Crime and Punishment|6    |\n",
      "|Beauty and the Beast|6    |\n",
      "+--------------------+-----+\n",
      "only showing top 10 rows\n",
      "\n"
     ]
    }
   ],
   "source": [
    "df_temp.groupBy('title').count().filter(\"`count` > 4\").sort(desc(\"count\")).show(10, False)"
   ]
  },
  {
   "cell_type": "code",
   "execution_count": 33,
   "id": "1d26b6ad",
   "metadata": {},
   "outputs": [
    {
     "data": {
      "text/plain": [
       "111"
      ]
     },
     "execution_count": 33,
     "metadata": {},
     "output_type": "execute_result"
    }
   ],
   "source": [
    "# Finding number of titles occuring 4 or more times:\n",
    "df_temp.groupBy(df_temp['title']).count().filter(\"`count` >= 4\").sort(desc(\"count\")).count()"
   ]
  },
  {
   "cell_type": "code",
   "execution_count": 34,
   "id": "7272a91f",
   "metadata": {},
   "outputs": [],
   "source": [
    "# deleting the temporary df we created:\n",
    "del df_temp"
   ]
  },
  {
   "cell_type": "markdown",
   "id": "36b77dd2",
   "metadata": {},
   "source": [
    "###### Casting Variables"
   ]
  },
  {
   "cell_type": "code",
   "execution_count": 22,
   "id": "678c61e4",
   "metadata": {},
   "outputs": [
    {
     "name": "stdout",
     "output_type": "stream",
     "text": [
      "root\n",
      " |-- id: string (nullable = true)\n",
      " |-- budget: string (nullable = true)\n",
      " |-- popularity: string (nullable = true)\n",
      " |-- release_date: string (nullable = true)\n",
      " |-- revenue: string (nullable = true)\n",
      " |-- title: string (nullable = true)\n",
      "\n"
     ]
    }
   ],
   "source": [
    "df.printSchema()"
   ]
  },
  {
   "cell_type": "markdown",
   "id": "88896251",
   "metadata": {},
   "source": [
    "We can see that all the columns are strings, we need to change it to their correct data types"
   ]
  },
  {
   "cell_type": "code",
   "execution_count": 23,
   "id": "e3b8b693",
   "metadata": {},
   "outputs": [],
   "source": [
    "# Casting:\n",
    "df = df.withColumn('budget', df['budget'].cast('float'))"
   ]
  },
  {
   "cell_type": "code",
   "execution_count": 24,
   "id": "bcc90205",
   "metadata": {},
   "outputs": [
    {
     "data": {
      "text/plain": [
       "[('id', 'string'),\n",
       " ('budget', 'float'),\n",
       " ('popularity', 'string'),\n",
       " ('release_date', 'string'),\n",
       " ('revenue', 'string'),\n",
       " ('title', 'string')]"
      ]
     },
     "execution_count": 24,
     "metadata": {},
     "output_type": "execute_result"
    }
   ],
   "source": [
    "# After casting:\n",
    "df.dtypes"
   ]
  },
  {
   "cell_type": "code",
   "execution_count": 25,
   "id": "0fff5496",
   "metadata": {},
   "outputs": [],
   "source": [
    "from pyspark.sql.types import *"
   ]
  },
  {
   "cell_type": "code",
   "execution_count": 26,
   "id": "aa44cd1e",
   "metadata": {},
   "outputs": [],
   "source": [
    "# Identifying the types of the cols:\n",
    "int_vars = ['id']\n",
    "float_vars = ['budget', 'popularity', 'revenue']\n",
    "date_vars = ['release_date']"
   ]
  },
  {
   "cell_type": "code",
   "execution_count": 27,
   "id": "7291a831",
   "metadata": {},
   "outputs": [],
   "source": [
    "# Converting the cols to correct data types:\n",
    "\n",
    "# integer:\n",
    "for col in int_vars:\n",
    "    df = df.withColumn(col, df[col].cast(IntegerType()))\n",
    "    \n",
    "# float:\n",
    "for col in float_vars:\n",
    "    df = df.withColumn(col, df[col].cast(FloatType()))\n",
    "    \n",
    "# date:\n",
    "for col in date_vars:\n",
    "    df = df.withColumn(col, df[col].cast(DateType()))"
   ]
  },
  {
   "cell_type": "code",
   "execution_count": 28,
   "id": "2b8e442b",
   "metadata": {},
   "outputs": [
    {
     "data": {
      "text/plain": [
       "[('id', 'int'),\n",
       " ('budget', 'float'),\n",
       " ('popularity', 'float'),\n",
       " ('release_date', 'date'),\n",
       " ('revenue', 'float'),\n",
       " ('title', 'string')]"
      ]
     },
     "execution_count": 28,
     "metadata": {},
     "output_type": "execute_result"
    }
   ],
   "source": [
    "df.dtypes"
   ]
  },
  {
   "cell_type": "markdown",
   "id": "401aac66",
   "metadata": {},
   "source": [
    "NOTE - while reading the data, we can use inferSchema=True, pyspark will automatically cast the variables for us"
   ]
  },
  {
   "cell_type": "code",
   "execution_count": 29,
   "id": "f61fdc69",
   "metadata": {},
   "outputs": [
    {
     "name": "stdout",
     "output_type": "stream",
     "text": [
      "+-----+---------+----------+------------+---------+--------------------------------------------------+\n",
      "|id   |budget   |popularity|release_date|revenue  |title                                             |\n",
      "+-----+---------+----------+------------+---------+--------------------------------------------------+\n",
      "|43000|0.0      |2.503     |1962-05-23  |0.0      |The Elusive Corporal                              |\n",
      "|43001|0.0      |5.51      |1962-11-12  |0.0      |Sundays and Cybele                                |\n",
      "|43002|0.0      |5.62      |1962-05-24  |0.0      |Lonely Are the Brave                              |\n",
      "|43003|0.0      |7.159     |1975-03-12  |0.0      |F for Fake                                        |\n",
      "|43004|500000.0 |3.988     |1962-10-09  |0.0      |Long Day's Journey Into Night                     |\n",
      "|43006|0.0      |3.194     |1962-03-09  |0.0      |My Geisha                                         |\n",
      "|43007|0.0      |2.689     |1962-10-31  |0.0      |Period of Adjustment                              |\n",
      "|43008|0.0      |6.537     |1959-03-13  |0.0      |The Hanging Tree                                  |\n",
      "|43010|0.0      |4.297     |1962-01-01  |0.0      |Sherlock Holmes and the Deadly Necklace           |\n",
      "|43011|0.0      |4.417     |1962-01-01  |0.0      |Sodom and Gomorrah                                |\n",
      "|43012|7000000.0|4.722     |1962-11-21  |4000000.0|Taras Bulba                                       |\n",
      "|43013|0.0      |2.543     |1962-04-17  |0.0      |The Counterfeit Traitor                           |\n",
      "|43014|0.0      |4.303     |1962-10-24  |0.0      |Tower of London                                   |\n",
      "|43015|0.0      |3.493     |1962-12-07  |0.0      |Varan the Unbelievable                            |\n",
      "|43016|0.0      |2.851     |1962-01-01  |0.0      |Waltz of the Toreadors                            |\n",
      "|43017|0.0      |4.047     |1961-10-11  |0.0      |Back Street                                       |\n",
      "|43018|0.0      |2.661     |1961-06-02  |0.0      |Gidget Goes Hawaiian                              |\n",
      "|43019|0.0      |3.225     |2010-05-28  |0.0      |Schuks Tshabalala's Survival Guide to South Africa|\n",
      "|43020|0.0      |5.72      |1961-06-15  |0.0      |The Colossus of Rhodes                            |\n",
      "|43021|0.0      |3.292     |2008-08-22  |0.0      |Sex Galaxy                                        |\n",
      "+-----+---------+----------+------------+---------+--------------------------------------------------+\n",
      "only showing top 20 rows\n",
      "\n"
     ]
    }
   ],
   "source": [
    "# Looking at the data:\n",
    "df.show(20, False)"
   ]
  },
  {
   "cell_type": "markdown",
   "id": "6a737d02",
   "metadata": {},
   "source": [
    "###### Descriptive Statistics:"
   ]
  },
  {
   "cell_type": "code",
   "execution_count": 22,
   "id": "bba66671",
   "metadata": {},
   "outputs": [
    {
     "name": "stdout",
     "output_type": "stream",
     "text": [
      "+-------+------------------+--------------------+-----------------+-------------------+--------------------+\n",
      "|summary|                id|              budget|       popularity|            revenue|               title|\n",
      "+-------+------------------+--------------------+-----------------+-------------------+--------------------+\n",
      "|  count|             43784|               43873|            43783|              43783|               43694|\n",
      "|   mean|44502.304312077475|   3736901.834963167|5.295444259579189|  9697079.597382545|            Infinity|\n",
      "| stddev|27189.646588626394|1.5871814952777326E7|6.168030519208252|5.687938449628811E7|                 NaN|\n",
      "|    min|                 2|                 0.0|              0.6|                0.0|!Women Art Revolu...|\n",
      "|    max|            100988|               3.8E8|            180.0|       2.78796518E9|       시크릿 Secret|\n",
      "+-------+------------------+--------------------+-----------------+-------------------+--------------------+\n",
      "\n"
     ]
    }
   ],
   "source": [
    "# Describing the data:\n",
    "df.describe().show()"
   ]
  },
  {
   "cell_type": "code",
   "execution_count": 23,
   "id": "2f5c19db",
   "metadata": {},
   "outputs": [],
   "source": [
    "# Calculating the MEDIAN of the Budget Column:\n",
    "\n",
    "# before we need to eliminate the null values:\n",
    "df_temp = df.filter((df['budget'] != 0) & df['budget'].isNotNull() & (~isnan(df['budget'])))"
   ]
  },
  {
   "cell_type": "code",
   "execution_count": 24,
   "id": "1c3e68f5",
   "metadata": {},
   "outputs": [
    {
     "name": "stdout",
     "output_type": "stream",
     "text": [
      "Median of Budget Column: [5000000.0]\n"
     ]
    }
   ],
   "source": [
    "# median:\n",
    "median = df_temp.approxQuantile('budget', [0.5], 0.1)  # 0.5 - is the percentile, 0.5 gets the median.\n",
    "print(f\"Median of Budget Column: {median}\")"
   ]
  },
  {
   "cell_type": "markdown",
   "id": "8f8a6738",
   "metadata": {},
   "source": [
    "##### Distinct Value Count"
   ]
  },
  {
   "cell_type": "code",
   "execution_count": 25,
   "id": "42b06930",
   "metadata": {},
   "outputs": [
    {
     "name": "stdout",
     "output_type": "stream",
     "text": [
      "+-----+\n",
      "|count|\n",
      "+-----+\n",
      "|41138|\n",
      "+-----+\n",
      "\n"
     ]
    }
   ],
   "source": [
    "# Counting the distinct values in title:\n",
    "df.agg(countDistinct(\"title\").alias(\"count\")).show()"
   ]
  },
  {
   "cell_type": "code",
   "execution_count": 26,
   "id": "3f08aad6",
   "metadata": {},
   "outputs": [
    {
     "data": {
      "text/plain": [
       "41139"
      ]
     },
     "execution_count": 26,
     "metadata": {},
     "output_type": "execute_result"
    }
   ],
   "source": [
    "# Alternate:\n",
    "df.select(\"title\").distinct().count()"
   ]
  },
  {
   "cell_type": "code",
   "execution_count": 27,
   "id": "124700b8",
   "metadata": {},
   "outputs": [],
   "source": [
    "# Extracting the year from the release_date:\n",
    "df_temp = df.withColumn('release_year', year(df['release_date']))"
   ]
  },
  {
   "cell_type": "code",
   "execution_count": 28,
   "id": "7d809382",
   "metadata": {},
   "outputs": [
    {
     "name": "stdout",
     "output_type": "stream",
     "text": [
      "+-----+---------+----------+------------+---------+--------------------+------------+\n",
      "|   id|   budget|popularity|release_date|  revenue|               title|release_year|\n",
      "+-----+---------+----------+------------+---------+--------------------+------------+\n",
      "|43000|      0.0|     2.503|  1962-05-23|      0.0|The Elusive Corporal|        1962|\n",
      "|43001|      0.0|      5.51|  1962-11-12|      0.0|  Sundays and Cybele|        1962|\n",
      "|43002|      0.0|      5.62|  1962-05-24|      0.0|Lonely Are the Brave|        1962|\n",
      "|43003|      0.0|     7.159|  1975-03-12|      0.0|          F for Fake|        1975|\n",
      "|43004| 500000.0|     3.988|  1962-10-09|      0.0|Long Day's Journe...|        1962|\n",
      "|43006|      0.0|     3.194|  1962-03-09|      0.0|           My Geisha|        1962|\n",
      "|43007|      0.0|     2.689|  1962-10-31|      0.0|Period of Adjustment|        1962|\n",
      "|43008|      0.0|     6.537|  1959-03-13|      0.0|    The Hanging Tree|        1959|\n",
      "|43010|      0.0|     4.297|  1962-01-01|      0.0|Sherlock Holmes a...|        1962|\n",
      "|43011|      0.0|     4.417|  1962-01-01|      0.0|  Sodom and Gomorrah|        1962|\n",
      "|43012|7000000.0|     4.722|  1962-11-21|4000000.0|         Taras Bulba|        1962|\n",
      "|43013|      0.0|     2.543|  1962-04-17|      0.0|The Counterfeit T...|        1962|\n",
      "|43014|      0.0|     4.303|  1962-10-24|      0.0|     Tower of London|        1962|\n",
      "|43015|      0.0|     3.493|  1962-12-07|      0.0|Varan the Unbelie...|        1962|\n",
      "|43016|      0.0|     2.851|  1962-01-01|      0.0|Waltz of the Tore...|        1962|\n",
      "|43017|      0.0|     4.047|  1961-10-11|      0.0|         Back Street|        1961|\n",
      "|43018|      0.0|     2.661|  1961-06-02|      0.0|Gidget Goes Hawaiian|        1961|\n",
      "|43019|      0.0|     3.225|  2010-05-28|      0.0|Schuks Tshabalala...|        2010|\n",
      "|43020|      0.0|      5.72|  1961-06-15|      0.0|The Colossus of R...|        1961|\n",
      "|43021|      0.0|     3.292|  2008-08-22|      0.0|          Sex Galaxy|        2008|\n",
      "+-----+---------+----------+------------+---------+--------------------+------------+\n",
      "only showing top 20 rows\n",
      "\n"
     ]
    }
   ],
   "source": [
    "df_temp.show()"
   ]
  },
  {
   "cell_type": "code",
   "execution_count": 29,
   "id": "8b0edb0f",
   "metadata": {},
   "outputs": [],
   "source": [
    "# extracting the month and the day:\n",
    "df_temp = df_temp.withColumn('release_month', month('release_date'))\n",
    "\n",
    "df_temp = df_temp.withColumn('release_day', dayofmonth('release_date'))"
   ]
  },
  {
   "cell_type": "code",
   "execution_count": 30,
   "id": "eaab0607",
   "metadata": {},
   "outputs": [
    {
     "name": "stdout",
     "output_type": "stream",
     "text": [
      "+-----+---------+----------+------------+---------+--------------------+------------+-------------+-----------+\n",
      "|   id|   budget|popularity|release_date|  revenue|               title|release_year|release_month|release_day|\n",
      "+-----+---------+----------+------------+---------+--------------------+------------+-------------+-----------+\n",
      "|43000|      0.0|     2.503|  1962-05-23|      0.0|The Elusive Corporal|        1962|            5|         23|\n",
      "|43001|      0.0|      5.51|  1962-11-12|      0.0|  Sundays and Cybele|        1962|           11|         12|\n",
      "|43002|      0.0|      5.62|  1962-05-24|      0.0|Lonely Are the Brave|        1962|            5|         24|\n",
      "|43003|      0.0|     7.159|  1975-03-12|      0.0|          F for Fake|        1975|            3|         12|\n",
      "|43004| 500000.0|     3.988|  1962-10-09|      0.0|Long Day's Journe...|        1962|           10|          9|\n",
      "|43006|      0.0|     3.194|  1962-03-09|      0.0|           My Geisha|        1962|            3|          9|\n",
      "|43007|      0.0|     2.689|  1962-10-31|      0.0|Period of Adjustment|        1962|           10|         31|\n",
      "|43008|      0.0|     6.537|  1959-03-13|      0.0|    The Hanging Tree|        1959|            3|         13|\n",
      "|43010|      0.0|     4.297|  1962-01-01|      0.0|Sherlock Holmes a...|        1962|            1|          1|\n",
      "|43011|      0.0|     4.417|  1962-01-01|      0.0|  Sodom and Gomorrah|        1962|            1|          1|\n",
      "|43012|7000000.0|     4.722|  1962-11-21|4000000.0|         Taras Bulba|        1962|           11|         21|\n",
      "|43013|      0.0|     2.543|  1962-04-17|      0.0|The Counterfeit T...|        1962|            4|         17|\n",
      "|43014|      0.0|     4.303|  1962-10-24|      0.0|     Tower of London|        1962|           10|         24|\n",
      "|43015|      0.0|     3.493|  1962-12-07|      0.0|Varan the Unbelie...|        1962|           12|          7|\n",
      "|43016|      0.0|     2.851|  1962-01-01|      0.0|Waltz of the Tore...|        1962|            1|          1|\n",
      "|43017|      0.0|     4.047|  1961-10-11|      0.0|         Back Street|        1961|           10|         11|\n",
      "|43018|      0.0|     2.661|  1961-06-02|      0.0|Gidget Goes Hawaiian|        1961|            6|          2|\n",
      "|43019|      0.0|     3.225|  2010-05-28|      0.0|Schuks Tshabalala...|        2010|            5|         28|\n",
      "|43020|      0.0|      5.72|  1961-06-15|      0.0|The Colossus of R...|        1961|            6|         15|\n",
      "|43021|      0.0|     3.292|  2008-08-22|      0.0|          Sex Galaxy|        2008|            8|         22|\n",
      "+-----+---------+----------+------------+---------+--------------------+------------+-------------+-----------+\n",
      "only showing top 20 rows\n",
      "\n"
     ]
    }
   ],
   "source": [
    "df_temp.show()"
   ]
  },
  {
   "cell_type": "code",
   "execution_count": 31,
   "id": "88794682",
   "metadata": {},
   "outputs": [
    {
     "name": "stdout",
     "output_type": "stream",
     "text": [
      "+------------+------------+\n",
      "|release_year|count(title)|\n",
      "+------------+------------+\n",
      "|1959        |271         |\n",
      "|1990        |496         |\n",
      "|1975        |365         |\n",
      "|1977        |415         |\n",
      "|1924        |19          |\n",
      "|2003        |1199        |\n",
      "|2007        |1896        |\n",
      "|2018        |4           |\n",
      "|1974        |434         |\n",
      "|2015        |13          |\n",
      "+------------+------------+\n",
      "only showing top 10 rows\n",
      "\n"
     ]
    }
   ],
   "source": [
    "# calculating distinct movie releases by year:\n",
    "\n",
    "df_temp.groupBy('release_year').agg(countDistinct(\"title\")).show(10, False)"
   ]
  },
  {
   "cell_type": "code",
   "execution_count": 32,
   "id": "e2c74eef",
   "metadata": {},
   "outputs": [],
   "source": [
    "del df_temp"
   ]
  },
  {
   "cell_type": "markdown",
   "id": "311aa1b2",
   "metadata": {},
   "source": [
    "###### Filtering\n",
    ".with() and .filter() work in the same way"
   ]
  },
  {
   "cell_type": "code",
   "execution_count": 33,
   "id": "d444373e",
   "metadata": {},
   "outputs": [
    {
     "name": "stdout",
     "output_type": "stream",
     "text": [
      "+-----+---------+----------+------------+-----------+--------------------------+\n",
      "|id   |budget   |popularity|release_date|revenue    |title                     |\n",
      "+-----+---------+----------+------------+-----------+--------------------------+\n",
      "|43957|500000.0 |2.649     |2005-06-28  |1000000.0  |Meet The Browns - The Play|\n",
      "|39997|0.0      |3.585     |1989-11-15  |0.0        |Meet the Hollowheads      |\n",
      "|16710|0.0      |11.495    |2008-03-21  |4.1939392E7|Meet the Browns           |\n",
      "|20430|0.0      |3.614     |2004-01-29  |0.0        |Meet Market               |\n",
      "|76435|0.0      |1.775     |2011-03-31  |0.0        |Meet the In-Laws          |\n",
      "|76516|5000000.0|4.05      |1990-11-08  |485772.0   |Meet the Applegates       |\n",
      "|7278 |3.0E7    |11.116    |2008-01-24  |8.4646832E7|Meet the Spartans         |\n",
      "|32574|0.0      |7.42      |1941-03-14  |0.0        |Meet John Doe             |\n",
      "|40506|0.0      |4.814     |1997-01-31  |0.0        |Meet Wally Sparks         |\n",
      "|40688|2.4E7    |6.848     |1998-03-27  |4562146.0  |Meet the Deedles          |\n",
      "+-----+---------+----------+------------+-----------+--------------------------+\n",
      "only showing top 10 rows\n",
      "\n"
     ]
    }
   ],
   "source": [
    "# Filtering the titles which start with 'Meet':\n",
    "df.filter(df['title'].like(\"Meet%\")).show(10, False)"
   ]
  },
  {
   "cell_type": "code",
   "execution_count": 34,
   "id": "2ecf8f38",
   "metadata": {},
   "outputs": [
    {
     "name": "stdout",
     "output_type": "stream",
     "text": [
      "+-----+--------+----------+------------+-------+---------------------------------------+\n",
      "|id   |budget  |popularity|release_date|revenue|title                                  |\n",
      "+-----+--------+----------+------------+-------+---------------------------------------+\n",
      "|43000|0.0     |2.503     |1962-05-23  |0.0    |The Elusive Corporal                   |\n",
      "|43001|0.0     |5.51      |1962-11-12  |0.0    |Sundays and Cybele                     |\n",
      "|43002|0.0     |5.62      |1962-05-24  |0.0    |Lonely Are the Brave                   |\n",
      "|43003|0.0     |7.159     |1975-03-12  |0.0    |F for Fake                             |\n",
      "|43004|500000.0|3.988     |1962-10-09  |0.0    |Long Day's Journey Into Night          |\n",
      "|43006|0.0     |3.194     |1962-03-09  |0.0    |My Geisha                              |\n",
      "|43007|0.0     |2.689     |1962-10-31  |0.0    |Period of Adjustment                   |\n",
      "|43008|0.0     |6.537     |1959-03-13  |0.0    |The Hanging Tree                       |\n",
      "|43010|0.0     |4.297     |1962-01-01  |0.0    |Sherlock Holmes and the Deadly Necklace|\n",
      "|43011|0.0     |4.417     |1962-01-01  |0.0    |Sodom and Gomorrah                     |\n",
      "+-----+--------+----------+------------+-------+---------------------------------------+\n",
      "only showing top 10 rows\n",
      "\n"
     ]
    }
   ],
   "source": [
    "# Filtering titles which do not end with 's':\n",
    "df.filter(~df['title'].like(\"%s\")).show(10, False)"
   ]
  },
  {
   "cell_type": "code",
   "execution_count": 35,
   "id": "3b2b50ea",
   "metadata": {},
   "outputs": [
    {
     "name": "stdout",
     "output_type": "stream",
     "text": [
      "+-----+------+----------+------------+------------+------------------------+\n",
      "|id   |budget|popularity|release_date|revenue     |title                   |\n",
      "+-----+------+----------+------------+------------+------------------------+\n",
      "|43100|0.0   |7.252     |1959-10-07  |0.0         |General Della Rovere    |\n",
      "|43152|0.0   |5.126     |2001-06-21  |0.0         |Love on a Diet          |\n",
      "|43191|0.0   |4.921     |1952-08-29  |0.0         |Beware, My Lovely       |\n",
      "|43281|0.0   |2.411     |1989-11-22  |0.0         |Love Without Pity       |\n",
      "|43343|0.0   |3.174     |1953-12-25  |0.0         |Easy to Love            |\n",
      "|43347|3.0E7 |14.863    |2010-11-22  |1.02820008E8|Love & Other Drugs      |\n",
      "|43362|0.0   |1.705     |1952-02-23  |0.0         |Love Is Better Than Ever|\n",
      "|43363|0.0   |2.02      |1952-05-29  |0.0         |Lovely to Look At       |\n",
      "|43395|0.0   |4.758     |1950-11-10  |0.0         |Two Weeks with Love     |\n",
      "|43455|0.0   |4.669     |1948-08-23  |0.0         |The Loves of Carmen     |\n",
      "+-----+------+----------+------------+------------+------------------------+\n",
      "only showing top 10 rows\n",
      "\n"
     ]
    }
   ],
   "source": [
    "# Using REGEX with rlike:\n",
    "\n",
    "# Finding titles which contain 'ove' in them:\n",
    "df.filter(df['title'].rlike('\\w*ove')).show(10, False)"
   ]
  },
  {
   "cell_type": "code",
   "execution_count": 36,
   "id": "f382dec3",
   "metadata": {},
   "outputs": [
    {
     "name": "stdout",
     "output_type": "stream",
     "text": [
      "+-----+------+----------+------------+------------+------------------------+\n",
      "|id   |budget|popularity|release_date|revenue     |title                   |\n",
      "+-----+------+----------+------------+------------+------------------------+\n",
      "|43100|0.0   |7.252     |1959-10-07  |0.0         |General Della Rovere    |\n",
      "|43152|0.0   |5.126     |2001-06-21  |0.0         |Love on a Diet          |\n",
      "|43191|0.0   |4.921     |1952-08-29  |0.0         |Beware, My Lovely       |\n",
      "|43281|0.0   |2.411     |1989-11-22  |0.0         |Love Without Pity       |\n",
      "|43343|0.0   |3.174     |1953-12-25  |0.0         |Easy to Love            |\n",
      "|43347|3.0E7 |14.863    |2010-11-22  |1.02820008E8|Love & Other Drugs      |\n",
      "|43362|0.0   |1.705     |1952-02-23  |0.0         |Love Is Better Than Ever|\n",
      "|43363|0.0   |2.02      |1952-05-29  |0.0         |Lovely to Look At       |\n",
      "|43395|0.0   |4.758     |1950-11-10  |0.0         |Two Weeks with Love     |\n",
      "|43455|0.0   |4.669     |1948-08-23  |0.0         |The Loves of Carmen     |\n",
      "+-----+------+----------+------------+------------+------------------------+\n",
      "only showing top 10 rows\n",
      "\n"
     ]
    }
   ],
   "source": [
    "# The above function can also be written as follows:\n",
    "df.filter(df['title'].contains('ove')).show(10, False)"
   ]
  },
  {
   "cell_type": "code",
   "execution_count": 37,
   "id": "48a1688d",
   "metadata": {},
   "outputs": [
    {
     "name": "stdout",
     "output_type": "stream",
     "text": [
      "root\n",
      " |-- release_date: date (nullable = true)\n",
      " |-- revenue: float (nullable = true)\n",
      "\n"
     ]
    }
   ],
   "source": [
    "# if we have thousands of columns and we need to find some, we can use the colRegex function to do so:\n",
    "\n",
    "#finding columns that start with 're':\n",
    "df.select(df.colRegex(\"`re\\w*`\")).printSchema()"
   ]
  },
  {
   "cell_type": "markdown",
   "id": "53588592",
   "metadata": {},
   "source": [
    "###### Creating New Columns:"
   ]
  },
  {
   "cell_type": "code",
   "execution_count": 38,
   "id": "142f55fe",
   "metadata": {},
   "outputs": [],
   "source": [
    "# lets create a column with the variance of popularity:\n",
    "\n",
    "# first we calculate the mean:\n",
    "mean_population = df.agg({'popularity': 'mean'}).collect()[0]['avg(popularity)']\n",
    "number_of_records = df.count()"
   ]
  },
  {
   "cell_type": "code",
   "execution_count": 39,
   "id": "9f3efd44",
   "metadata": {},
   "outputs": [
    {
     "data": {
      "text/plain": [
       "(5.295444259579189, 43998)"
      ]
     },
     "execution_count": 39,
     "metadata": {},
     "output_type": "execute_result"
    }
   ],
   "source": [
    "mean_population, number_of_records"
   ]
  },
  {
   "cell_type": "code",
   "execution_count": 40,
   "id": "b97075b6",
   "metadata": {},
   "outputs": [],
   "source": [
    "# Creating a mean column since we will need it:\n",
    "df = df.withColumn('mean', lit(mean_population))"
   ]
  },
  {
   "cell_type": "code",
   "execution_count": 41,
   "id": "25a4a6f2",
   "metadata": {},
   "outputs": [
    {
     "name": "stdout",
     "output_type": "stream",
     "text": [
      "root\n",
      " |-- id: integer (nullable = true)\n",
      " |-- budget: float (nullable = true)\n",
      " |-- popularity: float (nullable = true)\n",
      " |-- release_date: date (nullable = true)\n",
      " |-- revenue: float (nullable = true)\n",
      " |-- title: string (nullable = true)\n",
      " |-- mean: double (nullable = false)\n",
      "\n"
     ]
    }
   ],
   "source": [
    "df.printSchema()"
   ]
  },
  {
   "cell_type": "code",
   "execution_count": 42,
   "id": "0716c1f3",
   "metadata": {},
   "outputs": [],
   "source": [
    "# creating the variance column:\n",
    "df = df.withColumn('variance', pow((df['popularity'] - df['mean']), 2))"
   ]
  },
  {
   "cell_type": "code",
   "execution_count": 43,
   "id": "99ba5039",
   "metadata": {},
   "outputs": [
    {
     "name": "stdout",
     "output_type": "stream",
     "text": [
      "root\n",
      " |-- id: integer (nullable = true)\n",
      " |-- budget: float (nullable = true)\n",
      " |-- popularity: float (nullable = true)\n",
      " |-- release_date: date (nullable = true)\n",
      " |-- revenue: float (nullable = true)\n",
      " |-- title: string (nullable = true)\n",
      " |-- mean: double (nullable = false)\n",
      " |-- variance: double (nullable = true)\n",
      "\n"
     ]
    }
   ],
   "source": [
    "df.printSchema()"
   ]
  },
  {
   "cell_type": "code",
   "execution_count": 44,
   "id": "237a4366",
   "metadata": {},
   "outputs": [],
   "source": [
    "# Now calculating the Variance of the Popularity:\n",
    "variance_sum = df.agg({'variance': 'sum'}).collect()[0]['sum(variance)']\n",
    "variance = variance_sum / number_of_records"
   ]
  },
  {
   "cell_type": "code",
   "execution_count": 45,
   "id": "5516c8c7",
   "metadata": {},
   "outputs": [
    {
     "name": "stdout",
     "output_type": "stream",
     "text": [
      "Variance of Popularity: 37.85782759382225\n"
     ]
    }
   ],
   "source": [
    "print(f\"Variance of Popularity: {variance}\")"
   ]
  },
  {
   "cell_type": "code",
   "execution_count": 46,
   "id": "db1aafaf",
   "metadata": {},
   "outputs": [
    {
     "name": "stdout",
     "output_type": "stream",
     "text": [
      "+-----+--------+----------+------------+-------+--------------------+-----------------+--------------------+\n",
      "|   id|  budget|popularity|release_date|revenue|               title|             mean|            variance|\n",
      "+-----+--------+----------+------------+-------+--------------------+-----------------+--------------------+\n",
      "|43000|     0.0|     2.503|  1962-05-23|    0.0|The Elusive Corporal|5.295444259579189|   7.797744825681142|\n",
      "|43001|     0.0|      5.51|  1962-11-12|    0.0|  Sundays and Cybele|5.295444259579189|0.046034263963398346|\n",
      "|43002|     0.0|      5.62|  1962-05-24|    0.0|Lonely Are the Brave|5.295444259579189| 0.10533635435520017|\n",
      "|43003|     0.0|     7.159|  1975-03-12|    0.0|          F for Fake|5.295444259579189|  3.4728396990815216|\n",
      "|43004|500000.0|     3.988|  1962-10-09|    0.0|Long Day's Journe...|5.295444259579189|   1.709410711356759|\n",
      "|43006|     0.0|     3.194|  1962-03-09|    0.0|           My Geisha|5.295444259579189|   4.416067952069205|\n",
      "|43007|     0.0|     2.689|  1962-10-31|    0.0|Period of Adjustment|5.295444259579189|   6.793552245032679|\n",
      "|43008|     0.0|     6.537|  1959-03-13|    0.0|    The Hanging Tree|5.295444259579189|  1.5414611017708733|\n",
      "|43010|     0.0|     4.297|  1962-01-01|    0.0|Sherlock Holmes a...|5.295444259579189|   0.996891076602093|\n",
      "|43011|     0.0|     4.417|  1962-01-01|    0.0|  Sodom and Gomorrah|5.295444259579189|  0.7716646388835591|\n",
      "+-----+--------+----------+------------+-------+--------------------+-----------------+--------------------+\n",
      "only showing top 10 rows\n",
      "\n"
     ]
    }
   ],
   "source": [
    "# Having a look at the dataframe:\n",
    "df.show(10)"
   ]
  },
  {
   "cell_type": "code",
   "execution_count": 47,
   "id": "ffb38ed0",
   "metadata": {},
   "outputs": [],
   "source": [
    "# Creating a new column based on budget and popularity which categorizes the movie into small, medium, large\n",
    "\n",
    "# first we need to define the function:\n",
    "def new_cols(budget, popularity):\n",
    "    if budget < 10000000:\n",
    "        budget_cat = \"small\"\n",
    "    elif budget < 100000000:\n",
    "        budget_cat = \"medium\"\n",
    "    else:\n",
    "        budget_cat = \"large\"\n",
    "        \n",
    "    if popularity < 3:\n",
    "        ratings = 'low'\n",
    "    elif popularity < 5:\n",
    "        ratings = 'mid'\n",
    "    else:\n",
    "        ratings = 'high'\n",
    "    \n",
    "    return budget_cat, ratings"
   ]
  },
  {
   "cell_type": "code",
   "execution_count": 48,
   "id": "11e737bd",
   "metadata": {},
   "outputs": [],
   "source": [
    "# Applying the user defined functions on DataFrame:\n",
    "\n",
    "udfb = udf(new_cols, StructType([\n",
    "    # name, data type, nullable\n",
    "    StructField(\"budget_cat\", StringType(), True),\n",
    "    StructField(name=\"ratings\", dataType=StringType(), nullable=True)\n",
    "]))"
   ]
  },
  {
   "cell_type": "code",
   "execution_count": 49,
   "id": "33dafebb",
   "metadata": {},
   "outputs": [],
   "source": [
    "# Now we will pass this user defined function with the two columns:\n",
    "df_temp = df.select('id', 'budget', 'popularity').withColumn('new_cats', udfb(\"budget\", \"popularity\"))"
   ]
  },
  {
   "cell_type": "code",
   "execution_count": 50,
   "id": "b204d7fc",
   "metadata": {},
   "outputs": [],
   "source": [
    "# Unbundle the StructType column to their individual columns:\n",
    "\n",
    "df_new = (df_temp.select('id', 'budget', 'popularity', 'new_cats').\n",
    "         withColumn('budget_cat', df_temp.new_cats.getItem('budget_cat')).\n",
    "         withColumn('ratings', df_temp.new_cats.getItem('ratings')).\n",
    "         drop('new_cats'))"
   ]
  },
  {
   "cell_type": "code",
   "execution_count": 51,
   "id": "2ee8e33c",
   "metadata": {},
   "outputs": [
    {
     "name": "stdout",
     "output_type": "stream",
     "text": [
      "root\n",
      " |-- id: integer (nullable = true)\n",
      " |-- budget: float (nullable = true)\n",
      " |-- popularity: float (nullable = true)\n",
      " |-- new_cats: struct (nullable = true)\n",
      " |    |-- budget_cat: string (nullable = true)\n",
      " |    |-- ratings: string (nullable = true)\n",
      "\n"
     ]
    }
   ],
   "source": [
    "df_temp.printSchema()"
   ]
  },
  {
   "cell_type": "code",
   "execution_count": 52,
   "id": "8cb7e739",
   "metadata": {},
   "outputs": [
    {
     "name": "stdout",
     "output_type": "stream",
     "text": [
      "root\n",
      " |-- id: integer (nullable = true)\n",
      " |-- budget: float (nullable = true)\n",
      " |-- popularity: float (nullable = true)\n",
      " |-- budget_cat: string (nullable = true)\n",
      " |-- ratings: string (nullable = true)\n",
      "\n"
     ]
    }
   ],
   "source": [
    "df_new.printSchema()"
   ]
  },
  {
   "cell_type": "markdown",
   "id": "be4683fc",
   "metadata": {},
   "source": [
    "##### Deleting and Renaming Columns:"
   ]
  },
  {
   "cell_type": "code",
   "execution_count": 53,
   "id": "7598f339",
   "metadata": {},
   "outputs": [
    {
     "name": "stdout",
     "output_type": "stream",
     "text": [
      "root\n",
      " |-- id: integer (nullable = true)\n",
      " |-- budget: float (nullable = true)\n",
      " |-- popularity: float (nullable = true)\n",
      " |-- ratings: string (nullable = true)\n",
      "\n"
     ]
    }
   ],
   "source": [
    "# Deleting columns from a dataframe\n",
    "columns_to_drop = ['budget_cat']\n",
    "df_new = df_new.drop(*columns_to_drop)\n",
    "df_new.printSchema()"
   ]
  },
  {
   "cell_type": "markdown",
   "id": "b8a4ed82",
   "metadata": {},
   "source": [
    "Renaming can be done with the withColumnRenamed or using the alias function:"
   ]
  },
  {
   "cell_type": "code",
   "execution_count": 54,
   "id": "d5155078",
   "metadata": {},
   "outputs": [
    {
     "name": "stdout",
     "output_type": "stream",
     "text": [
      "root\n",
      " |-- film_id: integer (nullable = true)\n",
      " |-- budget: float (nullable = true)\n",
      " |-- popularity: float (nullable = true)\n",
      " |-- film_ratings: string (nullable = true)\n",
      "\n"
     ]
    }
   ],
   "source": [
    "# renaming using the withColumn method:\n",
    "df_new = df_new.withColumnRenamed('id', 'film_id').withColumnRenamed('ratings', 'film_ratings')\n",
    "df_new.printSchema()"
   ]
  },
  {
   "cell_type": "code",
   "execution_count": 55,
   "id": "09b25570",
   "metadata": {},
   "outputs": [
    {
     "name": "stdout",
     "output_type": "stream",
     "text": [
      "root\n",
      " |-- film_budget: float (nullable = true)\n",
      " |-- film_popularity: float (nullable = true)\n",
      "\n"
     ]
    }
   ],
   "source": [
    "# renaming multiple columns with alias function:\n",
    "new_names = [('budget', 'film_budget'), ('popularity', 'film_popularity')]\n",
    "\n",
    "df_new = df_new.select(list(map(lambda old, new: df_new[old].alias(new), *zip(*new_names))))\n",
    "df_new.printSchema()"
   ]
  },
  {
   "cell_type": "markdown",
   "id": "3b5f8eda",
   "metadata": {},
   "source": [
    "# Advanced Functions"
   ]
  },
  {
   "cell_type": "markdown",
   "id": "992d9b63",
   "metadata": {},
   "source": [
    "###### String Functions"
   ]
  },
  {
   "cell_type": "code",
   "execution_count": 56,
   "id": "b0852707",
   "metadata": {},
   "outputs": [
    {
     "name": "stdout",
     "output_type": "stream",
     "text": [
      "+-----+---------+----------+------------+---------+--------------------+-----------------+--------------------+\n",
      "|   id|   budget|popularity|release_date|  revenue|               title|             mean|            variance|\n",
      "+-----+---------+----------+------------+---------+--------------------+-----------------+--------------------+\n",
      "|43000|      0.0|     2.503|  1962-05-23|      0.0|The Elusive Corporal|5.295444259579189|   7.797744825681142|\n",
      "|43001|      0.0|      5.51|  1962-11-12|      0.0|  Sundays and Cybele|5.295444259579189|0.046034263963398346|\n",
      "|43002|      0.0|      5.62|  1962-05-24|      0.0|Lonely Are the Brave|5.295444259579189| 0.10533635435520017|\n",
      "|43003|      0.0|     7.159|  1975-03-12|      0.0|          F for Fake|5.295444259579189|  3.4728396990815216|\n",
      "|43004| 500000.0|     3.988|  1962-10-09|      0.0|Long Day's Journe...|5.295444259579189|   1.709410711356759|\n",
      "|43006|      0.0|     3.194|  1962-03-09|      0.0|           My Geisha|5.295444259579189|   4.416067952069205|\n",
      "|43007|      0.0|     2.689|  1962-10-31|      0.0|Period of Adjustment|5.295444259579189|   6.793552245032679|\n",
      "|43008|      0.0|     6.537|  1959-03-13|      0.0|    The Hanging Tree|5.295444259579189|  1.5414611017708733|\n",
      "|43010|      0.0|     4.297|  1962-01-01|      0.0|Sherlock Holmes a...|5.295444259579189|   0.996891076602093|\n",
      "|43011|      0.0|     4.417|  1962-01-01|      0.0|  Sodom and Gomorrah|5.295444259579189|  0.7716646388835591|\n",
      "|43012|7000000.0|     4.722|  1962-11-21|4000000.0|         Taras Bulba|5.295444259579189| 0.32883817884329936|\n",
      "|43013|      0.0|     2.543|  1962-04-17|      0.0|The Counterfeit T...|5.295444259579189|   7.575949496588105|\n",
      "|43014|      0.0|     4.303|  1962-10-24|      0.0|     Tower of London|5.295444259579189|  0.9849456613739271|\n",
      "|43015|      0.0|     3.493|  1962-12-07|      0.0|Varan the Unbelie...|5.295444259579189|   3.248805198877505|\n",
      "|43016|      0.0|     2.851|  1962-01-01|      0.0|Waltz of the Tore...|5.295444259579189|   5.975307393171506|\n",
      "|43017|      0.0|     4.047|  1961-10-11|      0.0|         Back Street|5.295444259579189|  1.5586132407239628|\n",
      "|43018|      0.0|     2.661|  1961-06-02|      0.0|Gidget Goes Hawaiian|5.295444259579189|   6.940296486482491|\n",
      "|43019|      0.0|     3.225|  2010-05-28|      0.0|Schuks Tshabalala...|5.295444259579189|  4.2867398269303285|\n",
      "|43020|      0.0|      5.72|  1961-06-15|      0.0|The Colossus of R...|5.295444259579189|  0.1802473985736286|\n",
      "|43021|      0.0|     3.292|  2008-08-22|      0.0|          Sex Galaxy|5.295444259579189|   4.013788679607341|\n",
      "+-----+---------+----------+------------+---------+--------------------+-----------------+--------------------+\n",
      "only showing top 20 rows\n",
      "\n"
     ]
    }
   ],
   "source": [
    "df.show()"
   ]
  },
  {
   "cell_type": "code",
   "execution_count": 57,
   "id": "535984f9",
   "metadata": {},
   "outputs": [],
   "source": [
    "cols_to_drop = ['mean', 'variance']\n",
    "df = df.drop(*cols_to_drop)"
   ]
  },
  {
   "cell_type": "code",
   "execution_count": 58,
   "id": "898fd030",
   "metadata": {},
   "outputs": [
    {
     "name": "stdout",
     "output_type": "stream",
     "text": [
      "root\n",
      " |-- id: integer (nullable = true)\n",
      " |-- budget: float (nullable = true)\n",
      " |-- popularity: float (nullable = true)\n",
      " |-- release_date: date (nullable = true)\n",
      " |-- revenue: float (nullable = true)\n",
      " |-- title: string (nullable = true)\n",
      "\n"
     ]
    }
   ],
   "source": [
    "df.printSchema()"
   ]
  },
  {
   "cell_type": "code",
   "execution_count": 59,
   "id": "c4dd1918",
   "metadata": {},
   "outputs": [],
   "source": [
    "df_new = (df.select('id', 'budget', 'popularity').\n",
    "         withColumn('budget_cat', when(df['budget'] < 10000000, 'small').when(df['budget'] < 100000000, 'medium').otherwise('big')).\n",
    "         withColumn('ratings', when(df['popularity'] < 3, 'low').when(df['popularity'] < 5, 'mid').otherwise('high')))"
   ]
  },
  {
   "cell_type": "code",
   "execution_count": 60,
   "id": "9e355f3d",
   "metadata": {},
   "outputs": [
    {
     "name": "stdout",
     "output_type": "stream",
     "text": [
      "+-----+---------+----------+----------+-------+\n",
      "|   id|   budget|popularity|budget_cat|ratings|\n",
      "+-----+---------+----------+----------+-------+\n",
      "|43000|      0.0|     2.503|     small|    low|\n",
      "|43001|      0.0|      5.51|     small|   high|\n",
      "|43002|      0.0|      5.62|     small|   high|\n",
      "|43003|      0.0|     7.159|     small|   high|\n",
      "|43004| 500000.0|     3.988|     small|    mid|\n",
      "|43006|      0.0|     3.194|     small|    mid|\n",
      "|43007|      0.0|     2.689|     small|    low|\n",
      "|43008|      0.0|     6.537|     small|   high|\n",
      "|43010|      0.0|     4.297|     small|    mid|\n",
      "|43011|      0.0|     4.417|     small|    mid|\n",
      "|43012|7000000.0|     4.722|     small|    mid|\n",
      "|43013|      0.0|     2.543|     small|    low|\n",
      "|43014|      0.0|     4.303|     small|    mid|\n",
      "|43015|      0.0|     3.493|     small|    mid|\n",
      "|43016|      0.0|     2.851|     small|    low|\n",
      "|43017|      0.0|     4.047|     small|    mid|\n",
      "|43018|      0.0|     2.661|     small|    low|\n",
      "|43019|      0.0|     3.225|     small|    mid|\n",
      "|43020|      0.0|      5.72|     small|   high|\n",
      "|43021|      0.0|     3.292|     small|    mid|\n",
      "+-----+---------+----------+----------+-------+\n",
      "only showing top 20 rows\n",
      "\n"
     ]
    }
   ],
   "source": [
    "df_new.show()"
   ]
  },
  {
   "cell_type": "code",
   "execution_count": 61,
   "id": "0818c35e",
   "metadata": {},
   "outputs": [
    {
     "name": "stdout",
     "output_type": "stream",
     "text": [
      "+-----+---------+----------+----------+-------+------------------+\n",
      "|   id|   budget|popularity|budget_cat|ratings|budget_cat_ratings|\n",
      "+-----+---------+----------+----------+-------+------------------+\n",
      "|43000|      0.0|     2.503|     small|    low|          smalllow|\n",
      "|43001|      0.0|      5.51|     small|   high|         smallhigh|\n",
      "|43002|      0.0|      5.62|     small|   high|         smallhigh|\n",
      "|43003|      0.0|     7.159|     small|   high|         smallhigh|\n",
      "|43004| 500000.0|     3.988|     small|    mid|          smallmid|\n",
      "|43006|      0.0|     3.194|     small|    mid|          smallmid|\n",
      "|43007|      0.0|     2.689|     small|    low|          smalllow|\n",
      "|43008|      0.0|     6.537|     small|   high|         smallhigh|\n",
      "|43010|      0.0|     4.297|     small|    mid|          smallmid|\n",
      "|43011|      0.0|     4.417|     small|    mid|          smallmid|\n",
      "|43012|7000000.0|     4.722|     small|    mid|          smallmid|\n",
      "|43013|      0.0|     2.543|     small|    low|          smalllow|\n",
      "|43014|      0.0|     4.303|     small|    mid|          smallmid|\n",
      "|43015|      0.0|     3.493|     small|    mid|          smallmid|\n",
      "|43016|      0.0|     2.851|     small|    low|          smalllow|\n",
      "|43017|      0.0|     4.047|     small|    mid|          smallmid|\n",
      "|43018|      0.0|     2.661|     small|    low|          smalllow|\n",
      "|43019|      0.0|     3.225|     small|    mid|          smallmid|\n",
      "|43020|      0.0|      5.72|     small|   high|         smallhigh|\n",
      "|43021|      0.0|     3.292|     small|    mid|          smallmid|\n",
      "+-----+---------+----------+----------+-------+------------------+\n",
      "only showing top 20 rows\n",
      "\n"
     ]
    }
   ],
   "source": [
    "# if we want to concatinate the budget_cat and ratings we can do so by using the concat method:\n",
    "df_new = df_new.withColumn('budget_cat_ratings',\n",
    "                          concat(df_new.budget_cat, df_new.ratings))\n",
    "df_new.show()"
   ]
  },
  {
   "cell_type": "markdown",
   "id": "d745c084",
   "metadata": {},
   "source": [
    "###### Registering Data Frames\n",
    "PySpark has the functionality to enable you to run SQL queries on top of your DataFrame. <br>\n",
    "For this to work, we have to register our DataFrame as a temporary table using the registerTempTable function. <br>\n",
    "This table will be available only on the spark session in which it was created."
   ]
  },
  {
   "cell_type": "code",
   "execution_count": 62,
   "id": "ef7e5d54",
   "metadata": {},
   "outputs": [],
   "source": [
    "# registering the df_new as a temp table:\n",
    "df_new.registerTempTable('temp_data')  # name of the table will be temp_data"
   ]
  },
  {
   "cell_type": "code",
   "execution_count": 63,
   "id": "d349b4fc",
   "metadata": {},
   "outputs": [
    {
     "name": "stdout",
     "output_type": "stream",
     "text": [
      "+-------+--------------+\n",
      "|ratings|count(ratings)|\n",
      "+-------+--------------+\n",
      "|    low|         14865|\n",
      "|    mid|         12277|\n",
      "|   high|         16856|\n",
      "+-------+--------------+\n",
      "\n"
     ]
    }
   ],
   "source": [
    "# Applying SQL queries:\n",
    "spark.sql('select ratings, count(ratings) from temp_data group by ratings').show()"
   ]
  },
  {
   "cell_type": "markdown",
   "id": "4cec1fd2",
   "metadata": {},
   "source": [
    "##### Window Functions:\n",
    "Window Functions can be classified into the following categories:\n",
    "- Aggregate Functions - avg, sum, max, min etc.\n",
    "- Ranking Functions - rank, denseRank, percentRank, ntile, rowNumber etc.\n",
    "- Analytical Functions - lead, lag, lastValue, firstValue, cumeDist etc."
   ]
  },
  {
   "cell_type": "code",
   "execution_count": 64,
   "id": "3f6ffc3d",
   "metadata": {},
   "outputs": [],
   "source": [
    "# Ranking Functions:\n",
    "from pyspark.sql.window import *"
   ]
  },
  {
   "cell_type": "code",
   "execution_count": 65,
   "id": "359b6187",
   "metadata": {},
   "outputs": [],
   "source": [
    "# We will calculate the deciles for the popularity:"
   ]
  },
  {
   "cell_type": "code",
   "execution_count": 67,
   "id": "16e515e7",
   "metadata": {},
   "outputs": [],
   "source": [
    "# Filtering out the null values:\n",
    "df_new = df_new.filter((df_new['popularity'].isNotNull()) & (~isnan(df_new['popularity'])))"
   ]
  },
  {
   "cell_type": "code",
   "execution_count": 69,
   "id": "d8beb538",
   "metadata": {},
   "outputs": [],
   "source": [
    "# Applying window functions to calculate deciles.\n",
    "df_new = df_new.select(\"id\", \"budget\", \"popularity\",\n",
    "             ntile(10).over(Window.partitionBy().orderBy(df_new['popularity'].desc())).alias(\"decile_rank\"))"
   ]
  },
  {
   "cell_type": "code",
   "execution_count": 70,
   "id": "e8aa9c5f",
   "metadata": {},
   "outputs": [
    {
     "name": "stdout",
     "output_type": "stream",
     "text": [
      "+-----------+--------------+--------------+-----------------+\n",
      "|decile_rank|min_popularity|max_popularity|count(popularity)|\n",
      "+-----------+--------------+--------------+-----------------+\n",
      "|          1|        10.185|         180.0|             4379|\n",
      "|          2|         7.481|        10.182|             4379|\n",
      "|          3|         5.841|         7.481|             4379|\n",
      "|          4|         4.823|         5.841|             4378|\n",
      "|          5|         4.054|         4.822|             4378|\n",
      "|          6|         3.383|         4.054|             4378|\n",
      "|          7|         2.747|         3.383|             4378|\n",
      "|          8|         2.075|         2.747|             4378|\n",
      "|          9|         1.389|         2.075|             4378|\n",
      "|         10|           0.6|         1.389|             4378|\n",
      "+-----------+--------------+--------------+-----------------+\n",
      "\n"
     ]
    }
   ],
   "source": [
    "# Displaying the values:\n",
    "df_new.groupBy(\"decile_rank\").agg(min('popularity').alias('min_popularity'), \n",
    "                                 max('popularity').alias('max_popularity'), count('popularity')).show()"
   ]
  },
  {
   "cell_type": "code",
   "execution_count": 71,
   "id": "14e8dfea",
   "metadata": {},
   "outputs": [],
   "source": [
    "# Selecting most popular movies in the year 1970:\n",
    "df_second_best = df.select(\"id\", \"popularity\", \"release_date\")"
   ]
  },
  {
   "cell_type": "code",
   "execution_count": 72,
   "id": "e838f45c",
   "metadata": {},
   "outputs": [],
   "source": [
    "# getting the year from the release_date column\n",
    "df_second_best = df_second_best.withColumn('year', year('release_date')).drop('release_date')"
   ]
  },
  {
   "cell_type": "code",
   "execution_count": 73,
   "id": "b0701e27",
   "metadata": {},
   "outputs": [],
   "source": [
    "# partition function\n",
    "year_window = Window.partitionBy(df_second_best['year']).orderBy(df_new['popularity'].desc())"
   ]
  },
  {
   "cell_type": "code",
   "execution_count": 74,
   "id": "22e0d380",
   "metadata": {},
   "outputs": [],
   "source": [
    "# Applying the window function:\n",
    "df_second_best = df_second_best.select('id', 'popularity', 'year', \n",
    "                                      rank().over(year_window).alias('rank'))"
   ]
  },
  {
   "cell_type": "code",
   "execution_count": 75,
   "id": "c93293c7",
   "metadata": {},
   "outputs": [
    {
     "name": "stdout",
     "output_type": "stream",
     "text": [
      "+-----+----------+----+----+\n",
      "|   id|popularity|year|rank|\n",
      "+-----+----------+----+----+\n",
      "|11202|    14.029|1970|   2|\n",
      "+-----+----------+----+----+\n",
      "\n"
     ]
    }
   ],
   "source": [
    "# Find the second best rating for year 1970:\n",
    "df_second_best.filter((df_second_best['year'] == 1970) & (df_second_best['rank'] == 2)).show()"
   ]
  },
  {
   "cell_type": "code",
   "execution_count": 76,
   "id": "af3a233e",
   "metadata": {},
   "outputs": [],
   "source": [
    "# calculate the difference in revenue of the most popular movie and the others:"
   ]
  },
  {
   "cell_type": "code",
   "execution_count": 77,
   "id": "366d0d07",
   "metadata": {},
   "outputs": [],
   "source": [
    "df_revenue = df.select(\"id\", \"revenue\", \"release_date\")"
   ]
  },
  {
   "cell_type": "code",
   "execution_count": 78,
   "id": "bbdfc1ba",
   "metadata": {},
   "outputs": [],
   "source": [
    "df_revenue = df_revenue.withColumn('release_year', year('release_date')).drop('release_date')"
   ]
  },
  {
   "cell_type": "code",
   "execution_count": 79,
   "id": "d1537f20",
   "metadata": {},
   "outputs": [],
   "source": [
    "# defining the partition function along with the range\n",
    "rev_window = Window.partitionBy(df_revenue['release_year']).orderBy(df_revenue['revenue'].desc()).rangeBetween(-sys.maxsize,\n",
    "                                                                                                              sys.maxsize)"
   ]
  },
  {
   "cell_type": "code",
   "execution_count": 80,
   "id": "35a7d8b2",
   "metadata": {},
   "outputs": [],
   "source": [
    "# applying the partition function:\n",
    "revenue_difference = (max(df_revenue['revenue']).over(rev_window) - df_revenue['revenue'])"
   ]
  },
  {
   "cell_type": "code",
   "execution_count": 83,
   "id": "1fa97c10",
   "metadata": {},
   "outputs": [
    {
     "name": "stdout",
     "output_type": "stream",
     "text": [
      "+-----+---------+------------+------------------+\n",
      "|   id|  revenue|release_year|revenue_difference|\n",
      "+-----+---------+------------+------------------+\n",
      "|  665|   1.64E8|        1959|               0.0|\n",
      "|10882|    5.1E7|        1959|            1.13E8|\n",
      "|  239|    2.5E7|        1959|            1.39E8|\n",
      "| 4952|  1.875E7|        1959|          1.4525E8|\n",
      "|15944| 1.7658E7|        1959|         1.46342E8|\n",
      "|  213| 1.3275E7|        1959|      1.50724992E8|\n",
      "|27029|   1.28E7|        1959|           1.512E8|\n",
      "|29996|   1.22E7|        1959|           1.518E8|\n",
      "|11571|    1.0E7|        1959|            1.54E8|\n",
      "| 9660|6800000.0|        1959|           1.572E8|\n",
      "|  301|5800000.0|        1959|           1.582E8|\n",
      "|76863|3745000.0|        1959|      1.60255008E8|\n",
      "|43109|1000000.0|        1959|            1.63E8|\n",
      "|  896| 134241.0|        1959|       1.6386576E8|\n",
      "| 5544|   3193.0|        1959|        1.639968E8|\n",
      "|43008|      0.0|        1959|            1.64E8|\n",
      "|43051|      0.0|        1959|            1.64E8|\n",
      "|43093|      0.0|        1959|            1.64E8|\n",
      "|43094|      0.0|        1959|            1.64E8|\n",
      "|43095|      0.0|        1959|            1.64E8|\n",
      "+-----+---------+------------+------------------+\n",
      "only showing top 20 rows\n",
      "\n"
     ]
    }
   ],
   "source": [
    "# displaying the final result:\n",
    "df_revenue.select(\"id\", \"revenue\", \"release_year\", revenue_difference.alias(\"revenue_difference\")).show()"
   ]
  },
  {
   "cell_type": "code",
   "execution_count": 104,
   "id": "2203872b",
   "metadata": {},
   "outputs": [],
   "source": [
    "# Finding all the years where 'The Lost World' is repeated:"
   ]
  },
  {
   "cell_type": "code",
   "execution_count": 105,
   "id": "5d6e67ef",
   "metadata": {},
   "outputs": [],
   "source": [
    "df = df.withColumn('year', year('release_date'))"
   ]
  },
  {
   "cell_type": "code",
   "execution_count": 108,
   "id": "9b376164",
   "metadata": {},
   "outputs": [
    {
     "name": "stdout",
     "output_type": "stream",
     "text": [
      "+--------------+------------------------------------+\n",
      "|title         |collect_list(year)                  |\n",
      "+--------------+------------------------------------+\n",
      "|The Lost World|[1999, 2001, 1925, 1960, 1992, 1998]|\n",
      "+--------------+------------------------------------+\n",
      "\n"
     ]
    }
   ],
   "source": [
    "df.filter(\"title == 'The Lost World'\").groupBy('title').agg(collect_list(\"year\")).show(1,False)"
   ]
  },
  {
   "cell_type": "markdown",
   "id": "9a0858ab",
   "metadata": {},
   "source": [
    "##### Sampling\n",
    "\n",
    "- Random sampling without replacement \n",
    "- Random sampling with replacement"
   ]
  },
  {
   "cell_type": "code",
   "execution_count": 31,
   "id": "0b34b2dc",
   "metadata": {},
   "outputs": [
    {
     "data": {
      "text/plain": [
       "17684"
      ]
     },
     "execution_count": 31,
     "metadata": {},
     "output_type": "execute_result"
    }
   ],
   "source": [
    "# Simple random sampling without replacement:\n",
    "df_sample = df.sample(withReplacement=False, fraction=0.4, seed=11)\n",
    "df_sample.count()"
   ]
  },
  {
   "cell_type": "code",
   "execution_count": 32,
   "id": "386ad7ef",
   "metadata": {},
   "outputs": [
    {
     "data": {
      "text/plain": [
       "17805"
      ]
     },
     "execution_count": 32,
     "metadata": {},
     "output_type": "execute_result"
    }
   ],
   "source": [
    "# Simple random sampling with replacement:\n",
    "df_sample = df.sample(True, 0.4, 11)\n",
    "df_sample.count()"
   ]
  },
  {
   "cell_type": "markdown",
   "id": "9b0b43ac",
   "metadata": {},
   "source": [
    "*NOTE: In the above cases, we see despit fraction size being same, the size of the sample is not same,this is because PySaprk internally uses Bernoulli sample technique for sampling. <br>\n",
    "Since each element from population is sampled seperately, the sample size is not fixed but follows a Bernoulli Distribution.*"
   ]
  },
  {
   "cell_type": "code",
   "execution_count": 36,
   "id": "5bf777ba",
   "metadata": {},
   "outputs": [],
   "source": [
    "df = df.withColumn('release_year', year('release_date'))"
   ]
  },
  {
   "cell_type": "code",
   "execution_count": 37,
   "id": "27cf5fd9",
   "metadata": {},
   "outputs": [
    {
     "name": "stdout",
     "output_type": "stream",
     "text": [
      "+-----+---------+----------+------------+---------+--------------------+------------+\n",
      "|   id|   budget|popularity|release_date|  revenue|               title|release_year|\n",
      "+-----+---------+----------+------------+---------+--------------------+------------+\n",
      "|43000|      0.0|     2.503|  1962-05-23|      0.0|The Elusive Corporal|        1962|\n",
      "|43001|      0.0|      5.51|  1962-11-12|      0.0|  Sundays and Cybele|        1962|\n",
      "|43002|      0.0|      5.62|  1962-05-24|      0.0|Lonely Are the Brave|        1962|\n",
      "|43003|      0.0|     7.159|  1975-03-12|      0.0|          F for Fake|        1975|\n",
      "|43004| 500000.0|     3.988|  1962-10-09|      0.0|Long Day's Journe...|        1962|\n",
      "|43006|      0.0|     3.194|  1962-03-09|      0.0|           My Geisha|        1962|\n",
      "|43007|      0.0|     2.689|  1962-10-31|      0.0|Period of Adjustment|        1962|\n",
      "|43008|      0.0|     6.537|  1959-03-13|      0.0|    The Hanging Tree|        1959|\n",
      "|43010|      0.0|     4.297|  1962-01-01|      0.0|Sherlock Holmes a...|        1962|\n",
      "|43011|      0.0|     4.417|  1962-01-01|      0.0|  Sodom and Gomorrah|        1962|\n",
      "|43012|7000000.0|     4.722|  1962-11-21|4000000.0|         Taras Bulba|        1962|\n",
      "|43013|      0.0|     2.543|  1962-04-17|      0.0|The Counterfeit T...|        1962|\n",
      "|43014|      0.0|     4.303|  1962-10-24|      0.0|     Tower of London|        1962|\n",
      "|43015|      0.0|     3.493|  1962-12-07|      0.0|Varan the Unbelie...|        1962|\n",
      "|43016|      0.0|     2.851|  1962-01-01|      0.0|Waltz of the Tore...|        1962|\n",
      "|43017|      0.0|     4.047|  1961-10-11|      0.0|         Back Street|        1961|\n",
      "|43018|      0.0|     2.661|  1961-06-02|      0.0|Gidget Goes Hawaiian|        1961|\n",
      "|43019|      0.0|     3.225|  2010-05-28|      0.0|Schuks Tshabalala...|        2010|\n",
      "|43020|      0.0|      5.72|  1961-06-15|      0.0|The Colossus of R...|        1961|\n",
      "|43021|      0.0|     3.292|  2008-08-22|      0.0|          Sex Galaxy|        2008|\n",
      "+-----+---------+----------+------------+---------+--------------------+------------+\n",
      "only showing top 20 rows\n",
      "\n"
     ]
    }
   ],
   "source": [
    "df.show()"
   ]
  },
  {
   "cell_type": "code",
   "execution_count": 39,
   "id": "2c0ad10b",
   "metadata": {},
   "outputs": [
    {
     "data": {
      "text/plain": [
       "241"
      ]
     },
     "execution_count": 39,
     "metadata": {},
     "output_type": "execute_result"
    }
   ],
   "source": [
    "# Stratified Sampling:\n",
    "df_strat = df.sampleBy(\"release_year\", fractions={1959: 0.2, 1960: 0.4, 1961: 0.4}, seed=11)\n",
    "df_strat.count()"
   ]
  },
  {
   "cell_type": "markdown",
   "id": "53988dcf",
   "metadata": {},
   "source": [
    "##### Caching and Persisting\n",
    "- Caching saves the data into the memory, thus saving time on I/O operations.\n",
    "- After reading the data, we can cache the first query on th DataFrame, the first query will run at usual speeds but after that all the queries will run at a faster speed, Caching is lazy therefore the first query will take the usual time.\n",
    "\n",
    "We can cache the DataFrame using -----> *df.cache()* <br>\n",
    "\n",
    "- Persisting can be seen as the same as Caching, but they differ in storage-level settings. Spark has five types of Storage-level settings.\n",
    "    1. MEMORY_ONLY - Store RDD as deserialised Java Objects. If RDD does not fit some of the partitions will not be cached and fill be computed on the fly each time they are needed. Default Storage.\n",
    "    2. MEMORY_ONLY_SER - Store RDD as serialised Java Objects, it is more space efficient but is more CPU intensive.\n",
    "    3. MMORY_AND_DISK - Store as deserialised Java objects, If the RDD does not fit in memory, store the partitions that dont fit on the disk, and read them from there whenever needed.\n",
    "    4. MEMORY_AND_DISK_SER - Store as serialised java objects, rest similar to MEMORY_AND_DISK.\n",
    "    5. DISK_ONLY - Store the RDD partitions on the disk. \n",
    "\n",
    "We can use persist for all the levels of storage -----> *df.persist()*  <br>\n",
    "To remove the data in the storage level manually, use ------> *df.unpersist()*"
   ]
  },
  {
   "cell_type": "markdown",
   "id": "7439f6fd",
   "metadata": {},
   "source": [
    "##### Saving the data:"
   ]
  },
  {
   "cell_type": "code",
   "execution_count": null,
   "id": "0326231d",
   "metadata": {},
   "outputs": [],
   "source": [
    "# Saving data as a text file, using write and save:\n",
    "\n",
    "df.write.format('csv').option('delimiter', ',').save('output_df')"
   ]
  },
  {
   "cell_type": "code",
   "execution_count": null,
   "id": "7517caae",
   "metadata": {},
   "outputs": [],
   "source": [
    "# If we have data divided into clusters, we can save all the data into a single file by:\n",
    "\n",
    "df.coalesce(1).write.format('csv').option('delimiter', '|').save('output_coalesce_df')"
   ]
  },
  {
   "cell_type": "code",
   "execution_count": null,
   "id": "b065963e",
   "metadata": {},
   "outputs": [],
   "source": [
    "# Partioning data by a column for easy indexing and saving:\n",
    "\n",
    "df.write.partitionBy('release_year').format('csv').option('delimiter', '|').save('output_partition_df')"
   ]
  },
  {
   "cell_type": "code",
   "execution_count": null,
   "id": "54dfc8b6",
   "metadata": {},
   "outputs": [],
   "source": [
    "# Saving the data as HIVE TABLE:\n",
    "df.write.saveAsTable('film_ratings_hive')"
   ]
  },
  {
   "cell_type": "markdown",
   "id": "a38fec17",
   "metadata": {},
   "source": [
    "##### Pandas Support"
   ]
  },
  {
   "cell_type": "code",
   "execution_count": 41,
   "id": "b4efe1ff",
   "metadata": {},
   "outputs": [
    {
     "name": "stdout",
     "output_type": "stream",
     "text": [
      "<class 'pandas.core.frame.DataFrame'>\n"
     ]
    }
   ],
   "source": [
    "# pyspark dataframe to pandas dataframe:\n",
    "df_pandas = df.toPandas()\n",
    "print(type(df_pandas))"
   ]
  },
  {
   "cell_type": "code",
   "execution_count": 42,
   "id": "4d9a2ebb",
   "metadata": {},
   "outputs": [
    {
     "name": "stdout",
     "output_type": "stream",
     "text": [
      "<class 'pyspark.sql.dataframe.DataFrame'>\n"
     ]
    }
   ],
   "source": [
    "# pandas dataframe to pyspark dataframe:\n",
    "df_py = spark.createDataFrame(df_pandas)\n",
    "print(type(df_py))"
   ]
  },
  {
   "cell_type": "markdown",
   "id": "363676b4",
   "metadata": {},
   "source": [
    "## Joins In Pyspark:"
   ]
  },
  {
   "cell_type": "code",
   "execution_count": 43,
   "id": "06900c92",
   "metadata": {},
   "outputs": [],
   "source": [
    "df_p1 = spark.read.csv('movie_data_part2.csv', inferSchema=True, header=True, sep=\"|\")"
   ]
  },
  {
   "cell_type": "code",
   "execution_count": 44,
   "id": "6b66933b",
   "metadata": {},
   "outputs": [
    {
     "name": "stdout",
     "output_type": "stream",
     "text": [
      "root\n",
      " |-- cast: string (nullable = true)\n",
      " |-- adult: boolean (nullable = true)\n",
      " |-- directors: string (nullable = true)\n",
      " |-- vote_count: integer (nullable = true)\n",
      " |-- spoken_languages: string (nullable = true)\n",
      " |-- poster_path: string (nullable = true)\n",
      " |-- homepage: string (nullable = true)\n",
      " |-- imdb_id: string (nullable = true)\n",
      " |-- genres: string (nullable = true)\n",
      " |-- video: boolean (nullable = true)\n",
      " |-- id: integer (nullable = true)\n",
      "\n"
     ]
    }
   ],
   "source": [
    "df_p1.printSchema()"
   ]
  },
  {
   "cell_type": "code",
   "execution_count": 45,
   "id": "be087c76",
   "metadata": {},
   "outputs": [],
   "source": [
    "# Filtering missing values:\n",
    "\n",
    "df_p1 = df_p1.filter((df_p1['id'].isNotNull()) & (~isnan(df_p1['id'])))"
   ]
  },
  {
   "cell_type": "markdown",
   "id": "df2de26c",
   "metadata": {},
   "source": [
    "##### Inner Join "
   ]
  },
  {
   "cell_type": "code",
   "execution_count": 48,
   "id": "f88078c4",
   "metadata": {},
   "outputs": [
    {
     "name": "stdout",
     "output_type": "stream",
     "text": [
      "root\n",
      " |-- id: integer (nullable = true)\n",
      " |-- budget: float (nullable = true)\n",
      " |-- popularity: float (nullable = true)\n",
      " |-- release_date: date (nullable = true)\n",
      " |-- revenue: float (nullable = true)\n",
      " |-- title: string (nullable = true)\n",
      " |-- release_year: integer (nullable = true)\n",
      " |-- cast: string (nullable = true)\n",
      " |-- adult: boolean (nullable = true)\n",
      " |-- directors: string (nullable = true)\n",
      " |-- vote_count: integer (nullable = true)\n",
      " |-- spoken_languages: string (nullable = true)\n",
      " |-- poster_path: string (nullable = true)\n",
      " |-- homepage: string (nullable = true)\n",
      " |-- imdb_id: string (nullable = true)\n",
      " |-- genres: string (nullable = true)\n",
      " |-- video: boolean (nullable = true)\n",
      " |-- id: integer (nullable = true)\n",
      "\n"
     ]
    }
   ],
   "source": [
    "# Joining the df and df_p1 DataFrames\n",
    "df.join(other=df_p1, on=df['id'] == df_p1['id'], how='inner').printSchema()"
   ]
  },
  {
   "cell_type": "code",
   "execution_count": 53,
   "id": "3e9fcb11",
   "metadata": {},
   "outputs": [
    {
     "data": {
      "text/plain": [
       "24998"
      ]
     },
     "execution_count": 53,
     "metadata": {},
     "output_type": "execute_result"
    }
   ],
   "source": [
    "# Number of records:\n",
    "df.join(df_p1, df['id'] == df_p1['id']).count()"
   ]
  },
  {
   "cell_type": "markdown",
   "id": "3f157a17",
   "metadata": {},
   "source": [
    "##### Left Join / Left Outer Join"
   ]
  },
  {
   "cell_type": "code",
   "execution_count": 51,
   "id": "1e03cf54",
   "metadata": {},
   "outputs": [
    {
     "name": "stdout",
     "output_type": "stream",
     "text": [
      "root\n",
      " |-- id: integer (nullable = true)\n",
      " |-- budget: float (nullable = true)\n",
      " |-- popularity: float (nullable = true)\n",
      " |-- release_date: date (nullable = true)\n",
      " |-- revenue: float (nullable = true)\n",
      " |-- title: string (nullable = true)\n",
      " |-- release_year: integer (nullable = true)\n",
      " |-- cast: string (nullable = true)\n",
      " |-- adult: boolean (nullable = true)\n",
      " |-- directors: string (nullable = true)\n",
      " |-- vote_count: integer (nullable = true)\n",
      " |-- spoken_languages: string (nullable = true)\n",
      " |-- poster_path: string (nullable = true)\n",
      " |-- homepage: string (nullable = true)\n",
      " |-- imdb_id: string (nullable = true)\n",
      " |-- genres: string (nullable = true)\n",
      " |-- video: boolean (nullable = true)\n",
      " |-- id: integer (nullable = true)\n",
      "\n"
     ]
    }
   ],
   "source": [
    "df.join(df_p1, df['id'] == df_p1['id'], 'left').printSchema()"
   ]
  },
  {
   "cell_type": "code",
   "execution_count": 52,
   "id": "a31a623f",
   "metadata": {},
   "outputs": [
    {
     "data": {
      "text/plain": [
       "43998"
      ]
     },
     "execution_count": 52,
     "metadata": {},
     "output_type": "execute_result"
    }
   ],
   "source": [
    "# number of records:\n",
    "df.join(df_p1, df['id'] == df_p1['id'], 'left').count()"
   ]
  },
  {
   "cell_type": "markdown",
   "id": "469f7ce4",
   "metadata": {},
   "source": [
    "##### Right Join / Right Outer Join"
   ]
  },
  {
   "cell_type": "code",
   "execution_count": 54,
   "id": "2c0fafe4",
   "metadata": {},
   "outputs": [
    {
     "name": "stdout",
     "output_type": "stream",
     "text": [
      "root\n",
      " |-- id: integer (nullable = true)\n",
      " |-- budget: float (nullable = true)\n",
      " |-- popularity: float (nullable = true)\n",
      " |-- release_date: date (nullable = true)\n",
      " |-- revenue: float (nullable = true)\n",
      " |-- title: string (nullable = true)\n",
      " |-- release_year: integer (nullable = true)\n",
      " |-- cast: string (nullable = true)\n",
      " |-- adult: boolean (nullable = true)\n",
      " |-- directors: string (nullable = true)\n",
      " |-- vote_count: integer (nullable = true)\n",
      " |-- spoken_languages: string (nullable = true)\n",
      " |-- poster_path: string (nullable = true)\n",
      " |-- homepage: string (nullable = true)\n",
      " |-- imdb_id: string (nullable = true)\n",
      " |-- genres: string (nullable = true)\n",
      " |-- video: boolean (nullable = true)\n",
      " |-- id: integer (nullable = true)\n",
      "\n"
     ]
    }
   ],
   "source": [
    "df.join(df_p1, df['id'] == df_p1['id'], 'right').printSchema()"
   ]
  },
  {
   "cell_type": "code",
   "execution_count": 55,
   "id": "b61828f5",
   "metadata": {},
   "outputs": [
    {
     "data": {
      "text/plain": [
       "24998"
      ]
     },
     "execution_count": 55,
     "metadata": {},
     "output_type": "execute_result"
    }
   ],
   "source": [
    "# number of records:\n",
    "df.join(df_p1, df['id'] == df_p1['id'], 'right').count()"
   ]
  },
  {
   "cell_type": "markdown",
   "id": "aa295575",
   "metadata": {},
   "source": [
    "##### Full Outer Join"
   ]
  },
  {
   "cell_type": "code",
   "execution_count": 56,
   "id": "574f46b3",
   "metadata": {},
   "outputs": [
    {
     "name": "stdout",
     "output_type": "stream",
     "text": [
      "root\n",
      " |-- id: integer (nullable = true)\n",
      " |-- budget: float (nullable = true)\n",
      " |-- popularity: float (nullable = true)\n",
      " |-- release_date: date (nullable = true)\n",
      " |-- revenue: float (nullable = true)\n",
      " |-- title: string (nullable = true)\n",
      " |-- release_year: integer (nullable = true)\n",
      " |-- cast: string (nullable = true)\n",
      " |-- adult: boolean (nullable = true)\n",
      " |-- directors: string (nullable = true)\n",
      " |-- vote_count: integer (nullable = true)\n",
      " |-- spoken_languages: string (nullable = true)\n",
      " |-- poster_path: string (nullable = true)\n",
      " |-- homepage: string (nullable = true)\n",
      " |-- imdb_id: string (nullable = true)\n",
      " |-- genres: string (nullable = true)\n",
      " |-- video: boolean (nullable = true)\n",
      " |-- id: integer (nullable = true)\n",
      "\n"
     ]
    }
   ],
   "source": [
    "df.join(df_p1, df['id'] == df_p1['id'], 'outer').printSchema()"
   ]
  },
  {
   "cell_type": "code",
   "execution_count": 57,
   "id": "c3d37eeb",
   "metadata": {},
   "outputs": [
    {
     "data": {
      "text/plain": [
       "43998"
      ]
     },
     "execution_count": 57,
     "metadata": {},
     "output_type": "execute_result"
    }
   ],
   "source": [
    "# number of records\n",
    "df.join(df_p1, df['id'] == df_p1['id'], 'outer').count()"
   ]
  },
  {
   "cell_type": "markdown",
   "id": "710a2b86",
   "metadata": {},
   "source": [
    "##### Left Anti Join"
   ]
  },
  {
   "cell_type": "code",
   "execution_count": 58,
   "id": "6cc58f84",
   "metadata": {},
   "outputs": [
    {
     "name": "stdout",
     "output_type": "stream",
     "text": [
      "root\n",
      " |-- id: integer (nullable = true)\n",
      " |-- budget: float (nullable = true)\n",
      " |-- popularity: float (nullable = true)\n",
      " |-- release_date: date (nullable = true)\n",
      " |-- revenue: float (nullable = true)\n",
      " |-- title: string (nullable = true)\n",
      " |-- release_year: integer (nullable = true)\n",
      "\n"
     ]
    }
   ],
   "source": [
    "# retains only the schema of the left dataframe, and rows of left dataframe that are present in the right dataframe\n",
    "df.join(df_p1, df['id'] == df_p1['id'], 'left_anti').printSchema()"
   ]
  },
  {
   "cell_type": "code",
   "execution_count": 59,
   "id": "1ce25f53",
   "metadata": {},
   "outputs": [
    {
     "data": {
      "text/plain": [
       "19000"
      ]
     },
     "execution_count": 59,
     "metadata": {},
     "output_type": "execute_result"
    }
   ],
   "source": [
    "# number of records:\n",
    "df.join(df_p1, df['id'] == df_p1['id'], 'left_anti').count()"
   ]
  },
  {
   "cell_type": "markdown",
   "id": "36ad7f43",
   "metadata": {},
   "source": [
    "##### Left Semi Join"
   ]
  },
  {
   "cell_type": "code",
   "execution_count": 60,
   "id": "a980f3e4",
   "metadata": {},
   "outputs": [
    {
     "name": "stdout",
     "output_type": "stream",
     "text": [
      "root\n",
      " |-- id: integer (nullable = true)\n",
      " |-- budget: float (nullable = true)\n",
      " |-- popularity: float (nullable = true)\n",
      " |-- release_date: date (nullable = true)\n",
      " |-- revenue: float (nullable = true)\n",
      " |-- title: string (nullable = true)\n",
      " |-- release_year: integer (nullable = true)\n",
      "\n"
     ]
    }
   ],
   "source": [
    "# Similar to inner join, but does not yield the columns of the right dataframe\n",
    "df.join(df_p1, df['id'] == df_p1['id'], 'left_semi').printSchema()"
   ]
  },
  {
   "cell_type": "code",
   "execution_count": 61,
   "id": "e56aeab9",
   "metadata": {},
   "outputs": [
    {
     "data": {
      "text/plain": [
       "24998"
      ]
     },
     "execution_count": 61,
     "metadata": {},
     "output_type": "execute_result"
    }
   ],
   "source": [
    "# number of records:\n",
    "df.join(df_p1, df['id'] == df_p1['id'], 'left_semi').count()"
   ]
  },
  {
   "cell_type": "markdown",
   "id": "54268e5f",
   "metadata": {},
   "source": [
    "##### Broadcast Join"
   ]
  },
  {
   "cell_type": "code",
   "execution_count": 62,
   "id": "10f6af75",
   "metadata": {},
   "outputs": [],
   "source": [
    "# Used in the situation where we want to join a large dataframe (millions of rows) with a smaller dataframe (hundreds of rows).\n",
    "# to join them efficiently, pyspark has BROADCAST JOIN.\n",
    "# the smaller dataframe will be replicated in all the nodes of the cluster."
   ]
  },
  {
   "cell_type": "code",
   "execution_count": 63,
   "id": "ea39dee8",
   "metadata": {},
   "outputs": [
    {
     "name": "stdout",
     "output_type": "stream",
     "text": [
      "root\n",
      " |-- id: integer (nullable = true)\n",
      " |-- budget: float (nullable = true)\n",
      " |-- popularity: float (nullable = true)\n",
      " |-- release_date: date (nullable = true)\n",
      " |-- revenue: float (nullable = true)\n",
      " |-- title: string (nullable = true)\n",
      " |-- release_year: integer (nullable = true)\n",
      "\n"
     ]
    }
   ],
   "source": [
    "df.join(broadcast(df_p1), df['id'] == df_p1['id'], 'left_semi').printSchema()"
   ]
  },
  {
   "cell_type": "code",
   "execution_count": 64,
   "id": "75a17f2d",
   "metadata": {},
   "outputs": [
    {
     "data": {
      "text/plain": [
       "24998"
      ]
     },
     "execution_count": 64,
     "metadata": {},
     "output_type": "execute_result"
    }
   ],
   "source": [
    "# Number of records:\n",
    "df.join(broadcast(df_p1), df['id'] == df_p1['id'], 'left_semi').count()"
   ]
  },
  {
   "cell_type": "markdown",
   "id": "4deb170d",
   "metadata": {},
   "source": [
    "##### Dropping Duplicates:"
   ]
  },
  {
   "cell_type": "code",
   "execution_count": 65,
   "id": "61b58c9d",
   "metadata": {},
   "outputs": [
    {
     "data": {
      "text/plain": [
       "43643"
      ]
     },
     "execution_count": 65,
     "metadata": {},
     "output_type": "execute_result"
    }
   ],
   "source": [
    "# Number of records after dropping duplicates:\n",
    "df.dropDuplicates(['title', 'release_year']).count()"
   ]
  },
  {
   "cell_type": "code",
   "execution_count": 66,
   "id": "b9af6ba7",
   "metadata": {},
   "outputs": [
    {
     "data": {
      "text/plain": [
       "43998"
      ]
     },
     "execution_count": 66,
     "metadata": {},
     "output_type": "execute_result"
    }
   ],
   "source": [
    "# Original number of records:\n",
    "df.count()"
   ]
  },
  {
   "cell_type": "markdown",
   "id": "e933c997",
   "metadata": {},
   "source": [
    "## Data Visualization"
   ]
  },
  {
   "cell_type": "code",
   "execution_count": 79,
   "id": "3f2c38af",
   "metadata": {},
   "outputs": [],
   "source": [
    "import matplotlib.pyplot as plt\n",
    "import seaborn as sns\n",
    "\n",
    "%matplotlib inline"
   ]
  },
  {
   "cell_type": "code",
   "execution_count": 89,
   "id": "f04c0ed7",
   "metadata": {},
   "outputs": [],
   "source": [
    "# plotting popularity data:\n",
    "pop_df = df.select('popularity').toPandas().values"
   ]
  },
  {
   "cell_type": "code",
   "execution_count": 91,
   "id": "c154981a",
   "metadata": {},
   "outputs": [
    {
     "data": {
      "image/png": "[encoded data removed]",
      "text/plain": [
       "<Figure size 432x288 with 1 Axes>"
      ]
     },
     "metadata": {
      "needs_background": "light"
     },
     "output_type": "display_data"
    }
   ],
   "source": [
    "plt.hist(pop_df, bins=25)\n",
    "plt.show()"
   ]
  },
  {
   "cell_type": "code",
   "execution_count": 94,
   "id": "62a54c00",
   "metadata": {},
   "outputs": [],
   "source": [
    "# Plotting the number of films released between 1959 and 1970\n",
    "\n",
    "# preparing the data\n",
    "number_movies = df.filter(\"(release_year > 1959) and (release_year < 1971)\").groupBy('release_year').count().toPandas()"
   ]
  },
  {
   "cell_type": "code",
   "execution_count": 95,
   "id": "1f348da8",
   "metadata": {},
   "outputs": [],
   "source": [
    "# sorting the values:\n",
    "number_movies = number_movies.sort_values(by=['release_year'], ascending=False)"
   ]
  },
  {
   "cell_type": "code",
   "execution_count": 101,
   "id": "dc24751e",
   "metadata": {},
   "outputs": [
    {
     "data": {
      "image/png": "[encoded data removed]",
      "text/plain": [
       "<Figure size 720x432 with 1 Axes>"
      ]
     },
     "metadata": {
      "needs_background": "light"
     },
     "output_type": "display_data"
    }
   ],
   "source": [
    "# Plotting the data using seaborn\n",
    "\n",
    "plt.figure(figsize=(10,6))\n",
    "sns.barplot(x='release_year', y='count', data=number_movies)\n",
    "plt.xticks(rotation=25)\n",
    "plt.title(\"Number of Movies released between 1959 and 1970\")\n",
    "plt.show();"
   ]
  },
  {
   "cell_type": "code",
   "execution_count": null,
   "id": "84967030",
   "metadata": {},
   "outputs": [],
   "source": []
  }
 ],
 "metadata": {
  "kernelspec": {
   "display_name": "Python 3",
   "language": "python",
   "name": "python3"
  },
  "language_info": {
   "codemirror_mode": {
    "name": "ipython",
    "version": 3
   },
   "file_extension": ".py",
   "mimetype": "text/x-python",
   "name": "python",
   "nbconvert_exporter": "python",
   "pygments_lexer": "ipython3",
   "version": "3.8.6"
  }
 },
 "nbformat": 4,
 "nbformat_minor": 5
}
