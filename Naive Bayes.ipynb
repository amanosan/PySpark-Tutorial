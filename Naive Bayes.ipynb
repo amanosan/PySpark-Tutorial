{
 "cells": [
  {
   "cell_type": "code",
   "execution_count": 2,
   "id": "f6a5fccc",
   "metadata": {},
   "outputs": [],
   "source": [
    "from pyspark.sql import SparkSession\n",
    "from pyspark.ml.feature import VectorAssembler, StringIndexer\n",
    "from pyspark.ml.pipeline import Pipeline\n",
    "from pyspark.ml.classification import NaiveBayes"
   ]
  },
  {
   "cell_type": "code",
   "execution_count": 3,
   "id": "4252950a",
   "metadata": {},
   "outputs": [],
   "source": [
    "spark = SparkSession.builder.appName('Naive Bayes').getOrCreate()"
   ]
  },
  {
   "cell_type": "code",
   "execution_count": 4,
   "id": "7d0ba821",
   "metadata": {},
   "outputs": [
    {
     "data": {
      "text/html": [
       "\n",
       "            <div>\n",
       "                <p><b>SparkSession - in-memory</b></p>\n",
       "                \n",
       "        <div>\n",
       "            <p><b>SparkContext</b></p>\n",
       "\n",
       "            <p><a href=\"http://DESKTOP-NKF58JP:4042\">Spark UI</a></p>\n",
       "\n",
       "            <dl>\n",
       "              <dt>Version</dt>\n",
       "                <dd><code>v3.1.2</code></dd>\n",
       "              <dt>Master</dt>\n",
       "                <dd><code>local[*]</code></dd>\n",
       "              <dt>AppName</dt>\n",
       "                <dd><code>Naive Bayes</code></dd>\n",
       "            </dl>\n",
       "        </div>\n",
       "        \n",
       "            </div>\n",
       "        "
      ],
      "text/plain": [
       "<pyspark.sql.session.SparkSession at 0x206dae80790>"
      ]
     },
     "execution_count": 4,
     "metadata": {},
     "output_type": "execute_result"
    }
   ],
   "source": [
    "spark"
   ]
  },
  {
   "cell_type": "code",
   "execution_count": 5,
   "id": "3e92184b",
   "metadata": {},
   "outputs": [],
   "source": [
    "file_path = 'data/bank-full.csv'"
   ]
  },
  {
   "cell_type": "code",
   "execution_count": 6,
   "id": "0b1b9d9c",
   "metadata": {},
   "outputs": [],
   "source": [
    "df = spark.read.csv(file_path, inferSchema=True, header=True, sep=';')"
   ]
  },
  {
   "cell_type": "code",
   "execution_count": 7,
   "id": "9384a40f",
   "metadata": {},
   "outputs": [
    {
     "name": "stdout",
     "output_type": "stream",
     "text": [
      "root\n",
      " |-- age: integer (nullable = true)\n",
      " |-- job: string (nullable = true)\n",
      " |-- marital: string (nullable = true)\n",
      " |-- education: string (nullable = true)\n",
      " |-- default: string (nullable = true)\n",
      " |-- balance: integer (nullable = true)\n",
      " |-- housing: string (nullable = true)\n",
      " |-- loan: string (nullable = true)\n",
      " |-- contact: string (nullable = true)\n",
      " |-- day: integer (nullable = true)\n",
      " |-- month: string (nullable = true)\n",
      " |-- duration: integer (nullable = true)\n",
      " |-- campaign: integer (nullable = true)\n",
      " |-- pdays: integer (nullable = true)\n",
      " |-- previous: integer (nullable = true)\n",
      " |-- poutcome: string (nullable = true)\n",
      " |-- y: string (nullable = true)\n",
      "\n"
     ]
    }
   ],
   "source": [
    "df.printSchema()"
   ]
  },
  {
   "cell_type": "code",
   "execution_count": 8,
   "id": "1746f73a",
   "metadata": {},
   "outputs": [],
   "source": [
    "def assemble_vector(df, features, target):\n",
    "    assembler = VectorAssembler(inputCols=features, outputCol='features')\n",
    "    string_indexer = StringIndexer(inputCol=target, outputCol='label')\n",
    "    \n",
    "    stages = [assembler, string_indexer]\n",
    "    \n",
    "    pipeline = Pipeline(stages=stages)\n",
    "    selected_cols = ['label', 'features'] + features\n",
    "    pipeline_model = pipeline.fit(df)\n",
    "    df = pipeline_model.transform(df).select(selected_cols)\n",
    "    return df"
   ]
  },
  {
   "cell_type": "code",
   "execution_count": 11,
   "id": "23744268",
   "metadata": {},
   "outputs": [],
   "source": [
    "target = 'y'\n",
    "nonneg_df = df.select(['age', 'day', 'duration', 'campaign', 'previous', 'y'])\n",
    "\n",
    "features_list = nonneg_df.columns\n",
    "features_list.remove(target)"
   ]
  },
  {
   "cell_type": "code",
   "execution_count": 12,
   "id": "5af0125f",
   "metadata": {},
   "outputs": [],
   "source": [
    "df = assemble_vector(df, features_list, target)"
   ]
  },
  {
   "cell_type": "code",
   "execution_count": 13,
   "id": "68498648",
   "metadata": {},
   "outputs": [
    {
     "name": "stdout",
     "output_type": "stream",
     "text": [
      "root\n",
      " |-- label: double (nullable = false)\n",
      " |-- features: vector (nullable = true)\n",
      " |-- age: integer (nullable = true)\n",
      " |-- day: integer (nullable = true)\n",
      " |-- duration: integer (nullable = true)\n",
      " |-- campaign: integer (nullable = true)\n",
      " |-- previous: integer (nullable = true)\n",
      "\n"
     ]
    }
   ],
   "source": [
    "df.printSchema()"
   ]
  },
  {
   "cell_type": "code",
   "execution_count": 14,
   "id": "ccec8d90",
   "metadata": {},
   "outputs": [],
   "source": [
    "clf = NaiveBayes(featuresCol='features', labelCol='label')\n",
    "clf_model = clf.fit(df)"
   ]
  },
  {
   "cell_type": "code",
   "execution_count": null,
   "id": "41aee59f",
   "metadata": {},
   "outputs": [],
   "source": []
  }
 ],
 "metadata": {
  "kernelspec": {
   "display_name": "Python 3",
   "language": "python",
   "name": "python3"
  },
  "language_info": {
   "codemirror_mode": {
    "name": "ipython",
    "version": 3
   },
   "file_extension": ".py",
   "mimetype": "text/x-python",
   "name": "python",
   "nbconvert_exporter": "python",
   "pygments_lexer": "ipython3",
   "version": "3.8.6"
  }
 },
 "nbformat": 4,
 "nbformat_minor": 5
}
