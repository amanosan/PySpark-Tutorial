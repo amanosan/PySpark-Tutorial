{
 "cells": [
  {
   "cell_type": "code",
   "execution_count": 62,
   "id": "8aed0361",
   "metadata": {},
   "outputs": [],
   "source": [
    "import pyspark\n",
    "from pyspark.sql import SparkSession\n",
    "from pyspark.sql.functions import approxCountDistinct, countDistinct\n",
    "from pyspark.sql.functions import *\n",
    "from pyspark.ml.feature import StringIndexer, VectorAssembler, StandardScaler\n",
    "from pyspark.ml import Pipeline\n",
    "from pyspark.ml.feature import PCA\n",
    "from pyspark.ml.linalg import Vectors\n",
    "from pyspark.mllib.linalg.distributed import RowMatrix\n",
    "from pyspark.ml.classification import RandomForestClassifier\n",
    "\n",
    "import pandas as pd\n",
    "import numpy as np\n",
    "import matplotlib.pyplot as plt\n",
    "\n",
    "%matplotlib inline"
   ]
  },
  {
   "cell_type": "code",
   "execution_count": 2,
   "id": "4b5217e3",
   "metadata": {},
   "outputs": [],
   "source": [
    "spark = SparkSession.builder.appName('VariableSelection').getOrCreate()"
   ]
  },
  {
   "cell_type": "code",
   "execution_count": 3,
   "id": "29134a84",
   "metadata": {},
   "outputs": [
    {
     "data": {
      "text/html": [
       "\n",
       "            <div>\n",
       "                <p><b>SparkSession - in-memory</b></p>\n",
       "                \n",
       "        <div>\n",
       "            <p><b>SparkContext</b></p>\n",
       "\n",
       "            <p><a href=\"http://DESKTOP-NKF58JP:4040\">Spark UI</a></p>\n",
       "\n",
       "            <dl>\n",
       "              <dt>Version</dt>\n",
       "                <dd><code>v3.1.2</code></dd>\n",
       "              <dt>Master</dt>\n",
       "                <dd><code>local[*]</code></dd>\n",
       "              <dt>AppName</dt>\n",
       "                <dd><code>VariableSelection</code></dd>\n",
       "            </dl>\n",
       "        </div>\n",
       "        \n",
       "            </div>\n",
       "        "
      ],
      "text/plain": [
       "<pyspark.sql.session.SparkSession at 0x27826fbf9a0>"
      ]
     },
     "execution_count": 3,
     "metadata": {},
     "output_type": "execute_result"
    }
   ],
   "source": [
    "# printing the spark session info:\n",
    "spark"
   ]
  },
  {
   "cell_type": "code",
   "execution_count": 4,
   "id": "2f3bc533",
   "metadata": {},
   "outputs": [],
   "source": [
    "spark.conf.set(\"spark.sql.repl.eagerEval.enabled\", True)"
   ]
  },
  {
   "cell_type": "code",
   "execution_count": 5,
   "id": "d0580653",
   "metadata": {},
   "outputs": [],
   "source": [
    "# File:\n",
    "file_name = \"data/bank-full.csv\""
   ]
  },
  {
   "cell_type": "code",
   "execution_count": 6,
   "id": "55d6410d",
   "metadata": {},
   "outputs": [],
   "source": [
    "# reading the data:\n",
    "df = spark.read.csv(file_name, inferSchema=True, header=True, sep=\";\")"
   ]
  },
  {
   "cell_type": "code",
   "execution_count": 7,
   "id": "ce61149e",
   "metadata": {},
   "outputs": [
    {
     "data": {
      "text/plain": [
       "45211"
      ]
     },
     "execution_count": 7,
     "metadata": {},
     "output_type": "execute_result"
    }
   ],
   "source": [
    "# length of the data:\n",
    "df.count()"
   ]
  },
  {
   "cell_type": "code",
   "execution_count": 8,
   "id": "55df9377",
   "metadata": {},
   "outputs": [
    {
     "data": {
      "text/html": [
       "<div>\n",
       "<style scoped>\n",
       "    .dataframe tbody tr th:only-of-type {\n",
       "        vertical-align: middle;\n",
       "    }\n",
       "\n",
       "    .dataframe tbody tr th {\n",
       "        vertical-align: top;\n",
       "    }\n",
       "\n",
       "    .dataframe thead th {\n",
       "        text-align: right;\n",
       "    }\n",
       "</style>\n",
       "<table border=\"1\" class=\"dataframe\">\n",
       "  <thead>\n",
       "    <tr style=\"text-align: right;\">\n",
       "      <th></th>\n",
       "      <th>summary</th>\n",
       "      <th>age</th>\n",
       "      <th>job</th>\n",
       "      <th>marital</th>\n",
       "      <th>education</th>\n",
       "      <th>default</th>\n",
       "      <th>balance</th>\n",
       "      <th>housing</th>\n",
       "      <th>loan</th>\n",
       "      <th>contact</th>\n",
       "      <th>day</th>\n",
       "      <th>month</th>\n",
       "      <th>duration</th>\n",
       "      <th>campaign</th>\n",
       "      <th>pdays</th>\n",
       "      <th>previous</th>\n",
       "      <th>poutcome</th>\n",
       "      <th>y</th>\n",
       "    </tr>\n",
       "  </thead>\n",
       "  <tbody>\n",
       "    <tr>\n",
       "      <th>0</th>\n",
       "      <td>count</td>\n",
       "      <td>45211</td>\n",
       "      <td>45211</td>\n",
       "      <td>45211</td>\n",
       "      <td>45211</td>\n",
       "      <td>45211</td>\n",
       "      <td>45211</td>\n",
       "      <td>45211</td>\n",
       "      <td>45211</td>\n",
       "      <td>45211</td>\n",
       "      <td>45211</td>\n",
       "      <td>45211</td>\n",
       "      <td>45211</td>\n",
       "      <td>45211</td>\n",
       "      <td>45211</td>\n",
       "      <td>45211</td>\n",
       "      <td>45211</td>\n",
       "      <td>45211</td>\n",
       "    </tr>\n",
       "    <tr>\n",
       "      <th>1</th>\n",
       "      <td>mean</td>\n",
       "      <td>40.93621021432837</td>\n",
       "      <td>None</td>\n",
       "      <td>None</td>\n",
       "      <td>None</td>\n",
       "      <td>None</td>\n",
       "      <td>1362.2720576850766</td>\n",
       "      <td>None</td>\n",
       "      <td>None</td>\n",
       "      <td>None</td>\n",
       "      <td>15.80641879188693</td>\n",
       "      <td>None</td>\n",
       "      <td>258.1630797814691</td>\n",
       "      <td>2.763840658246887</td>\n",
       "      <td>40.19782796222158</td>\n",
       "      <td>0.5803233726305546</td>\n",
       "      <td>None</td>\n",
       "      <td>None</td>\n",
       "    </tr>\n",
       "    <tr>\n",
       "      <th>2</th>\n",
       "      <td>stddev</td>\n",
       "      <td>10.618762040975401</td>\n",
       "      <td>None</td>\n",
       "      <td>None</td>\n",
       "      <td>None</td>\n",
       "      <td>None</td>\n",
       "      <td>3044.7658291685243</td>\n",
       "      <td>None</td>\n",
       "      <td>None</td>\n",
       "      <td>None</td>\n",
       "      <td>8.322476153044589</td>\n",
       "      <td>None</td>\n",
       "      <td>257.5278122651712</td>\n",
       "      <td>3.0980208832791813</td>\n",
       "      <td>100.12874599059818</td>\n",
       "      <td>2.3034410449312164</td>\n",
       "      <td>None</td>\n",
       "      <td>None</td>\n",
       "    </tr>\n",
       "    <tr>\n",
       "      <th>3</th>\n",
       "      <td>min</td>\n",
       "      <td>18</td>\n",
       "      <td>admin.</td>\n",
       "      <td>divorced</td>\n",
       "      <td>primary</td>\n",
       "      <td>no</td>\n",
       "      <td>-8019</td>\n",
       "      <td>no</td>\n",
       "      <td>no</td>\n",
       "      <td>cellular</td>\n",
       "      <td>1</td>\n",
       "      <td>apr</td>\n",
       "      <td>0</td>\n",
       "      <td>1</td>\n",
       "      <td>-1</td>\n",
       "      <td>0</td>\n",
       "      <td>failure</td>\n",
       "      <td>no</td>\n",
       "    </tr>\n",
       "    <tr>\n",
       "      <th>4</th>\n",
       "      <td>max</td>\n",
       "      <td>95</td>\n",
       "      <td>unknown</td>\n",
       "      <td>single</td>\n",
       "      <td>unknown</td>\n",
       "      <td>yes</td>\n",
       "      <td>102127</td>\n",
       "      <td>yes</td>\n",
       "      <td>yes</td>\n",
       "      <td>unknown</td>\n",
       "      <td>31</td>\n",
       "      <td>sep</td>\n",
       "      <td>4918</td>\n",
       "      <td>63</td>\n",
       "      <td>871</td>\n",
       "      <td>275</td>\n",
       "      <td>unknown</td>\n",
       "      <td>yes</td>\n",
       "    </tr>\n",
       "  </tbody>\n",
       "</table>\n",
       "</div>"
      ],
      "text/plain": [
       "  summary                 age      job   marital education default  \\\n",
       "0   count               45211    45211     45211     45211   45211   \n",
       "1    mean   40.93621021432837     None      None      None    None   \n",
       "2  stddev  10.618762040975401     None      None      None    None   \n",
       "3     min                  18   admin.  divorced   primary      no   \n",
       "4     max                  95  unknown    single   unknown     yes   \n",
       "\n",
       "              balance housing   loan   contact                day  month  \\\n",
       "0               45211   45211  45211     45211              45211  45211   \n",
       "1  1362.2720576850766    None   None      None  15.80641879188693   None   \n",
       "2  3044.7658291685243    None   None      None  8.322476153044589   None   \n",
       "3               -8019      no     no  cellular                  1    apr   \n",
       "4              102127     yes    yes   unknown                 31    sep   \n",
       "\n",
       "            duration            campaign               pdays  \\\n",
       "0              45211               45211               45211   \n",
       "1  258.1630797814691   2.763840658246887   40.19782796222158   \n",
       "2  257.5278122651712  3.0980208832791813  100.12874599059818   \n",
       "3                  0                   1                  -1   \n",
       "4               4918                  63                 871   \n",
       "\n",
       "             previous poutcome      y  \n",
       "0               45211    45211  45211  \n",
       "1  0.5803233726305546     None   None  \n",
       "2  2.3034410449312164     None   None  \n",
       "3                   0  failure     no  \n",
       "4                 275  unknown    yes  "
      ]
     },
     "execution_count": 8,
     "metadata": {},
     "output_type": "execute_result"
    }
   ],
   "source": [
    "# describing the data:\n",
    "df.describe().toPandas()"
   ]
  },
  {
   "cell_type": "code",
   "execution_count": 9,
   "id": "b14db6b5",
   "metadata": {},
   "outputs": [
    {
     "name": "stdout",
     "output_type": "stream",
     "text": [
      "root\n",
      " |-- age: integer (nullable = true)\n",
      " |-- job: string (nullable = true)\n",
      " |-- marital: string (nullable = true)\n",
      " |-- education: string (nullable = true)\n",
      " |-- default: string (nullable = true)\n",
      " |-- balance: integer (nullable = true)\n",
      " |-- housing: string (nullable = true)\n",
      " |-- loan: string (nullable = true)\n",
      " |-- contact: string (nullable = true)\n",
      " |-- day: integer (nullable = true)\n",
      " |-- month: string (nullable = true)\n",
      " |-- duration: integer (nullable = true)\n",
      " |-- campaign: integer (nullable = true)\n",
      " |-- pdays: integer (nullable = true)\n",
      " |-- previous: integer (nullable = true)\n",
      " |-- poutcome: string (nullable = true)\n",
      " |-- y: string (nullable = true)\n",
      "\n"
     ]
    }
   ],
   "source": [
    "# type of each column\n",
    "df.printSchema()"
   ]
  },
  {
   "cell_type": "markdown",
   "id": "d99bb728",
   "metadata": {},
   "source": [
    "##### Cardinality Check"
   ]
  },
  {
   "cell_type": "code",
   "execution_count": 10,
   "id": "75173362",
   "metadata": {},
   "outputs": [],
   "source": [
    "# Note approxCountDistinct and countDistinct can be used interchangeably\n",
    "# approxCountDistinct is useful for larger dataset\n",
    "# countDistinct is useful for medium and small datasets"
   ]
  },
  {
   "cell_type": "code",
   "execution_count": 11,
   "id": "12b3a023",
   "metadata": {},
   "outputs": [],
   "source": [
    "# creating a function to check the cardinality:\n",
    "\n",
    "def check_cardinality(df, cut_off=1):\n",
    "    cardinality = df.select(*[approxCountDistinct(c).alias(c) for c in df.columns])\n",
    "    \n",
    "    # converting to pandas df, for efficiency\n",
    "    card_df = cardinality.toPandas().transpose()\n",
    "    card_df.reset_index(inplace=True)\n",
    "    card_df.rename(columns={0: 'Cardinality'}, inplace=True)\n",
    "    \n",
    "    # selecting features with cardinalty 1:\n",
    "    vars_selected = card_df['index'][card_df['Cardinality'] <= cut_off]\n",
    "    \n",
    "    return card_df, vars_selected"
   ]
  },
  {
   "cell_type": "code",
   "execution_count": 12,
   "id": "447b428e",
   "metadata": {},
   "outputs": [],
   "source": [
    "# getting the cardinality df and features with cardinality equal to 1\n",
    "cardinality_df, cardinality_vars_selected = check_cardinality(df)"
   ]
  },
  {
   "cell_type": "code",
   "execution_count": 13,
   "id": "b452fb7b",
   "metadata": {},
   "outputs": [
    {
     "name": "stdout",
     "output_type": "stream",
     "text": [
      "        index  Cardinality\n",
      "0         age           76\n",
      "1         job           11\n",
      "2     marital            3\n",
      "3   education            4\n",
      "4     default            2\n",
      "5     balance         7375\n",
      "6     housing            2\n",
      "7        loan            2\n",
      "8     contact            3\n",
      "9         day           32\n",
      "10      month           12\n",
      "11   duration         1605\n",
      "12   campaign           47\n",
      "13      pdays          547\n",
      "14   previous           42\n",
      "15   poutcome            4\n",
      "16          y            2\n",
      "Features with cardinality 1: Series([], Name: index, dtype: object)\n"
     ]
    }
   ],
   "source": [
    "# looking at the df:\n",
    "print(cardinality_df)\n",
    "print(f\"Features with cardinality 1: {cardinality_vars_selected}\")"
   ]
  },
  {
   "cell_type": "markdown",
   "id": "a0415bac",
   "metadata": {},
   "source": [
    "##### Missing Values Check:"
   ]
  },
  {
   "cell_type": "code",
   "execution_count": 14,
   "id": "da5895fc",
   "metadata": {},
   "outputs": [],
   "source": [
    "def missing_value_check(df, miss_percentage=0.80):\n",
    "    # checking for missing values:\n",
    "    missing = df.select(*[count(when(isnan(c) | col(c).isNull(), c)).alias(c) for c in df.columns])\n",
    "    total_length = df.count()\n",
    "    \n",
    "    # converting to pandas df for efficiency:\n",
    "    missing_df = missing.toPandas().transpose()\n",
    "    missing_df.reset_index(inplace=True)\n",
    "    missing_df.rename(columns={0: 'missing_count'}, inplace=True)\n",
    "    missing_df['percentage_missing'] = missing_df['missing_count'] / total_length\n",
    "    \n",
    "    # features with missing values greater than 80%\n",
    "    vars_selected = missing_df['index'][missing_df['percentage_missing'] >= miss_percentage]\n",
    "    \n",
    "    return missing_df, vars_selected"
   ]
  },
  {
   "cell_type": "code",
   "execution_count": 15,
   "id": "1bd56a7e",
   "metadata": {},
   "outputs": [],
   "source": [
    "# getting the missing values and features with missing values greater than 80%\n",
    "missing_df, missing_vars = missing_value_check(df)"
   ]
  },
  {
   "cell_type": "code",
   "execution_count": 16,
   "id": "5598474b",
   "metadata": {},
   "outputs": [
    {
     "name": "stdout",
     "output_type": "stream",
     "text": [
      "        index  missing_count  percentage_missing\n",
      "0         age              0                 0.0\n",
      "1         job              0                 0.0\n",
      "2     marital              0                 0.0\n",
      "3   education              0                 0.0\n",
      "4     default              0                 0.0\n",
      "5     balance              0                 0.0\n",
      "6     housing              0                 0.0\n",
      "7        loan              0                 0.0\n",
      "8     contact              0                 0.0\n",
      "9         day              0                 0.0\n",
      "10      month              0                 0.0\n",
      "11   duration              0                 0.0\n",
      "12   campaign              0                 0.0\n",
      "13      pdays              0                 0.0\n",
      "14   previous              0                 0.0\n",
      "15   poutcome              0                 0.0\n",
      "16          y              0                 0.0\n",
      "Series([], Name: index, dtype: object)\n"
     ]
    }
   ],
   "source": [
    "print(missing_df)\n",
    "print(missing_vars)"
   ]
  },
  {
   "cell_type": "markdown",
   "id": "3a67e50e",
   "metadata": {},
   "source": [
    "*There are no missing values.*"
   ]
  },
  {
   "cell_type": "markdown",
   "id": "8da98081",
   "metadata": {},
   "source": [
    "<b><i>In this dataset, there is no need to drop any columns based on Cardinality and Missing Values Check</i></b>"
   ]
  },
  {
   "cell_type": "markdown",
   "id": "d1fab4e6",
   "metadata": {},
   "source": [
    "##### Identifying Variable Types:"
   ]
  },
  {
   "cell_type": "code",
   "execution_count": 17,
   "id": "4a89b69a",
   "metadata": {},
   "outputs": [],
   "source": [
    "def variable_type(df):\n",
    "    \n",
    "    vars_list = df.dtypes\n",
    "    char_vars = []\n",
    "    num_vars = []\n",
    "    \n",
    "    for i in vars_list:\n",
    "        if i[1] in ('string'):\n",
    "            char_vars.append(i[0])\n",
    "        else:\n",
    "            num_vars.append(i[0])\n",
    "    \n",
    "    return char_vars, num_vars"
   ]
  },
  {
   "cell_type": "code",
   "execution_count": 18,
   "id": "a2311af1",
   "metadata": {},
   "outputs": [],
   "source": [
    "char_vars, num_vars = variable_type(df)"
   ]
  },
  {
   "cell_type": "code",
   "execution_count": 19,
   "id": "a0f310c9",
   "metadata": {},
   "outputs": [
    {
     "name": "stdout",
     "output_type": "stream",
     "text": [
      "Categorical Variables:\n",
      "['job', 'marital', 'education', 'default', 'housing', 'loan', 'contact', 'month', 'poutcome', 'y']\n",
      "Numeric Variables:\n",
      "['age', 'balance', 'day', 'duration', 'campaign', 'pdays', 'previous']\n"
     ]
    }
   ],
   "source": [
    "print(f\"Categorical Variables:\\n{char_vars}\")\n",
    "print(f\"Numeric Variables:\\n{num_vars}\")"
   ]
  },
  {
   "cell_type": "markdown",
   "id": "c94a343d",
   "metadata": {},
   "source": [
    "##### Applying StringIndexer to Char Vars"
   ]
  },
  {
   "cell_type": "code",
   "execution_count": 20,
   "id": "31d96581",
   "metadata": {},
   "outputs": [],
   "source": [
    "# converting char to numeric columns:\n",
    "\n",
    "def cat_to_int(df, char_vars):\n",
    "    char_df = df.select(char_vars)\n",
    "    \n",
    "    indexers = [StringIndexer(inputCol=c, outputCol=c+'_index', handleInvalid='keep') for c in char_df.columns]\n",
    "    pipeline = Pipeline(stages=indexers)\n",
    "    \n",
    "    char_labels = pipeline.fit(char_df)\n",
    "    df = char_labels.transform(df)\n",
    "    return df, char_labels"
   ]
  },
  {
   "cell_type": "code",
   "execution_count": 21,
   "id": "b4619de9",
   "metadata": {},
   "outputs": [],
   "source": [
    "df, char_labels = cat_to_int(df, char_vars)"
   ]
  },
  {
   "cell_type": "code",
   "execution_count": 22,
   "id": "6bd83f68",
   "metadata": {},
   "outputs": [],
   "source": [
    "# Lets select the required columns:\n",
    "\n",
    "df = df.select(*[c for c in df.columns if c not in char_vars])"
   ]
  },
  {
   "cell_type": "code",
   "execution_count": 23,
   "id": "eda8f0dc",
   "metadata": {},
   "outputs": [
    {
     "data": {
      "text/plain": [
       "['age',\n",
       " 'balance',\n",
       " 'day',\n",
       " 'duration',\n",
       " 'campaign',\n",
       " 'pdays',\n",
       " 'previous',\n",
       " 'job_index',\n",
       " 'marital_index',\n",
       " 'education_index',\n",
       " 'default_index',\n",
       " 'housing_index',\n",
       " 'loan_index',\n",
       " 'contact_index',\n",
       " 'month_index',\n",
       " 'poutcome_index',\n",
       " 'y_index']"
      ]
     },
     "execution_count": 23,
     "metadata": {},
     "output_type": "execute_result"
    }
   ],
   "source": [
    "df.columns"
   ]
  },
  {
   "cell_type": "code",
   "execution_count": 24,
   "id": "35a61439",
   "metadata": {},
   "outputs": [],
   "source": [
    "# renaming the _index vars to original column names:\n",
    "def rename_cols(df, char_vars):\n",
    "    mapping = dict(zip([i + '_index' for i in char_vars], char_vars))\n",
    "    df = df.select([col(c).alias(mapping.get(c, c)) for c in df.columns])\n",
    "    \n",
    "    return df"
   ]
  },
  {
   "cell_type": "code",
   "execution_count": 25,
   "id": "53c7c96e",
   "metadata": {},
   "outputs": [],
   "source": [
    "# applying rename function to the df\n",
    "df = rename_cols(df, char_vars)"
   ]
  },
  {
   "cell_type": "code",
   "execution_count": 26,
   "id": "51ad8fcd",
   "metadata": {},
   "outputs": [
    {
     "data": {
      "text/plain": [
       "['age',\n",
       " 'balance',\n",
       " 'day',\n",
       " 'duration',\n",
       " 'campaign',\n",
       " 'pdays',\n",
       " 'previous',\n",
       " 'job',\n",
       " 'marital',\n",
       " 'education',\n",
       " 'default',\n",
       " 'housing',\n",
       " 'loan',\n",
       " 'contact',\n",
       " 'month',\n",
       " 'poutcome',\n",
       " 'y']"
      ]
     },
     "execution_count": 26,
     "metadata": {},
     "output_type": "execute_result"
    }
   ],
   "source": [
    "df.columns"
   ]
  },
  {
   "cell_type": "code",
   "execution_count": 27,
   "id": "6c53771f",
   "metadata": {},
   "outputs": [
    {
     "name": "stdout",
     "output_type": "stream",
     "text": [
      "root\n",
      " |-- age: integer (nullable = true)\n",
      " |-- balance: integer (nullable = true)\n",
      " |-- day: integer (nullable = true)\n",
      " |-- duration: integer (nullable = true)\n",
      " |-- campaign: integer (nullable = true)\n",
      " |-- pdays: integer (nullable = true)\n",
      " |-- previous: integer (nullable = true)\n",
      " |-- job: double (nullable = false)\n",
      " |-- marital: double (nullable = false)\n",
      " |-- education: double (nullable = false)\n",
      " |-- default: double (nullable = false)\n",
      " |-- housing: double (nullable = false)\n",
      " |-- loan: double (nullable = false)\n",
      " |-- contact: double (nullable = false)\n",
      " |-- month: double (nullable = false)\n",
      " |-- poutcome: double (nullable = false)\n",
      " |-- y: double (nullable = false)\n",
      "\n"
     ]
    }
   ],
   "source": [
    "df.printSchema()"
   ]
  },
  {
   "cell_type": "markdown",
   "id": "29ac653a",
   "metadata": {},
   "source": [
    "##### Assembling the Features into One Single Feature:"
   ]
  },
  {
   "cell_type": "code",
   "execution_count": 28,
   "id": "97c6b0a6",
   "metadata": {},
   "outputs": [],
   "source": [
    "# Assembling all features into one column - 'feature'\n",
    "\n",
    "def assemble_features(df, features_list, target_variable_name):\n",
    "    assembler = VectorAssembler(inputCols=features_list, outputCol='feature')\n",
    "    \n",
    "    # selecting all the columns:\n",
    "    selected_cols = [target_variable_name, 'feature'] + features_list\n",
    "    \n",
    "    # creating the pipeline:\n",
    "    pipeline = Pipeline(stages=[assembler])\n",
    "    assembleModel = pipeline.fit(df)\n",
    "    \n",
    "    # applying the model to the data:\n",
    "    df = assembleModel.transform(df).select(selected_cols)\n",
    "    return df"
   ]
  },
  {
   "cell_type": "code",
   "execution_count": 29,
   "id": "4e2faafb",
   "metadata": {},
   "outputs": [
    {
     "name": "stdout",
     "output_type": "stream",
     "text": [
      "root\n",
      " |-- age: integer (nullable = true)\n",
      " |-- balance: integer (nullable = true)\n",
      " |-- day: integer (nullable = true)\n",
      " |-- duration: integer (nullable = true)\n",
      " |-- campaign: integer (nullable = true)\n",
      " |-- pdays: integer (nullable = true)\n",
      " |-- previous: integer (nullable = true)\n",
      " |-- job: double (nullable = false)\n",
      " |-- marital: double (nullable = false)\n",
      " |-- education: double (nullable = false)\n",
      " |-- default: double (nullable = false)\n",
      " |-- housing: double (nullable = false)\n",
      " |-- loan: double (nullable = false)\n",
      " |-- contact: double (nullable = false)\n",
      " |-- month: double (nullable = false)\n",
      " |-- poutcome: double (nullable = false)\n",
      " |-- y: double (nullable = false)\n",
      "\n"
     ]
    }
   ],
   "source": [
    "df.printSchema()"
   ]
  },
  {
   "cell_type": "code",
   "execution_count": 30,
   "id": "68b908af",
   "metadata": {},
   "outputs": [],
   "source": [
    "# features list:\n",
    "target_variable_name = 'y'\n",
    "features_list = df.columns\n",
    "features_list.remove(target_variable_name)"
   ]
  },
  {
   "cell_type": "code",
   "execution_count": 31,
   "id": "c73f0d52",
   "metadata": {},
   "outputs": [
    {
     "data": {
      "text/plain": [
       "['age',\n",
       " 'balance',\n",
       " 'day',\n",
       " 'duration',\n",
       " 'campaign',\n",
       " 'pdays',\n",
       " 'previous',\n",
       " 'job',\n",
       " 'marital',\n",
       " 'education',\n",
       " 'default',\n",
       " 'housing',\n",
       " 'loan',\n",
       " 'contact',\n",
       " 'month',\n",
       " 'poutcome']"
      ]
     },
     "execution_count": 31,
     "metadata": {},
     "output_type": "execute_result"
    }
   ],
   "source": [
    "features_list"
   ]
  },
  {
   "cell_type": "code",
   "execution_count": 32,
   "id": "f0839b01",
   "metadata": {},
   "outputs": [],
   "source": [
    "# applying the function to our df:\n",
    "df = assemble_features(df, features_list, target_variable_name)"
   ]
  },
  {
   "cell_type": "code",
   "execution_count": 33,
   "id": "9b898d23",
   "metadata": {},
   "outputs": [],
   "source": [
    "for key, value in df.schema['feature'].metadata['ml_attr']['attrs'].items():\n",
    "    features_df = pd.DataFrame(value)"
   ]
  },
  {
   "cell_type": "code",
   "execution_count": 34,
   "id": "4b3c37e5",
   "metadata": {},
   "outputs": [
    {
     "data": {
      "text/html": [
       "<div>\n",
       "<style scoped>\n",
       "    .dataframe tbody tr th:only-of-type {\n",
       "        vertical-align: middle;\n",
       "    }\n",
       "\n",
       "    .dataframe tbody tr th {\n",
       "        vertical-align: top;\n",
       "    }\n",
       "\n",
       "    .dataframe thead th {\n",
       "        text-align: right;\n",
       "    }\n",
       "</style>\n",
       "<table border=\"1\" class=\"dataframe\">\n",
       "  <thead>\n",
       "    <tr style=\"text-align: right;\">\n",
       "      <th></th>\n",
       "      <th>vals</th>\n",
       "      <th>idx</th>\n",
       "      <th>name</th>\n",
       "    </tr>\n",
       "  </thead>\n",
       "  <tbody>\n",
       "    <tr>\n",
       "      <th>0</th>\n",
       "      <td>[blue-collar, management, technician, admin., ...</td>\n",
       "      <td>7</td>\n",
       "      <td>job</td>\n",
       "    </tr>\n",
       "    <tr>\n",
       "      <th>1</th>\n",
       "      <td>[married, single, divorced, __unknown]</td>\n",
       "      <td>8</td>\n",
       "      <td>marital</td>\n",
       "    </tr>\n",
       "    <tr>\n",
       "      <th>2</th>\n",
       "      <td>[secondary, tertiary, primary, unknown, __unkn...</td>\n",
       "      <td>9</td>\n",
       "      <td>education</td>\n",
       "    </tr>\n",
       "    <tr>\n",
       "      <th>3</th>\n",
       "      <td>[no, yes, __unknown]</td>\n",
       "      <td>10</td>\n",
       "      <td>default</td>\n",
       "    </tr>\n",
       "    <tr>\n",
       "      <th>4</th>\n",
       "      <td>[yes, no, __unknown]</td>\n",
       "      <td>11</td>\n",
       "      <td>housing</td>\n",
       "    </tr>\n",
       "    <tr>\n",
       "      <th>5</th>\n",
       "      <td>[no, yes, __unknown]</td>\n",
       "      <td>12</td>\n",
       "      <td>loan</td>\n",
       "    </tr>\n",
       "    <tr>\n",
       "      <th>6</th>\n",
       "      <td>[cellular, unknown, telephone, __unknown]</td>\n",
       "      <td>13</td>\n",
       "      <td>contact</td>\n",
       "    </tr>\n",
       "    <tr>\n",
       "      <th>7</th>\n",
       "      <td>[may, jul, aug, jun, nov, apr, feb, jan, oct, ...</td>\n",
       "      <td>14</td>\n",
       "      <td>month</td>\n",
       "    </tr>\n",
       "    <tr>\n",
       "      <th>8</th>\n",
       "      <td>[unknown, failure, other, success, __unknown]</td>\n",
       "      <td>15</td>\n",
       "      <td>poutcome</td>\n",
       "    </tr>\n",
       "  </tbody>\n",
       "</table>\n",
       "</div>"
      ],
      "text/plain": [
       "                                                vals  idx       name\n",
       "0  [blue-collar, management, technician, admin., ...    7        job\n",
       "1             [married, single, divorced, __unknown]    8    marital\n",
       "2  [secondary, tertiary, primary, unknown, __unkn...    9  education\n",
       "3                               [no, yes, __unknown]   10    default\n",
       "4                               [yes, no, __unknown]   11    housing\n",
       "5                               [no, yes, __unknown]   12       loan\n",
       "6          [cellular, unknown, telephone, __unknown]   13    contact\n",
       "7  [may, jul, aug, jun, nov, apr, feb, jan, oct, ...   14      month\n",
       "8      [unknown, failure, other, success, __unknown]   15   poutcome"
      ]
     },
     "execution_count": 34,
     "metadata": {},
     "output_type": "execute_result"
    }
   ],
   "source": [
    "# having a look at the features/independent variables\n",
    "# features_df.drop('vals', inplace=True, axis=1)\n",
    "features_df"
   ]
  },
  {
   "cell_type": "code",
   "execution_count": 35,
   "id": "82797058",
   "metadata": {},
   "outputs": [
    {
     "data": {
      "text/html": [
       "<table border='1'>\n",
       "<tr><th>y</th><th>count</th></tr>\n",
       "<tr><td>0.0</td><td>39922</td></tr>\n",
       "<tr><td>1.0</td><td>5289</td></tr>\n",
       "</table>\n"
      ],
      "text/plain": [
       "+---+-----+\n",
       "|  y|count|\n",
       "+---+-----+\n",
       "|0.0|39922|\n",
       "|1.0| 5289|\n",
       "+---+-----+"
      ]
     },
     "execution_count": 35,
     "metadata": {},
     "output_type": "execute_result"
    }
   ],
   "source": [
    "# checking the dependent variable:\n",
    "df.groupBy('y').count()"
   ]
  },
  {
   "cell_type": "markdown",
   "id": "f83ebf76",
   "metadata": {},
   "source": [
    "### Applying PCA:"
   ]
  },
  {
   "cell_type": "code",
   "execution_count": 36,
   "id": "06d79cda",
   "metadata": {},
   "outputs": [],
   "source": [
    "no_of_components = 3"
   ]
  },
  {
   "cell_type": "code",
   "execution_count": 37,
   "id": "ac810b3e",
   "metadata": {},
   "outputs": [],
   "source": [
    "# creating the model:\n",
    "pca = PCA(k=no_of_components, inputCol='feature', outputCol='pcaFeatures')"
   ]
  },
  {
   "cell_type": "code",
   "execution_count": 38,
   "id": "3f57153a",
   "metadata": {},
   "outputs": [],
   "source": [
    "# fitting the model:\n",
    "model = pca.fit(df)"
   ]
  },
  {
   "cell_type": "code",
   "execution_count": 39,
   "id": "0bf4adf7",
   "metadata": {},
   "outputs": [],
   "source": [
    "# getting the results:\n",
    "results = model.transform(df).select('pcaFeatures')"
   ]
  },
  {
   "cell_type": "code",
   "execution_count": 40,
   "id": "991e986a",
   "metadata": {},
   "outputs": [
    {
     "name": "stdout",
     "output_type": "stream",
     "text": [
      "+------------------------------------------------------------+\n",
      "|pcaFeatures                                                 |\n",
      "+------------------------------------------------------------+\n",
      "|[-2143.4953647735806,-257.0420740676509,1.2449712753045807] |\n",
      "|[-29.29226175164622,-150.92888640669173,1.0493026899277984] |\n",
      "|[-2.150889773941845,-75.98191250436618,1.076065195538016]   |\n",
      "|[-1506.1823305908113,-89.21547154672724,1.2683999536975388] |\n",
      "|[-1.3750908349447704,-197.98356175494834,0.9892427009814176]|\n",
      "|[-231.26679712386607,-138.56034919503722,1.0576960891394662]|\n",
      "|[-447.4072782675638,-216.16541383839757,1.0066666548029033] |\n",
      "|[-2.7123264447441384,-379.9785828164356,0.875150469836411]  |\n",
      "|[-121.11144848214039,-49.756360259707854,1.1725853591922941]|\n",
      "|[-593.1146061641073,-53.89364261832045,1.1817022732261329]  |\n",
      "|[-270.4212341323415,-221.4869966182793,1.0170824073203284]  |\n",
      "|[-390.2608167665407,-136.27016909339142,1.0625336862698371] |\n",
      "|[-6.967616100129074,-516.9674558248698,0.800354576806597]   |\n",
      "|[-71.15006476185224,-70.84798774752204,1.1499619332807443]  |\n",
      "|[-162.33874829001962,-173.68095250690803,1.082334518324592] |\n",
      "|[-229.66539702564614,-352.5590565974903,0.9435034899629685] |\n",
      "|[-13.19533609012041,-97.95815345000725,1.0902785009000497]  |\n",
      "|[-52.08909854893974,-37.88319180402843,1.168229651755821]   |\n",
      "|[-60.42264272680139,-218.86732123338805,1.0462594933055773] |\n",
      "|[-0.11044203745870551,-53.98554342962402,1.0903138050957364]|\n",
      "+------------------------------------------------------------+\n",
      "only showing top 20 rows\n",
      "\n",
      "None\n",
      "45211\n"
     ]
    }
   ],
   "source": [
    "# looking at the results:\n",
    "print(results.show(truncate=False))\n",
    "print(results.count())"
   ]
  },
  {
   "cell_type": "code",
   "execution_count": 41,
   "id": "4964e2e6",
   "metadata": {},
   "outputs": [
    {
     "data": {
      "text/plain": [
       "array([[-3.41021399e-04,  2.79524640e-04,  2.58353293e-03],\n",
       "       [-9.99998245e-01,  1.83654726e-03,  1.13892524e-04],\n",
       "       [-1.22934480e-05,  9.79995613e-04,  7.79347982e-03],\n",
       "       [-1.83671689e-03, -9.99996986e-01, -7.36955549e-04],\n",
       "       [ 1.48468991e-05,  1.01391994e-03,  2.75121381e-03],\n",
       "       [-1.13085547e-04,  7.49207153e-04, -9.99889046e-01],\n",
       "       [-1.26153895e-05, -6.36100089e-06, -1.04654388e-02],\n",
       "       [-1.78789640e-05, -4.11817349e-05,  5.51411389e-04],\n",
       "       [ 6.41085932e-06, -5.23364803e-05, -1.45349520e-04],\n",
       "       [-1.11185424e-05,  1.30366514e-05,  2.01500982e-04],\n",
       "       [ 2.91665702e-06,  4.42643869e-06,  3.95562163e-05],\n",
       "       [-1.12221341e-05,  1.26153926e-05,  6.17569266e-04],\n",
       "       [ 1.01623400e-05,  1.50687571e-05,  8.23933054e-05],\n",
       "       [-5.68377754e-07,  6.95393403e-05,  1.03951369e-03],\n",
       "       [-7.60886236e-05, -1.16754927e-04, -3.24662847e-03],\n",
       "       [-8.55162111e-06, -6.01853226e-05, -4.94522998e-03]])"
      ]
     },
     "execution_count": 41,
     "metadata": {},
     "output_type": "execute_result"
    }
   ],
   "source": [
    "# Looking at the components values for each feature:\n",
    "model.pc.toArray()"
   ]
  },
  {
   "cell_type": "code",
   "execution_count": 42,
   "id": "a3c4a561",
   "metadata": {},
   "outputs": [
    {
     "data": {
      "text/plain": [
       "[([-0.0003410213990273636, 0.00027952463963604006, 0.002583532925870642],\n",
       "  'age'),\n",
       " ([-0.9999982451341514, 0.0018365472579335252, 0.00011389252397718194],\n",
       "  'balance'),\n",
       " ([-1.2293447991277402e-05, 0.0009799956132781793, 0.00779347982162845],\n",
       "  'day'),\n",
       " ([-0.0018367168937643888, -0.9999969860368375, -0.0007369555489695262],\n",
       "  'duration'),\n",
       " ([1.484689906393099e-05, 0.0010139199434171776, 0.002751213809717475],\n",
       "  'campaign'),\n",
       " ([-0.00011308554711977198, 0.0007492071533616665, -0.9998890460217605],\n",
       "  'pdays'),\n",
       " ([-1.2615389495728915e-05, -6.3610008936661435e-06, -0.010465438819397096],\n",
       "  'previous'),\n",
       " ([-1.7878963999769693e-05, -4.118173488565256e-05, 0.0005514113887622565],\n",
       "  'job'),\n",
       " ([6.410859324430882e-06, -5.2336480298534866e-05, -0.0001453495202848252],\n",
       "  'marital'),\n",
       " ([-1.1118542366436062e-05, 1.303665142277522e-05, 0.00020150098195610287],\n",
       "  'education'),\n",
       " ([2.916657023449556e-06, 4.4264386927589735e-06, 3.9556216276818536e-05],\n",
       "  'default'),\n",
       " ([-1.1222134068766961e-05, 1.2615392634366016e-05, 0.0006175692663965615],\n",
       "  'housing'),\n",
       " ([1.016233997894863e-05, 1.5068757084556117e-05, 8.239330536787649e-05],\n",
       "  'loan'),\n",
       " ([-5.683777537400167e-07, 6.95393403069086e-05, 0.001039513691690243],\n",
       "  'contact'),\n",
       " ([-7.608862363565753e-05, -0.00011675492748684883, -0.0032466284677267125],\n",
       "  'month'),\n",
       " ([-8.55162110727742e-06, -6.018532259439578e-05, -0.004945229981168847],\n",
       "  'poutcome')]"
      ]
     },
     "execution_count": 42,
     "metadata": {},
     "output_type": "execute_result"
    }
   ],
   "source": [
    "list(zip(model.pc.toArray().tolist(), features_list))"
   ]
  },
  {
   "cell_type": "code",
   "execution_count": 43,
   "id": "572a391e",
   "metadata": {},
   "outputs": [
    {
     "data": {
      "text/plain": [
       "DenseVector([0.9918, 0.0071, 0.0011])"
      ]
     },
     "execution_count": 43,
     "metadata": {},
     "output_type": "execute_result"
    }
   ],
   "source": [
    "# Looking at the variance explained by the three selected components:\n",
    "\n",
    "model.explainedVariance"
   ]
  },
  {
   "cell_type": "code",
   "execution_count": 44,
   "id": "6b686dcc",
   "metadata": {},
   "outputs": [
    {
     "data": {
      "image/png": "[encoded data removed]",
      "text/plain": [
       "<Figure size 432x288 with 1 Axes>"
      ]
     },
     "metadata": {
      "needs_background": "light"
     },
     "output_type": "display_data"
    }
   ],
   "source": [
    "# Plotting:\n",
    "x = []\n",
    "for i in range(len(model.explainedVariance)):\n",
    "    x.append('PC-' + str(i + 1))\n",
    "    \n",
    "y = np.array(model.explainedVariance)\n",
    "z = np.cumsum(model.explainedVariance)\n",
    "\n",
    "plt.figure()\n",
    "plt.xlabel(\"Principal Components\")\n",
    "plt.ylabel(\"Variance Explained\")\n",
    "plt.bar(x, y)\n",
    "plt.plot(x, z, 'r')\n",
    "plt.show();"
   ]
  },
  {
   "cell_type": "markdown",
   "id": "9807ad5a",
   "metadata": {},
   "source": [
    "*Note: We are seeing that the first component explains 99% of variance, this is because we havent Standardized the data, and thats why we have this result.*"
   ]
  },
  {
   "cell_type": "markdown",
   "id": "c900914d",
   "metadata": {},
   "source": [
    "##### Lets Standardize the data along with assembling:"
   ]
  },
  {
   "cell_type": "code",
   "execution_count": 45,
   "id": "fe3fc624",
   "metadata": {},
   "outputs": [],
   "source": [
    "# function to assemble and standardize:\n",
    "def scale_assemble(df, features_list, target_variable_name):\n",
    "    \n",
    "    assembler = VectorAssembler(inputCols=features_list, outputCol='assembler_output')\n",
    "    scaler = StandardScaler(inputCol=assembler.getOutputCol(), outputCol='features2')\n",
    "    \n",
    "    pipeline = Pipeline(stages=[assembler, scaler])\n",
    "    \n",
    "    selected_cols = [target_variable_name, 'features2'] + features_list\n",
    "    \n",
    "    # model:\n",
    "    scaled_model = pipeline.fit(df)\n",
    "    df = scaled_model.transform(df).select(selected_cols)\n",
    "    return df"
   ]
  },
  {
   "cell_type": "code",
   "execution_count": 46,
   "id": "5398d172",
   "metadata": {},
   "outputs": [],
   "source": [
    "# new features list:\n",
    "target_variable_name = 'y'\n",
    "features_list = df.columns\n",
    "\n",
    "features_list.remove(target_variable_name)\n",
    "features_list.remove('feature')"
   ]
  },
  {
   "cell_type": "code",
   "execution_count": 47,
   "id": "60aedad0",
   "metadata": {},
   "outputs": [
    {
     "data": {
      "text/plain": [
       "['age',\n",
       " 'balance',\n",
       " 'day',\n",
       " 'duration',\n",
       " 'campaign',\n",
       " 'pdays',\n",
       " 'previous',\n",
       " 'job',\n",
       " 'marital',\n",
       " 'education',\n",
       " 'default',\n",
       " 'housing',\n",
       " 'loan',\n",
       " 'contact',\n",
       " 'month',\n",
       " 'poutcome']"
      ]
     },
     "execution_count": 47,
     "metadata": {},
     "output_type": "execute_result"
    }
   ],
   "source": [
    "features_list"
   ]
  },
  {
   "cell_type": "code",
   "execution_count": 48,
   "id": "f4ab21fb",
   "metadata": {},
   "outputs": [],
   "source": [
    "# applying the function to the df:\n",
    "df = scale_assemble(df, features_list, target_variable_name)"
   ]
  },
  {
   "cell_type": "code",
   "execution_count": 49,
   "id": "924dddfc",
   "metadata": {},
   "outputs": [
    {
     "name": "stdout",
     "output_type": "stream",
     "text": [
      "root\n",
      " |-- y: double (nullable = false)\n",
      " |-- features2: vector (nullable = true)\n",
      " |-- age: integer (nullable = true)\n",
      " |-- balance: integer (nullable = true)\n",
      " |-- day: integer (nullable = true)\n",
      " |-- duration: integer (nullable = true)\n",
      " |-- campaign: integer (nullable = true)\n",
      " |-- pdays: integer (nullable = true)\n",
      " |-- previous: integer (nullable = true)\n",
      " |-- job: double (nullable = false)\n",
      " |-- marital: double (nullable = false)\n",
      " |-- education: double (nullable = false)\n",
      " |-- default: double (nullable = false)\n",
      " |-- housing: double (nullable = false)\n",
      " |-- loan: double (nullable = false)\n",
      " |-- contact: double (nullable = false)\n",
      " |-- month: double (nullable = false)\n",
      " |-- poutcome: double (nullable = false)\n",
      "\n"
     ]
    }
   ],
   "source": [
    "df.printSchema()"
   ]
  },
  {
   "cell_type": "markdown",
   "id": "b6c74d24",
   "metadata": {},
   "source": [
    "##### Applying PCA with standardized data:"
   ]
  },
  {
   "cell_type": "code",
   "execution_count": 50,
   "id": "eb538369",
   "metadata": {},
   "outputs": [],
   "source": [
    "pca = PCA(k=3, inputCol='features2', outputCol='pcaFeatures')"
   ]
  },
  {
   "cell_type": "code",
   "execution_count": 51,
   "id": "8a938da6",
   "metadata": {},
   "outputs": [],
   "source": [
    "model = pca.fit(df)\n",
    "results = model.transform(df).select('pcaFeatures')"
   ]
  },
  {
   "cell_type": "code",
   "execution_count": 52,
   "id": "95ddb08f",
   "metadata": {},
   "outputs": [
    {
     "name": "stdout",
     "output_type": "stream",
     "text": [
      "+------------------------------------------------------------+\n",
      "|pcaFeatures                                                 |\n",
      "+------------------------------------------------------------+\n",
      "|[-0.4644142164927719,3.049182235189231,-3.1068609182408675] |\n",
      "|[-0.4175843081487315,1.939595579401488,-1.4233873028526989] |\n",
      "|[-0.5602625730593708,1.7172214203105833,-0.9990540872432135]|\n",
      "|[-0.5501186775777905,3.039358938724218,-3.7635797340253134] |\n",
      "|[-0.3733551759709914,4.638013436006294,-0.9957124286640747] |\n",
      "|[-0.49697427374014125,1.9157932057206255,-2.281377956560747]|\n",
      "|[-0.5731010183633269,1.010470440507545,-1.1454673356525147] |\n",
      "|[-0.6900467931528002,2.0237713278687,0.3065703703995186]    |\n",
      "|[-0.5039490659816055,3.6597285262273362,-3.204221549019425] |\n",
      "|[-0.4199600530035481,1.9422704770403387,-1.4644142022269446]|\n",
      "|[-0.3420077707742454,1.8275190997086868,-0.5751233281176567]|\n",
      "|[-0.394188407948275,1.4706548471472922,-0.8269802108503758] |\n",
      "|[-0.4279437874606594,2.470900702898163,-2.1642104885930666] |\n",
      "|[-0.5598793417609726,3.609390134504788,-3.9129229917931685] |\n",
      "|[-0.44839863319205125,2.871736473477,-2.3100253192367326]   |\n",
      "|[-0.4607014895511068,3.3991386476106347,-2.800302855663883] |\n",
      "|[-0.48887412471419733,3.0528169579732314,-2.72408288692]    |\n",
      "|[-0.5606317295273424,3.0020493515607742,-3.6368875140562897]|\n",
      "|[-0.48508527548295777,3.7484305910915254,-3.181005335976817]|\n",
      "|[-0.4523219642991579,1.853757640408549,-1.5245821745409371] |\n",
      "+------------------------------------------------------------+\n",
      "only showing top 20 rows\n",
      "\n"
     ]
    }
   ],
   "source": [
    "results.show(truncate=False)"
   ]
  },
  {
   "cell_type": "code",
   "execution_count": 53,
   "id": "c1320114",
   "metadata": {},
   "outputs": [
    {
     "data": {
      "text/plain": [
       "DenseVector([0.1434, 0.0987, 0.0787])"
      ]
     },
     "execution_count": 53,
     "metadata": {},
     "output_type": "execute_result"
    }
   ],
   "source": [
    "# lets now look at the variance explained:\n",
    "\n",
    "model.explainedVariance"
   ]
  },
  {
   "cell_type": "code",
   "execution_count": 54,
   "id": "90455282",
   "metadata": {},
   "outputs": [
    {
     "data": {
      "image/png": "[encoded data removed]",
      "text/plain": [
       "<Figure size 432x288 with 1 Axes>"
      ]
     },
     "metadata": {
      "needs_background": "light"
     },
     "output_type": "display_data"
    }
   ],
   "source": [
    "# Plotting the results:\n",
    "\n",
    "x = []\n",
    "for i in range(len(model.explainedVariance)):\n",
    "    x.append('PCA-' + str(i + 1))\n",
    "    \n",
    "y = np.array(model.explainedVariance)\n",
    "z = np.cumsum(model.explainedVariance)\n",
    "\n",
    "plt.figure()\n",
    "plt.xlabel('PCA components')\n",
    "plt.ylabel('Explained Variance')\n",
    "plt.plot(x, z, 'r')\n",
    "plt.bar(x, y)\n",
    "plt.show();"
   ]
  },
  {
   "cell_type": "markdown",
   "id": "56b000fc",
   "metadata": {},
   "source": [
    "### Applying SVD:"
   ]
  },
  {
   "cell_type": "code",
   "execution_count": 56,
   "id": "eb1f3261",
   "metadata": {},
   "outputs": [
    {
     "name": "stdout",
     "output_type": "stream",
     "text": [
      "root\n",
      " |-- y: double (nullable = false)\n",
      " |-- features2: vector (nullable = true)\n",
      " |-- age: integer (nullable = true)\n",
      " |-- balance: integer (nullable = true)\n",
      " |-- day: integer (nullable = true)\n",
      " |-- duration: integer (nullable = true)\n",
      " |-- campaign: integer (nullable = true)\n",
      " |-- pdays: integer (nullable = true)\n",
      " |-- previous: integer (nullable = true)\n",
      " |-- job: double (nullable = false)\n",
      " |-- marital: double (nullable = false)\n",
      " |-- education: double (nullable = false)\n",
      " |-- default: double (nullable = false)\n",
      " |-- housing: double (nullable = false)\n",
      " |-- loan: double (nullable = false)\n",
      " |-- contact: double (nullable = false)\n",
      " |-- month: double (nullable = false)\n",
      " |-- poutcome: double (nullable = false)\n",
      "\n"
     ]
    }
   ],
   "source": [
    "# looking at the data:\n",
    "df.printSchema()"
   ]
  },
  {
   "cell_type": "code",
   "execution_count": 57,
   "id": "6659da1d",
   "metadata": {},
   "outputs": [],
   "source": [
    "# converting df to rdd:\n",
    "df_svd_vector = df.rdd.map(lambda x: x['features2'].toArray())"
   ]
  },
  {
   "cell_type": "code",
   "execution_count": 58,
   "id": "255e94f4",
   "metadata": {},
   "outputs": [],
   "source": [
    "# creating the row matrix:\n",
    "matrix = RowMatrix(df_svd_vector)"
   ]
  },
  {
   "cell_type": "code",
   "execution_count": null,
   "id": "12faafb8",
   "metadata": {},
   "outputs": [],
   "source": [
    "# Computing the top 5 singular values and corresponding singular vectors:\n",
    "no_singular_values = 5\n",
    "svd = matrix.computeSVD(k=no_singular_values, computeU=True)"
   ]
  },
  {
   "cell_type": "code",
   "execution_count": null,
   "id": "2c76bbcb",
   "metadata": {},
   "outputs": [],
   "source": [
    "# Getting the vectors and singular values:\n",
    "\n",
    "U = svd.U  # the left singular vectors\n",
    "s = svd.s  # the singular values\n",
    "V = svd.V  # the right singular vectors"
   ]
  },
  {
   "cell_type": "markdown",
   "id": "47bb851c",
   "metadata": {},
   "source": [
    "### Model-Based Feature Selection"
   ]
  },
  {
   "cell_type": "code",
   "execution_count": 63,
   "id": "322a60fc",
   "metadata": {},
   "outputs": [],
   "source": [
    "# creating the instance of the model:\n",
    "rf = RandomForestClassifier(featuresCol='features2', labelCol=target_variable_name)"
   ]
  },
  {
   "cell_type": "code",
   "execution_count": 64,
   "id": "8e398a6b",
   "metadata": {},
   "outputs": [],
   "source": [
    "# Fitting the data:\n",
    "rf_model = rf.fit(df)"
   ]
  },
  {
   "cell_type": "code",
   "execution_count": 66,
   "id": "80d4f50e",
   "metadata": {},
   "outputs": [
    {
     "data": {
      "text/plain": [
       "SparseVector(16, {0: 0.0306, 1: 0.0087, 2: 0.0028, 3: 0.356, 4: 0.0045, 5: 0.0376, 6: 0.0208, 7: 0.0029, 8: 0.0027, 9: 0.0013, 10: 0.0001, 11: 0.036, 12: 0.0013, 13: 0.0246, 14: 0.0985, 15: 0.3717})"
      ]
     },
     "execution_count": 66,
     "metadata": {},
     "output_type": "execute_result"
    }
   ],
   "source": [
    "# Getting the features importances from the model:\n",
    "rf_model.featureImportances"
   ]
  },
  {
   "cell_type": "code",
   "execution_count": 80,
   "id": "d1f151be",
   "metadata": {},
   "outputs": [],
   "source": [
    "# lets build the dataframe for easy access:\n",
    "feat_df = features_df.drop('vals', axis=1)"
   ]
  },
  {
   "cell_type": "code",
   "execution_count": 81,
   "id": "10d45f5d",
   "metadata": {},
   "outputs": [
    {
     "data": {
      "text/html": [
       "<div>\n",
       "<style scoped>\n",
       "    .dataframe tbody tr th:only-of-type {\n",
       "        vertical-align: middle;\n",
       "    }\n",
       "\n",
       "    .dataframe tbody tr th {\n",
       "        vertical-align: top;\n",
       "    }\n",
       "\n",
       "    .dataframe thead th {\n",
       "        text-align: right;\n",
       "    }\n",
       "</style>\n",
       "<table border=\"1\" class=\"dataframe\">\n",
       "  <thead>\n",
       "    <tr style=\"text-align: right;\">\n",
       "      <th></th>\n",
       "      <th>idx</th>\n",
       "      <th>name</th>\n",
       "    </tr>\n",
       "  </thead>\n",
       "  <tbody>\n",
       "    <tr>\n",
       "      <th>0</th>\n",
       "      <td>7</td>\n",
       "      <td>job</td>\n",
       "    </tr>\n",
       "    <tr>\n",
       "      <th>1</th>\n",
       "      <td>8</td>\n",
       "      <td>marital</td>\n",
       "    </tr>\n",
       "    <tr>\n",
       "      <th>2</th>\n",
       "      <td>9</td>\n",
       "      <td>education</td>\n",
       "    </tr>\n",
       "    <tr>\n",
       "      <th>3</th>\n",
       "      <td>10</td>\n",
       "      <td>default</td>\n",
       "    </tr>\n",
       "    <tr>\n",
       "      <th>4</th>\n",
       "      <td>11</td>\n",
       "      <td>housing</td>\n",
       "    </tr>\n",
       "    <tr>\n",
       "      <th>5</th>\n",
       "      <td>12</td>\n",
       "      <td>loan</td>\n",
       "    </tr>\n",
       "    <tr>\n",
       "      <th>6</th>\n",
       "      <td>13</td>\n",
       "      <td>contact</td>\n",
       "    </tr>\n",
       "    <tr>\n",
       "      <th>7</th>\n",
       "      <td>14</td>\n",
       "      <td>month</td>\n",
       "    </tr>\n",
       "    <tr>\n",
       "      <th>8</th>\n",
       "      <td>15</td>\n",
       "      <td>poutcome</td>\n",
       "    </tr>\n",
       "  </tbody>\n",
       "</table>\n",
       "</div>"
      ],
      "text/plain": [
       "   idx       name\n",
       "0    7        job\n",
       "1    8    marital\n",
       "2    9  education\n",
       "3   10    default\n",
       "4   11    housing\n",
       "5   12       loan\n",
       "6   13    contact\n",
       "7   14      month\n",
       "8   15   poutcome"
      ]
     },
     "execution_count": 81,
     "metadata": {},
     "output_type": "execute_result"
    }
   ],
   "source": [
    "feat_df"
   ]
  },
  {
   "cell_type": "code",
   "execution_count": 82,
   "id": "ea631cfe",
   "metadata": {},
   "outputs": [],
   "source": [
    "rf_output = rf_model.featureImportances"
   ]
  },
  {
   "cell_type": "code",
   "execution_count": 83,
   "id": "c54e4d37",
   "metadata": {},
   "outputs": [],
   "source": [
    "feat_df['feature_importance'] = feat_df['idx'].apply(lambda x: rf_output[x] if x in rf_output.indices else 0)"
   ]
  },
  {
   "cell_type": "code",
   "execution_count": 84,
   "id": "b3b8fc43",
   "metadata": {},
   "outputs": [],
   "source": [
    "# sorting the df according to the feature importance\n",
    "feat_df.sort_values('feature_importance', ascending=False, inplace=True)"
   ]
  },
  {
   "cell_type": "code",
   "execution_count": 85,
   "id": "14724912",
   "metadata": {},
   "outputs": [
    {
     "data": {
      "text/html": [
       "<div>\n",
       "<style scoped>\n",
       "    .dataframe tbody tr th:only-of-type {\n",
       "        vertical-align: middle;\n",
       "    }\n",
       "\n",
       "    .dataframe tbody tr th {\n",
       "        vertical-align: top;\n",
       "    }\n",
       "\n",
       "    .dataframe thead th {\n",
       "        text-align: right;\n",
       "    }\n",
       "</style>\n",
       "<table border=\"1\" class=\"dataframe\">\n",
       "  <thead>\n",
       "    <tr style=\"text-align: right;\">\n",
       "      <th></th>\n",
       "      <th>idx</th>\n",
       "      <th>name</th>\n",
       "      <th>feature_importance</th>\n",
       "    </tr>\n",
       "  </thead>\n",
       "  <tbody>\n",
       "    <tr>\n",
       "      <th>8</th>\n",
       "      <td>15</td>\n",
       "      <td>poutcome</td>\n",
       "      <td>0.371703</td>\n",
       "    </tr>\n",
       "    <tr>\n",
       "      <th>7</th>\n",
       "      <td>14</td>\n",
       "      <td>month</td>\n",
       "      <td>0.098509</td>\n",
       "    </tr>\n",
       "    <tr>\n",
       "      <th>4</th>\n",
       "      <td>11</td>\n",
       "      <td>housing</td>\n",
       "      <td>0.035966</td>\n",
       "    </tr>\n",
       "    <tr>\n",
       "      <th>6</th>\n",
       "      <td>13</td>\n",
       "      <td>contact</td>\n",
       "      <td>0.024590</td>\n",
       "    </tr>\n",
       "    <tr>\n",
       "      <th>0</th>\n",
       "      <td>7</td>\n",
       "      <td>job</td>\n",
       "      <td>0.002947</td>\n",
       "    </tr>\n",
       "    <tr>\n",
       "      <th>1</th>\n",
       "      <td>8</td>\n",
       "      <td>marital</td>\n",
       "      <td>0.002655</td>\n",
       "    </tr>\n",
       "    <tr>\n",
       "      <th>5</th>\n",
       "      <td>12</td>\n",
       "      <td>loan</td>\n",
       "      <td>0.001332</td>\n",
       "    </tr>\n",
       "    <tr>\n",
       "      <th>2</th>\n",
       "      <td>9</td>\n",
       "      <td>education</td>\n",
       "      <td>0.001271</td>\n",
       "    </tr>\n",
       "    <tr>\n",
       "      <th>3</th>\n",
       "      <td>10</td>\n",
       "      <td>default</td>\n",
       "      <td>0.000093</td>\n",
       "    </tr>\n",
       "  </tbody>\n",
       "</table>\n",
       "</div>"
      ],
      "text/plain": [
       "   idx       name  feature_importance\n",
       "8   15   poutcome            0.371703\n",
       "7   14      month            0.098509\n",
       "4   11    housing            0.035966\n",
       "6   13    contact            0.024590\n",
       "0    7        job            0.002947\n",
       "1    8    marital            0.002655\n",
       "5   12       loan            0.001332\n",
       "2    9  education            0.001271\n",
       "3   10    default            0.000093"
      ]
     },
     "execution_count": 85,
     "metadata": {},
     "output_type": "execute_result"
    }
   ],
   "source": [
    "feat_df"
   ]
  },
  {
   "cell_type": "code",
   "execution_count": 87,
   "id": "a530b23c",
   "metadata": {},
   "outputs": [
    {
     "data": {
      "image/png": "[encoded data removed]",
      "text/plain": [
       "<Figure size 432x288 with 1 Axes>"
      ]
     },
     "metadata": {
      "needs_background": "light"
     },
     "output_type": "display_data"
    }
   ],
   "source": [
    "# plotting the data:\n",
    "plt.figure()\n",
    "plt.barh(feat_df['name'], feat_df['feature_importance'])\n",
    "plt.title('Feature Importance Plot')\n",
    "plt.xlabel('Importance Score')\n",
    "plt.ylabel('Feature Name')\n",
    "plt.show();"
   ]
  },
  {
   "cell_type": "code",
   "execution_count": null,
   "id": "d28a14c5",
   "metadata": {},
   "outputs": [],
   "source": []
  }
 ],
 "metadata": {
  "kernelspec": {
   "display_name": "Python 3",
   "language": "python",
   "name": "python3"
  },
  "language_info": {
   "codemirror_mode": {
    "name": "ipython",
    "version": 3
   },
   "file_extension": ".py",
   "mimetype": "text/x-python",
   "name": "python",
   "nbconvert_exporter": "python",
   "pygments_lexer": "ipython3",
   "version": "3.8.6"
  }
 },
 "nbformat": 4,
 "nbformat_minor": 5
}
