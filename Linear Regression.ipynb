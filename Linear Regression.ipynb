{
 "cells": [
  {
   "cell_type": "code",
   "execution_count": 44,
   "id": "0ac270d3",
   "metadata": {},
   "outputs": [],
   "source": [
    "import pandas as pd\n",
    "import numpy as np\n",
    "import matplotlib.pyplot as plt\n",
    "import sys\n",
    "import os\n",
    "\n",
    "import pyspark\n",
    "from pyspark.sql import SparkSession\n",
    "from pyspark.ml.feature import VectorAssembler\n",
    "from pyspark.ml.pipeline import Pipeline\n",
    "from pyspark.ml.regression import LinearRegression"
   ]
  },
  {
   "cell_type": "code",
   "execution_count": 2,
   "id": "e466358a",
   "metadata": {},
   "outputs": [],
   "source": [
    "spark = SparkSession.builder.getOrCreate()"
   ]
  },
  {
   "cell_type": "code",
   "execution_count": 3,
   "id": "f5c1e292",
   "metadata": {},
   "outputs": [
    {
     "data": {
      "text/html": [
       "\n",
       "            <div>\n",
       "                <p><b>SparkSession - in-memory</b></p>\n",
       "                \n",
       "        <div>\n",
       "            <p><b>SparkContext</b></p>\n",
       "\n",
       "            <p><a href=\"http://DESKTOP-NKF58JP:4040\">Spark UI</a></p>\n",
       "\n",
       "            <dl>\n",
       "              <dt>Version</dt>\n",
       "                <dd><code>v3.1.2</code></dd>\n",
       "              <dt>Master</dt>\n",
       "                <dd><code>local[*]</code></dd>\n",
       "              <dt>AppName</dt>\n",
       "                <dd><code>pyspark-shell</code></dd>\n",
       "            </dl>\n",
       "        </div>\n",
       "        \n",
       "            </div>\n",
       "        "
      ],
      "text/plain": [
       "<pyspark.sql.session.SparkSession at 0x1ad21513eb0>"
      ]
     },
     "execution_count": 3,
     "metadata": {},
     "output_type": "execute_result"
    }
   ],
   "source": [
    "spark"
   ]
  },
  {
   "cell_type": "code",
   "execution_count": 6,
   "id": "18671afa",
   "metadata": {},
   "outputs": [],
   "source": [
    "# reading the data:\n",
    "filename = \"data/bank-full.csv\""
   ]
  },
  {
   "cell_type": "code",
   "execution_count": 7,
   "id": "4194dbe0",
   "metadata": {},
   "outputs": [],
   "source": [
    "data = spark.read.csv(filename, header=True, inferSchema=True, sep=';')"
   ]
  },
  {
   "cell_type": "code",
   "execution_count": 11,
   "id": "5db1caee",
   "metadata": {},
   "outputs": [
    {
     "name": "stdout",
     "output_type": "stream",
     "text": [
      "root\n",
      " |-- age: integer (nullable = true)\n",
      " |-- job: string (nullable = true)\n",
      " |-- marital: string (nullable = true)\n",
      " |-- education: string (nullable = true)\n",
      " |-- default: string (nullable = true)\n",
      " |-- balance: integer (nullable = true)\n",
      " |-- housing: string (nullable = true)\n",
      " |-- loan: string (nullable = true)\n",
      " |-- contact: string (nullable = true)\n",
      " |-- day: integer (nullable = true)\n",
      " |-- month: string (nullable = true)\n",
      " |-- duration: integer (nullable = true)\n",
      " |-- campaign: integer (nullable = true)\n",
      " |-- pdays: integer (nullable = true)\n",
      " |-- previous: integer (nullable = true)\n",
      " |-- poutcome: string (nullable = true)\n",
      " |-- y: string (nullable = true)\n",
      "\n"
     ]
    }
   ],
   "source": [
    "data.printSchema()"
   ]
  },
  {
   "cell_type": "code",
   "execution_count": 17,
   "id": "600d6e9d",
   "metadata": {},
   "outputs": [],
   "source": [
    "# assembling individual columns to one column - 'features'\n",
    "def assemble_vector(df, features_list, target_variable_name):\n",
    "    stages = []\n",
    "    \n",
    "    # assemble vectors:\n",
    "    assembler = VectorAssembler(inputCols=features_list, outputCol='features')\n",
    "    \n",
    "    stages=[assembler]\n",
    "    \n",
    "    # selecting all columns\n",
    "    selected_cols = [target_variable_name, 'features'] + features_list\n",
    "    \n",
    "    # creating pipeline\n",
    "    pipeline = Pipeline(stages=stages)\n",
    "    \n",
    "    assembleModel = pipeline.fit(df)\n",
    "    df = assembleModel.transform(df).select(selected_cols)\n",
    "    \n",
    "    return df"
   ]
  },
  {
   "cell_type": "code",
   "execution_count": 12,
   "id": "79cddb9d",
   "metadata": {},
   "outputs": [],
   "source": [
    "# select the variables:\n",
    "linear_df = data.select(['age', 'balance', 'day', 'duration', 'campaign', 'pdays', 'previous'])\n",
    "target_variable = 'balance'"
   ]
  },
  {
   "cell_type": "code",
   "execution_count": 13,
   "id": "731ff8ca",
   "metadata": {},
   "outputs": [],
   "source": [
    "# exclude target variable and select all the other features:\n",
    "features_list = linear_df.columns\n",
    "features_list.remove(target_variable)"
   ]
  },
  {
   "cell_type": "code",
   "execution_count": 14,
   "id": "e924e16b",
   "metadata": {},
   "outputs": [
    {
     "data": {
      "text/plain": [
       "['age', 'day', 'duration', 'campaign', 'pdays', 'previous']"
      ]
     },
     "execution_count": 14,
     "metadata": {},
     "output_type": "execute_result"
    }
   ],
   "source": [
    "features_list"
   ]
  },
  {
   "cell_type": "code",
   "execution_count": 18,
   "id": "58dfd69e",
   "metadata": {},
   "outputs": [],
   "source": [
    "# applying the vector assembler on our dataframe:\n",
    "df = assemble_vector(linear_df, features_list, target_variable)"
   ]
  },
  {
   "cell_type": "code",
   "execution_count": 19,
   "id": "44934e9b",
   "metadata": {},
   "outputs": [
    {
     "name": "stdout",
     "output_type": "stream",
     "text": [
      "root\n",
      " |-- balance: integer (nullable = true)\n",
      " |-- features: vector (nullable = true)\n",
      " |-- age: integer (nullable = true)\n",
      " |-- day: integer (nullable = true)\n",
      " |-- duration: integer (nullable = true)\n",
      " |-- campaign: integer (nullable = true)\n",
      " |-- pdays: integer (nullable = true)\n",
      " |-- previous: integer (nullable = true)\n",
      "\n"
     ]
    }
   ],
   "source": [
    "df.printSchema()"
   ]
  },
  {
   "cell_type": "code",
   "execution_count": 25,
   "id": "8c00403a",
   "metadata": {},
   "outputs": [],
   "source": [
    "# creating the linear regression model:\n",
    "linreg = LinearRegression(featuresCol='features', labelCol='balance')"
   ]
  },
  {
   "cell_type": "code",
   "execution_count": 26,
   "id": "1516faba",
   "metadata": {},
   "outputs": [],
   "source": [
    "# fitting the model:\n",
    "linreg_model = linreg.fit(df)"
   ]
  },
  {
   "cell_type": "code",
   "execution_count": 27,
   "id": "19eccd33",
   "metadata": {},
   "outputs": [],
   "source": [
    "# viewing the coefficients and intercepts:\n",
    "for k, v in df.schema['features'].metadata['ml_attr']['attrs'].items():\n",
    "    features_df = pd.DataFrame(v)"
   ]
  },
  {
   "cell_type": "code",
   "execution_count": 29,
   "id": "2a2fde0d",
   "metadata": {},
   "outputs": [
    {
     "name": "stdout",
     "output_type": "stream",
     "text": [
      "Coefficients: \n",
      "[28.08397290892997,3.3055463619496286,0.24882841970901756,-14.142676297161454,-0.08248810233032043,23.462992800762525]\n",
      "Intercept: 124.92130092818479\n"
     ]
    }
   ],
   "source": [
    "# print the coefficient and intercepts:\n",
    "print(f\"Coefficients: \\n{linreg_model.coefficients}\")\n",
    "print(f\"Intercept: {linreg_model.intercept}\")"
   ]
  },
  {
   "cell_type": "code",
   "execution_count": 31,
   "id": "1bfc32ee",
   "metadata": {},
   "outputs": [],
   "source": [
    "features_df['coefficients'] = linreg_model.coefficients"
   ]
  },
  {
   "cell_type": "code",
   "execution_count": 32,
   "id": "b5d2c79a",
   "metadata": {},
   "outputs": [
    {
     "data": {
      "text/html": [
       "<div>\n",
       "<style scoped>\n",
       "    .dataframe tbody tr th:only-of-type {\n",
       "        vertical-align: middle;\n",
       "    }\n",
       "\n",
       "    .dataframe tbody tr th {\n",
       "        vertical-align: top;\n",
       "    }\n",
       "\n",
       "    .dataframe thead th {\n",
       "        text-align: right;\n",
       "    }\n",
       "</style>\n",
       "<table border=\"1\" class=\"dataframe\">\n",
       "  <thead>\n",
       "    <tr style=\"text-align: right;\">\n",
       "      <th></th>\n",
       "      <th>idx</th>\n",
       "      <th>name</th>\n",
       "      <th>coefficients</th>\n",
       "    </tr>\n",
       "  </thead>\n",
       "  <tbody>\n",
       "    <tr>\n",
       "      <th>0</th>\n",
       "      <td>0</td>\n",
       "      <td>age</td>\n",
       "      <td>28.083973</td>\n",
       "    </tr>\n",
       "    <tr>\n",
       "      <th>1</th>\n",
       "      <td>1</td>\n",
       "      <td>day</td>\n",
       "      <td>3.305546</td>\n",
       "    </tr>\n",
       "    <tr>\n",
       "      <th>2</th>\n",
       "      <td>2</td>\n",
       "      <td>duration</td>\n",
       "      <td>0.248828</td>\n",
       "    </tr>\n",
       "    <tr>\n",
       "      <th>3</th>\n",
       "      <td>3</td>\n",
       "      <td>campaign</td>\n",
       "      <td>-14.142676</td>\n",
       "    </tr>\n",
       "    <tr>\n",
       "      <th>4</th>\n",
       "      <td>4</td>\n",
       "      <td>pdays</td>\n",
       "      <td>-0.082488</td>\n",
       "    </tr>\n",
       "    <tr>\n",
       "      <th>5</th>\n",
       "      <td>5</td>\n",
       "      <td>previous</td>\n",
       "      <td>23.462993</td>\n",
       "    </tr>\n",
       "  </tbody>\n",
       "</table>\n",
       "</div>"
      ],
      "text/plain": [
       "   idx      name  coefficients\n",
       "0    0       age     28.083973\n",
       "1    1       day      3.305546\n",
       "2    2  duration      0.248828\n",
       "3    3  campaign    -14.142676\n",
       "4    4     pdays     -0.082488\n",
       "5    5  previous     23.462993"
      ]
     },
     "execution_count": 32,
     "metadata": {},
     "output_type": "execute_result"
    }
   ],
   "source": [
    "# looking at the coefficients:\n",
    "features_df"
   ]
  },
  {
   "cell_type": "code",
   "execution_count": 33,
   "id": "08b5f5bb",
   "metadata": {},
   "outputs": [],
   "source": [
    "# prediction result:\n",
    "pred_result = linreg_model.transform(df)"
   ]
  },
  {
   "cell_type": "code",
   "execution_count": 35,
   "id": "90897ac3",
   "metadata": {},
   "outputs": [
    {
     "name": "stdout",
     "output_type": "stream",
     "text": [
      "+-------+--------------------+---+---+--------+--------+-----+--------+------------------+\n",
      "|balance|            features|age|day|duration|campaign|pdays|previous|        prediction|\n",
      "+-------+--------------------+---+---+--------+--------+-----+--------+------------------+\n",
      "|   2143|[58.0,5.0,261.0,1...| 58|  5|     261|       1|   -1|       0|1821.2034908050935|\n",
      "|     29|[44.0,5.0,151.0,1...| 44|  5|     151|       1|   -1|       0| 1400.656743912082|\n",
      "|      2|[33.0,5.0,76.0,1....| 33|  5|      76|       1|   -1|       0| 1073.070910435676|\n",
      "|   1506|[47.0,5.0,92.0,1....| 47|  5|      92|       1|   -1|       0|  1470.22778587604|\n",
      "|      1|[33.0,5.0,198.0,1...| 33|  5|     198|       1|   -1|       0|1103.4279776401763|\n",
      "+-------+--------------------+---+---+--------+--------+-----+--------+------------------+\n",
      "only showing top 5 rows\n",
      "\n"
     ]
    }
   ],
   "source": [
    "pred_result.show(5)"
   ]
  },
  {
   "cell_type": "markdown",
   "id": "8ace3974",
   "metadata": {},
   "source": [
    "#### Multicollinearity <br>\n",
    "- Multicollinearity happens when independent variables in the regression model are highly correlated to each other.\n",
    "- It makes the interpretation of the model difficult.\n",
    "- It can also create an overfitting problem."
   ]
  },
  {
   "cell_type": "markdown",
   "id": "ac04db7a",
   "metadata": {},
   "source": [
    "##### We will use VIF - Variance Inflation Factor.\n",
    "- The industry standard value for VIF is 10.\n",
    "- When the VIF value is 1, the variables are completely uncorrelated.\n",
    "- In our final model, we should only include the variables with VIF value less than 10."
   ]
  },
  {
   "cell_type": "code",
   "execution_count": 36,
   "id": "497e4e0f",
   "metadata": {},
   "outputs": [],
   "source": [
    "# function to calculate the VIF:\n",
    "def calculate_vif(df, features_list):\n",
    "    vif_list = []\n",
    "    for i in features_list:\n",
    "        temp_features_list = features_list.copy()\n",
    "        temp_features_list.remove(i)  # removing one feature \n",
    "        target_feature = i  # creating teh removed feature as target variable\n",
    "        \n",
    "        assembler = VectorAssembler(inputCols=temp_features_list, outputCol='features')\n",
    "        \n",
    "        temp_df = assembler.transform(df)\n",
    "        reg = LinearRegression(featuresCol='features', labelCol=i)\n",
    "        reg_model = reg.fit(temp_df)\n",
    "        \n",
    "        # calculating the vif:\n",
    "        temp_vif = 1 / (1 - reg_model.summary.r2)\n",
    "        vif_list.append(temp_vif)\n",
    "    return vif_list"
   ]
  },
  {
   "cell_type": "code",
   "execution_count": 37,
   "id": "9a0eaf60",
   "metadata": {},
   "outputs": [],
   "source": [
    "# appending the vif in the features_df\n",
    "features_df['vif'] = calculate_vif(linear_df, features_list)"
   ]
  },
  {
   "cell_type": "code",
   "execution_count": 38,
   "id": "a25a55d0",
   "metadata": {},
   "outputs": [
    {
     "data": {
      "text/html": [
       "<div>\n",
       "<style scoped>\n",
       "    .dataframe tbody tr th:only-of-type {\n",
       "        vertical-align: middle;\n",
       "    }\n",
       "\n",
       "    .dataframe tbody tr th {\n",
       "        vertical-align: top;\n",
       "    }\n",
       "\n",
       "    .dataframe thead th {\n",
       "        text-align: right;\n",
       "    }\n",
       "</style>\n",
       "<table border=\"1\" class=\"dataframe\">\n",
       "  <thead>\n",
       "    <tr style=\"text-align: right;\">\n",
       "      <th></th>\n",
       "      <th>idx</th>\n",
       "      <th>name</th>\n",
       "      <th>coefficients</th>\n",
       "      <th>vif</th>\n",
       "    </tr>\n",
       "  </thead>\n",
       "  <tbody>\n",
       "    <tr>\n",
       "      <th>0</th>\n",
       "      <td>0</td>\n",
       "      <td>age</td>\n",
       "      <td>28.083973</td>\n",
       "      <td>1.000917</td>\n",
       "    </tr>\n",
       "    <tr>\n",
       "      <th>1</th>\n",
       "      <td>1</td>\n",
       "      <td>day</td>\n",
       "      <td>3.305546</td>\n",
       "      <td>1.034350</td>\n",
       "    </tr>\n",
       "    <tr>\n",
       "      <th>2</th>\n",
       "      <td>2</td>\n",
       "      <td>duration</td>\n",
       "      <td>0.248828</td>\n",
       "      <td>1.007627</td>\n",
       "    </tr>\n",
       "    <tr>\n",
       "      <th>3</th>\n",
       "      <td>3</td>\n",
       "      <td>campaign</td>\n",
       "      <td>-14.142676</td>\n",
       "      <td>1.039907</td>\n",
       "    </tr>\n",
       "    <tr>\n",
       "      <th>4</th>\n",
       "      <td>4</td>\n",
       "      <td>pdays</td>\n",
       "      <td>-0.082488</td>\n",
       "      <td>1.276182</td>\n",
       "    </tr>\n",
       "    <tr>\n",
       "      <th>5</th>\n",
       "      <td>5</td>\n",
       "      <td>previous</td>\n",
       "      <td>23.462993</td>\n",
       "      <td>1.261321</td>\n",
       "    </tr>\n",
       "  </tbody>\n",
       "</table>\n",
       "</div>"
      ],
      "text/plain": [
       "   idx      name  coefficients       vif\n",
       "0    0       age     28.083973  1.000917\n",
       "1    1       day      3.305546  1.034350\n",
       "2    2  duration      0.248828  1.007627\n",
       "3    3  campaign    -14.142676  1.039907\n",
       "4    4     pdays     -0.082488  1.276182\n",
       "5    5  previous     23.462993  1.261321"
      ]
     },
     "execution_count": 38,
     "metadata": {},
     "output_type": "execute_result"
    }
   ],
   "source": [
    "# looking at the features_df:\n",
    "features_df"
   ]
  },
  {
   "cell_type": "markdown",
   "id": "2c09cd7e",
   "metadata": {},
   "source": [
    "*Since all the VIF values for all the features are less than 10, therefore, there are no multicollinearity issues in our model features*"
   ]
  },
  {
   "cell_type": "code",
   "execution_count": 39,
   "id": "e5839791",
   "metadata": {},
   "outputs": [
    {
     "data": {
      "text/plain": [
       "LinearRegressionModel: uid=LinearRegression_c61aff27dbfb, numFeatures=6"
      ]
     },
     "execution_count": 39,
     "metadata": {},
     "output_type": "execute_result"
    }
   ],
   "source": [
    "# saving the model:\n",
    "linreg_model"
   ]
  },
  {
   "cell_type": "code",
   "execution_count": null,
   "id": "5f6b404f",
   "metadata": {},
   "outputs": [],
   "source": []
  }
 ],
 "metadata": {
  "kernelspec": {
   "display_name": "Python 3",
   "language": "python",
   "name": "python3"
  },
  "language_info": {
   "codemirror_mode": {
    "name": "ipython",
    "version": 3
   },
   "file_extension": ".py",
   "mimetype": "text/x-python",
   "name": "python",
   "nbconvert_exporter": "python",
   "pygments_lexer": "ipython3",
   "version": "3.8.6"
  }
 },
 "nbformat": 4,
 "nbformat_minor": 5
}
