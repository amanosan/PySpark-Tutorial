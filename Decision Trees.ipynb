{
 "cells": [
  {
   "cell_type": "code",
   "execution_count": 25,
   "id": "bfb0da7e",
   "metadata": {},
   "outputs": [],
   "source": [
    "from pyspark.sql import SparkSession\n",
    "from pyspark.ml.feature import VectorAssembler, StringIndexer\n",
    "from pyspark.ml.classification import DecisionTreeClassifier\n",
    "from pyspark.ml.regression import DecisionTreeRegressor\n",
    "from pyspark.ml.pipeline import Pipeline\n",
    "\n",
    "import pandas as pd\n",
    "import numpy as np"
   ]
  },
  {
   "cell_type": "code",
   "execution_count": 2,
   "id": "57e06175",
   "metadata": {},
   "outputs": [],
   "source": [
    "spark = SparkSession.builder.appName('Decision Trees').getOrCreate()"
   ]
  },
  {
   "cell_type": "code",
   "execution_count": 3,
   "id": "6084bebc",
   "metadata": {},
   "outputs": [
    {
     "data": {
      "text/html": [
       "\n",
       "            <div>\n",
       "                <p><b>SparkSession - in-memory</b></p>\n",
       "                \n",
       "        <div>\n",
       "            <p><b>SparkContext</b></p>\n",
       "\n",
       "            <p><a href=\"http://DESKTOP-NKF58JP:4041\">Spark UI</a></p>\n",
       "\n",
       "            <dl>\n",
       "              <dt>Version</dt>\n",
       "                <dd><code>v3.1.2</code></dd>\n",
       "              <dt>Master</dt>\n",
       "                <dd><code>local[*]</code></dd>\n",
       "              <dt>AppName</dt>\n",
       "                <dd><code>Decision Trees</code></dd>\n",
       "            </dl>\n",
       "        </div>\n",
       "        \n",
       "            </div>\n",
       "        "
      ],
      "text/plain": [
       "<pyspark.sql.session.SparkSession at 0x1d5e9699b20>"
      ]
     },
     "execution_count": 3,
     "metadata": {},
     "output_type": "execute_result"
    }
   ],
   "source": [
    "spark"
   ]
  },
  {
   "cell_type": "code",
   "execution_count": 7,
   "id": "d6cf6100",
   "metadata": {},
   "outputs": [],
   "source": [
    "filename = 'data/bank-full.csv'"
   ]
  },
  {
   "cell_type": "code",
   "execution_count": 9,
   "id": "17500c0b",
   "metadata": {},
   "outputs": [],
   "source": [
    "# reading the data:\n",
    "data = spark.read.csv(filename, header=True, inferSchema=True, sep=';')"
   ]
  },
  {
   "cell_type": "code",
   "execution_count": 10,
   "id": "0aede7b6",
   "metadata": {},
   "outputs": [
    {
     "name": "stdout",
     "output_type": "stream",
     "text": [
      "root\n",
      " |-- age: integer (nullable = true)\n",
      " |-- job: string (nullable = true)\n",
      " |-- marital: string (nullable = true)\n",
      " |-- education: string (nullable = true)\n",
      " |-- default: string (nullable = true)\n",
      " |-- balance: integer (nullable = true)\n",
      " |-- housing: string (nullable = true)\n",
      " |-- loan: string (nullable = true)\n",
      " |-- contact: string (nullable = true)\n",
      " |-- day: integer (nullable = true)\n",
      " |-- month: string (nullable = true)\n",
      " |-- duration: integer (nullable = true)\n",
      " |-- campaign: integer (nullable = true)\n",
      " |-- pdays: integer (nullable = true)\n",
      " |-- previous: integer (nullable = true)\n",
      " |-- poutcome: string (nullable = true)\n",
      " |-- y: string (nullable = true)\n",
      "\n"
     ]
    }
   ],
   "source": [
    "data.printSchema()"
   ]
  },
  {
   "cell_type": "code",
   "execution_count": 15,
   "id": "e18b04a6",
   "metadata": {},
   "outputs": [],
   "source": [
    "# assembling the features:\n",
    "def assemble_vectors(df, features_list, target_variable):\n",
    "    assembler = VectorAssembler(inputCols=features_list, outputCol='features')\n",
    "    string_indexer = StringIndexer(inputCol=target_variable, outputCol=target_variable+'_index')\n",
    "    \n",
    "    stages = [assembler, string_indexer]\n",
    "    pipeline = Pipeline(stages=stages)\n",
    "    \n",
    "    selected_cols = [target_variable+'_index', 'features'] + features_list\n",
    "    \n",
    "    assembleModel = pipeline.fit(df)\n",
    "    df = assembleModel.transform(df).select(selected_cols)\n",
    "    \n",
    "    return df"
   ]
  },
  {
   "cell_type": "code",
   "execution_count": 16,
   "id": "4792e10d",
   "metadata": {},
   "outputs": [],
   "source": [
    "# independent features:\n",
    "target_variable_name = 'y'\n",
    "dt_df = data.select(['age', 'balance', 'day', 'duration',\n",
    "                          'campaign', 'pdays', 'previous', 'y'])\n",
    "\n",
    "features_list = dt_df.columns\n",
    "features_list.remove(target_variable_name)"
   ]
  },
  {
   "cell_type": "code",
   "execution_count": 17,
   "id": "9881fd60",
   "metadata": {},
   "outputs": [
    {
     "name": "stdout",
     "output_type": "stream",
     "text": [
      "y\n",
      "['age', 'balance', 'day', 'duration', 'campaign', 'pdays', 'previous']\n"
     ]
    }
   ],
   "source": [
    "print(target_variable_name)\n",
    "print(features_list)"
   ]
  },
  {
   "cell_type": "code",
   "execution_count": 18,
   "id": "d5e07dc1",
   "metadata": {},
   "outputs": [],
   "source": [
    "# assembling the features:\n",
    "\n",
    "df = assemble_vectors(dt_df, features_list, target_variable_name)"
   ]
  },
  {
   "cell_type": "code",
   "execution_count": 19,
   "id": "078ab122",
   "metadata": {},
   "outputs": [
    {
     "name": "stdout",
     "output_type": "stream",
     "text": [
      "root\n",
      " |-- y_index: double (nullable = false)\n",
      " |-- features: vector (nullable = true)\n",
      " |-- age: integer (nullable = true)\n",
      " |-- balance: integer (nullable = true)\n",
      " |-- day: integer (nullable = true)\n",
      " |-- duration: integer (nullable = true)\n",
      " |-- campaign: integer (nullable = true)\n",
      " |-- pdays: integer (nullable = true)\n",
      " |-- previous: integer (nullable = true)\n",
      "\n"
     ]
    }
   ],
   "source": [
    "df.printSchema()"
   ]
  },
  {
   "cell_type": "code",
   "execution_count": 20,
   "id": "62dd6433",
   "metadata": {},
   "outputs": [],
   "source": [
    "# creating the models:\n",
    "\n",
    "dt_clf1 = DecisionTreeClassifier(featuresCol='features', labelCol='y_index', impurity='gini')  # gini impurity \n",
    "dt_clf2 = DecisionTreeClassifier(featuresCol='features', labelCol='y_index', impurity='entropy')  # entropy impurity"
   ]
  },
  {
   "cell_type": "code",
   "execution_count": 21,
   "id": "0730e5df",
   "metadata": {},
   "outputs": [],
   "source": [
    "# Fitting the models:\n",
    "\n",
    "clf1_model = dt_clf1.fit(df)\n",
    "clf2_model = dt_clf2.fit(df)"
   ]
  },
  {
   "cell_type": "code",
   "execution_count": 22,
   "id": "3f3c00af",
   "metadata": {},
   "outputs": [
    {
     "name": "stdout",
     "output_type": "stream",
     "text": [
      "Feature importance of GINI:\n",
      " (7,[0,1,2,3,4,5],[0.0009151360672579515,0.0021920314153642787,0.022546846747201893,0.7303842591766411,0.0013091781991514313,0.2426525483943835])\n",
      "Feature importance of ENTROPY:\n",
      " (7,[1,2,3,4,5],[0.0005994387014215233,0.008899987867155928,0.7160047618305356,0.0006113261278394541,0.2738844854730475])\n"
     ]
    }
   ],
   "source": [
    "# looking at the feature importances:\n",
    "\n",
    "print(f\"Feature importance of GINI:\\n {clf1_model.featureImportances}\")\n",
    "print(f\"Feature importance of ENTROPY:\\n {clf2_model.featureImportances}\")"
   ]
  },
  {
   "cell_type": "code",
   "execution_count": 23,
   "id": "159debe2",
   "metadata": {},
   "outputs": [
    {
     "data": {
      "text/plain": [
       "'DecisionTreeClassificationModel: uid=DecisionTreeClassifier_cb75a67f1090, depth=5, numNodes=35, numClasses=2, numFeatures=7\\n  If (feature 3 <= 547.5)\\n   If (feature 5 <= 8.5)\\n    Predict: 0.0\\n   Else (feature 5 > 8.5)\\n    If (feature 3 <= 166.5)\\n     Predict: 0.0\\n    Else (feature 3 > 166.5)\\n     If (feature 5 <= 185.5)\\n      If (feature 2 <= 15.5)\\n       Predict: 1.0\\n      Else (feature 2 > 15.5)\\n       Predict: 0.0\\n     Else (feature 5 > 185.5)\\n      If (feature 5 <= 370.5)\\n       Predict: 0.0\\n      Else (feature 5 > 370.5)\\n       Predict: 1.0\\n  Else (feature 3 > 547.5)\\n   If (feature 3 <= 836.5)\\n    If (feature 5 <= 0.0)\\n     If (feature 3 <= 664.5)\\n      Predict: 0.0\\n     Else (feature 3 > 664.5)\\n      If (feature 2 <= 29.5)\\n       Predict: 0.0\\n      Else (feature 2 > 29.5)\\n       Predict: 1.0\\n    Else (feature 5 > 0.0)\\n     If (feature 2 <= 21.5)\\n      If (feature 2 <= 15.5)\\n       Predict: 1.0\\n      Else (feature 2 > 15.5)\\n       Predict: 0.0\\n     Else (feature 2 > 21.5)\\n      If (feature 1 <= -104.5)\\n       Predict: 0.0\\n      Else (feature 1 > -104.5)\\n       Predict: 1.0\\n   Else (feature 3 > 836.5)\\n    If (feature 1 <= 1.5)\\n     If (feature 0 <= 27.5)\\n      If (feature 2 <= 22.5)\\n       Predict: 1.0\\n      Else (feature 2 > 22.5)\\n       Predict: 0.0\\n     Else (feature 0 > 27.5)\\n      If (feature 4 <= 11.5)\\n       Predict: 1.0\\n      Else (feature 4 > 11.5)\\n       Predict: 0.0\\n    Else (feature 1 > 1.5)\\n     Predict: 1.0\\n'"
      ]
     },
     "execution_count": 23,
     "metadata": {},
     "output_type": "execute_result"
    }
   ],
   "source": [
    "# Looking at the rules:\n",
    "clf1_model.toDebugString"
   ]
  },
  {
   "cell_type": "code",
   "execution_count": 24,
   "id": "4ef4c2c8",
   "metadata": {},
   "outputs": [
    {
     "data": {
      "text/plain": [
       "'DecisionTreeClassificationModel: uid=DecisionTreeClassifier_df7275e510c1, depth=5, numNodes=31, numClasses=2, numFeatures=7\\n  If (feature 3 <= 412.5)\\n   If (feature 5 <= 18.0)\\n    Predict: 0.0\\n   Else (feature 5 > 18.0)\\n    If (feature 3 <= 157.5)\\n     Predict: 0.0\\n    Else (feature 3 > 157.5)\\n     If (feature 5 <= 185.5)\\n      If (feature 2 <= 15.5)\\n       Predict: 1.0\\n      Else (feature 2 > 15.5)\\n       Predict: 0.0\\n     Else (feature 5 > 185.5)\\n      If (feature 5 <= 370.5)\\n       Predict: 0.0\\n      Else (feature 5 > 370.5)\\n       Predict: 1.0\\n  Else (feature 3 > 412.5)\\n   If (feature 3 <= 664.5)\\n    If (feature 5 <= 8.5)\\n     Predict: 0.0\\n    Else (feature 5 > 8.5)\\n     If (feature 5 <= 185.5)\\n      Predict: 1.0\\n     Else (feature 5 > 185.5)\\n      If (feature 5 <= 370.5)\\n       Predict: 0.0\\n      Else (feature 5 > 370.5)\\n       Predict: 1.0\\n   Else (feature 3 > 664.5)\\n    If (feature 3 <= 836.5)\\n     If (feature 5 <= 0.0)\\n      If (feature 2 <= 29.5)\\n       Predict: 0.0\\n      Else (feature 2 > 29.5)\\n       Predict: 1.0\\n     Else (feature 5 > 0.0)\\n      Predict: 1.0\\n    Else (feature 3 > 836.5)\\n     If (feature 1 <= 1.5)\\n      If (feature 4 <= 13.5)\\n       Predict: 1.0\\n      Else (feature 4 > 13.5)\\n       Predict: 0.0\\n     Else (feature 1 > 1.5)\\n      Predict: 1.0\\n'"
      ]
     },
     "execution_count": 24,
     "metadata": {},
     "output_type": "execute_result"
    }
   ],
   "source": [
    "clf2_model.toDebugString"
   ]
  },
  {
   "cell_type": "code",
   "execution_count": null,
   "id": "c0cbab90",
   "metadata": {},
   "outputs": [],
   "source": []
  }
 ],
 "metadata": {
  "kernelspec": {
   "display_name": "Python 3",
   "language": "python",
   "name": "python3"
  },
  "language_info": {
   "codemirror_mode": {
    "name": "ipython",
    "version": 3
   },
   "file_extension": ".py",
   "mimetype": "text/x-python",
   "name": "python",
   "nbconvert_exporter": "python",
   "pygments_lexer": "ipython3",
   "version": "3.8.6"
  }
 },
 "nbformat": 4,
 "nbformat_minor": 5
}
