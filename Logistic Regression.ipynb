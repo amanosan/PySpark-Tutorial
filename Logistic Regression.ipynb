{
 "cells": [
  {
   "cell_type": "code",
   "execution_count": 26,
   "id": "2ffede0a",
   "metadata": {},
   "outputs": [],
   "source": [
    "import pyspark\n",
    "from pyspark.sql import SparkSession\n",
    "from pyspark.ml.feature import VectorAssembler, StringIndexer\n",
    "from pyspark.ml.pipeline import Pipeline\n",
    "from pyspark.ml.classification import LogisticRegression\n",
    "\n",
    "import pandas as pd\n",
    "import numpy as np\n",
    "import matplotlib.pyplot as plt\n",
    "%matplotlib inline"
   ]
  },
  {
   "cell_type": "code",
   "execution_count": 2,
   "id": "bfa8c0c1",
   "metadata": {},
   "outputs": [],
   "source": [
    "spark = SparkSession.builder.appName('LogisticRegression').getOrCreate()"
   ]
  },
  {
   "cell_type": "code",
   "execution_count": 4,
   "id": "fb56fe63",
   "metadata": {},
   "outputs": [
    {
     "data": {
      "text/html": [
       "\n",
       "            <div>\n",
       "                <p><b>SparkSession - in-memory</b></p>\n",
       "                \n",
       "        <div>\n",
       "            <p><b>SparkContext</b></p>\n",
       "\n",
       "            <p><a href=\"http://DESKTOP-NKF58JP:4040\">Spark UI</a></p>\n",
       "\n",
       "            <dl>\n",
       "              <dt>Version</dt>\n",
       "                <dd><code>v3.1.2</code></dd>\n",
       "              <dt>Master</dt>\n",
       "                <dd><code>local[*]</code></dd>\n",
       "              <dt>AppName</dt>\n",
       "                <dd><code>LogisticRegression</code></dd>\n",
       "            </dl>\n",
       "        </div>\n",
       "        \n",
       "            </div>\n",
       "        "
      ],
      "text/plain": [
       "<pyspark.sql.session.SparkSession at 0x243ec409640>"
      ]
     },
     "execution_count": 4,
     "metadata": {},
     "output_type": "execute_result"
    }
   ],
   "source": [
    "spark"
   ]
  },
  {
   "cell_type": "code",
   "execution_count": 5,
   "id": "45f3decb",
   "metadata": {},
   "outputs": [],
   "source": [
    "filename = \"data/bank-full.csv\""
   ]
  },
  {
   "cell_type": "code",
   "execution_count": 6,
   "id": "92a70864",
   "metadata": {},
   "outputs": [],
   "source": [
    "data = spark.read.csv(filename, header=True, inferSchema=True, sep=\";\")"
   ]
  },
  {
   "cell_type": "code",
   "execution_count": 7,
   "id": "c7722583",
   "metadata": {},
   "outputs": [
    {
     "name": "stdout",
     "output_type": "stream",
     "text": [
      "root\n",
      " |-- age: integer (nullable = true)\n",
      " |-- job: string (nullable = true)\n",
      " |-- marital: string (nullable = true)\n",
      " |-- education: string (nullable = true)\n",
      " |-- default: string (nullable = true)\n",
      " |-- balance: integer (nullable = true)\n",
      " |-- housing: string (nullable = true)\n",
      " |-- loan: string (nullable = true)\n",
      " |-- contact: string (nullable = true)\n",
      " |-- day: integer (nullable = true)\n",
      " |-- month: string (nullable = true)\n",
      " |-- duration: integer (nullable = true)\n",
      " |-- campaign: integer (nullable = true)\n",
      " |-- pdays: integer (nullable = true)\n",
      " |-- previous: integer (nullable = true)\n",
      " |-- poutcome: string (nullable = true)\n",
      " |-- y: string (nullable = true)\n",
      "\n"
     ]
    }
   ],
   "source": [
    "# looking at the data:\n",
    "data.printSchema()"
   ]
  },
  {
   "cell_type": "code",
   "execution_count": 37,
   "id": "d0fb13f5",
   "metadata": {},
   "outputs": [],
   "source": [
    "def assemble_vector(df, features_list, target_varaible_name):\n",
    "    assembler = VectorAssembler(inputCols=features_list, outputCol='features')\n",
    "    string_indexer = StringIndexer(inputCol=target_varaible_name, outputCol=target_varaible_name+'_index')\n",
    "    stages=[assembler, string_indexer]\n",
    "    \n",
    "    selected_cols = [target_variable_name+'_index', 'features'] + features_list\n",
    "    pipeline = Pipeline(stages=stages)\n",
    "    \n",
    "    assembleModel = pipeline.fit(df)\n",
    "    df = assembleModel.transform(df).select(selected_cols)\n",
    "    \n",
    "    return df"
   ]
  },
  {
   "cell_type": "code",
   "execution_count": 38,
   "id": "28b2a04d",
   "metadata": {},
   "outputs": [],
   "source": [
    "# dependent and independent features:\n",
    "target_variable_name = 'y'\n",
    "logistic_df = data.select(['age', 'balance', 'day', 'duration',\n",
    "                          'campaign', 'pdays', 'previous', 'y'])\n",
    "\n",
    "features_list = logistic_df.columns\n",
    "features_list.remove(target_variable_name)"
   ]
  },
  {
   "cell_type": "code",
   "execution_count": 39,
   "id": "233baa4b",
   "metadata": {},
   "outputs": [],
   "source": [
    "# appplying the assemble_vector function:\n",
    "\n",
    "df = assemble_vector(logistic_df, features_list, target_variable_name)"
   ]
  },
  {
   "cell_type": "code",
   "execution_count": 40,
   "id": "044168a8",
   "metadata": {},
   "outputs": [
    {
     "name": "stdout",
     "output_type": "stream",
     "text": [
      "root\n",
      " |-- y_index: double (nullable = false)\n",
      " |-- features: vector (nullable = true)\n",
      " |-- age: integer (nullable = true)\n",
      " |-- balance: integer (nullable = true)\n",
      " |-- day: integer (nullable = true)\n",
      " |-- duration: integer (nullable = true)\n",
      " |-- campaign: integer (nullable = true)\n",
      " |-- pdays: integer (nullable = true)\n",
      " |-- previous: integer (nullable = true)\n",
      "\n"
     ]
    }
   ],
   "source": [
    "df.printSchema()"
   ]
  },
  {
   "cell_type": "code",
   "execution_count": 43,
   "id": "f6b631bd",
   "metadata": {},
   "outputs": [],
   "source": [
    "# Creating binary and multinomial logistic regression models:\n",
    "\n",
    "binary_clf = LogisticRegression(featuresCol='features', labelCol='y_index', family='binomial')\n",
    "multi_clf = LogisticRegression(featuresCol='features', labelCol='y_index', family='multinomial')"
   ]
  },
  {
   "cell_type": "code",
   "execution_count": 48,
   "id": "a84adaf4",
   "metadata": {},
   "outputs": [],
   "source": [
    "# Fitting the models:\n",
    "\n",
    "binary_clf_model = binary_clf.fit(df)\n",
    "multi_clf_model = multi_clf.fit(df)"
   ]
  },
  {
   "cell_type": "code",
   "execution_count": 49,
   "id": "6ddadc4f",
   "metadata": {},
   "outputs": [
    {
     "name": "stdout",
     "output_type": "stream",
     "text": [
      "Binary Model Coefficients:\n",
      " [0.007959289990802676,3.7181275564923895e-05,-0.0016500733151699207,0.0036371977014414765,-0.12804328355779698,0.002113571348833325,0.08593801084290789]\n",
      "Binary Model Intercepts:\n",
      " -3.4699010652867206\n"
     ]
    }
   ],
   "source": [
    "# Looking at the coefficients and intercepts:\n",
    "\n",
    "print(f\"Binary Model Coefficients:\\n {binary_clf_model.coefficients}\")\n",
    "print(f\"Binary Model Intercepts:\\n {binary_clf_model.intercept}\")"
   ]
  },
  {
   "cell_type": "code",
   "execution_count": 50,
   "id": "6a50bfdc",
   "metadata": {},
   "outputs": [
    {
     "name": "stdout",
     "output_type": "stream",
     "text": [
      "Multinomial Model Coefficients:\n",
      " DenseMatrix([[-3.97962982e-03, -1.85907216e-05,  8.24926374e-04,\n",
      "              -1.81859931e-03,  6.40216709e-02, -1.05678834e-03,\n",
      "              -4.29688093e-02],\n",
      "             [ 3.97962982e-03,  1.85907216e-05, -8.24926374e-04,\n",
      "               1.81859931e-03, -6.40216709e-02,  1.05678834e-03,\n",
      "               4.29688093e-02]])\n",
      "Multinomial Model Intercepts:\n",
      " [1.7349520795818267,-1.7349520795818267]\n"
     ]
    }
   ],
   "source": [
    "print(f\"Multinomial Model Coefficients:\\n {multi_clf_model.coefficientMatrix}\")\n",
    "print(f\"Multinomial Model Intercepts:\\n {multi_clf_model.interceptVector}\")"
   ]
  },
  {
   "cell_type": "code",
   "execution_count": null,
   "id": "1a0c286d",
   "metadata": {},
   "outputs": [],
   "source": []
  }
 ],
 "metadata": {
  "kernelspec": {
   "display_name": "Python 3",
   "language": "python",
   "name": "python3"
  },
  "language_info": {
   "codemirror_mode": {
    "name": "ipython",
    "version": 3
   },
   "file_extension": ".py",
   "mimetype": "text/x-python",
   "name": "python",
   "nbconvert_exporter": "python",
   "pygments_lexer": "ipython3",
   "version": "3.8.6"
  }
 },
 "nbformat": 4,
 "nbformat_minor": 5
}
