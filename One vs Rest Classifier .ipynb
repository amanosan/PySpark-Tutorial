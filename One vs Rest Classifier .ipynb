{
 "cells": [
  {
   "cell_type": "code",
   "execution_count": 14,
   "id": "ca30e7ea",
   "metadata": {},
   "outputs": [],
   "source": [
    "from pyspark.sql import SparkSession\n",
    "from pyspark.ml.feature import VectorAssembler, StringIndexer\n",
    "from pyspark.ml.pipeline import Pipeline\n",
    "from pyspark.ml.classification import RandomForestClassifier, OneVsRest\n",
    "from pyspark.ml.evaluation import MulticlassClassificationEvaluator"
   ]
  },
  {
   "cell_type": "code",
   "execution_count": 2,
   "id": "a4f44afc",
   "metadata": {},
   "outputs": [],
   "source": [
    "spark = SparkSession.builder.appName('One vs Rest').getOrCreate()"
   ]
  },
  {
   "cell_type": "code",
   "execution_count": 3,
   "id": "127b4502",
   "metadata": {},
   "outputs": [
    {
     "data": {
      "text/html": [
       "\n",
       "            <div>\n",
       "                <p><b>SparkSession - in-memory</b></p>\n",
       "                \n",
       "        <div>\n",
       "            <p><b>SparkContext</b></p>\n",
       "\n",
       "            <p><a href=\"http://DESKTOP-NKF58JP:4041\">Spark UI</a></p>\n",
       "\n",
       "            <dl>\n",
       "              <dt>Version</dt>\n",
       "                <dd><code>v3.1.2</code></dd>\n",
       "              <dt>Master</dt>\n",
       "                <dd><code>local[*]</code></dd>\n",
       "              <dt>AppName</dt>\n",
       "                <dd><code>One vs Rest</code></dd>\n",
       "            </dl>\n",
       "        </div>\n",
       "        \n",
       "            </div>\n",
       "        "
      ],
      "text/plain": [
       "<pyspark.sql.session.SparkSession at 0x202c8bdb760>"
      ]
     },
     "execution_count": 3,
     "metadata": {},
     "output_type": "execute_result"
    }
   ],
   "source": [
    "spark"
   ]
  },
  {
   "cell_type": "code",
   "execution_count": 4,
   "id": "bd22b9c2",
   "metadata": {},
   "outputs": [],
   "source": [
    "file_path = 'data/bank-full.csv'"
   ]
  },
  {
   "cell_type": "code",
   "execution_count": 5,
   "id": "d1734813",
   "metadata": {},
   "outputs": [],
   "source": [
    "df = spark.read.csv(file_path, inferSchema=True, header=True, sep=';')"
   ]
  },
  {
   "cell_type": "code",
   "execution_count": 6,
   "id": "9453e509",
   "metadata": {},
   "outputs": [
    {
     "name": "stdout",
     "output_type": "stream",
     "text": [
      "root\n",
      " |-- age: integer (nullable = true)\n",
      " |-- job: string (nullable = true)\n",
      " |-- marital: string (nullable = true)\n",
      " |-- education: string (nullable = true)\n",
      " |-- default: string (nullable = true)\n",
      " |-- balance: integer (nullable = true)\n",
      " |-- housing: string (nullable = true)\n",
      " |-- loan: string (nullable = true)\n",
      " |-- contact: string (nullable = true)\n",
      " |-- day: integer (nullable = true)\n",
      " |-- month: string (nullable = true)\n",
      " |-- duration: integer (nullable = true)\n",
      " |-- campaign: integer (nullable = true)\n",
      " |-- pdays: integer (nullable = true)\n",
      " |-- previous: integer (nullable = true)\n",
      " |-- poutcome: string (nullable = true)\n",
      " |-- y: string (nullable = true)\n",
      "\n"
     ]
    }
   ],
   "source": [
    "df.printSchema()"
   ]
  },
  {
   "cell_type": "code",
   "execution_count": 7,
   "id": "7492fb23",
   "metadata": {},
   "outputs": [],
   "source": [
    "def vector_assemble(df, features_list, target):\n",
    "    assembler = VectorAssembler(inputCols=features_list, outputCol='features')\n",
    "    string_indexer = StringIndexer(inputCol=target, outputCol='label')\n",
    "    \n",
    "    stages = [assembler, string_indexer]\n",
    "    selected_cols = ['label', 'features'] + features_list\n",
    "    \n",
    "    pipeline = Pipeline(stages=stages)\n",
    "    pipeline_model = pipeline.fit(df)\n",
    "    df = pipeline_model.transform(df).select(selected_cols)\n",
    "    return df"
   ]
  },
  {
   "cell_type": "code",
   "execution_count": 11,
   "id": "00a71f63",
   "metadata": {},
   "outputs": [],
   "source": [
    "target = 'education'\n",
    "multiclass_df = df.select(['age', 'balance', 'day', 'duration',\n",
    "                            'campaign', 'pdays', 'previous', 'education'])\n",
    "\n",
    "features_list = multiclass_df.columns\n",
    "features_list.remove('education')"
   ]
  },
  {
   "cell_type": "code",
   "execution_count": 12,
   "id": "87c60ba8",
   "metadata": {},
   "outputs": [],
   "source": [
    "# applying the function:\n",
    "df_final = vector_assemble(df, features_list, target)"
   ]
  },
  {
   "cell_type": "code",
   "execution_count": 13,
   "id": "81b49d1a",
   "metadata": {},
   "outputs": [
    {
     "name": "stdout",
     "output_type": "stream",
     "text": [
      "root\n",
      " |-- label: double (nullable = false)\n",
      " |-- features: vector (nullable = true)\n",
      " |-- age: integer (nullable = true)\n",
      " |-- balance: integer (nullable = true)\n",
      " |-- day: integer (nullable = true)\n",
      " |-- duration: integer (nullable = true)\n",
      " |-- campaign: integer (nullable = true)\n",
      " |-- pdays: integer (nullable = true)\n",
      " |-- previous: integer (nullable = true)\n",
      "\n"
     ]
    }
   ],
   "source": [
    "df_final.printSchema()"
   ]
  },
  {
   "cell_type": "code",
   "execution_count": 15,
   "id": "4dba3e0f",
   "metadata": {},
   "outputs": [],
   "source": [
    "# generating train and test split:\n",
    "\n",
    "train, test = df_final.randomSplit([0.8, 0.2])"
   ]
  },
  {
   "cell_type": "code",
   "execution_count": 16,
   "id": "8f3db096",
   "metadata": {},
   "outputs": [],
   "source": [
    "# instantiating the base classifier:\n",
    "clf = RandomForestClassifier(featuresCol='features', labelCol='label')\n",
    "ovr = OneVsRest(classifier=clf, featuresCol='features', labelCol='label')"
   ]
  },
  {
   "cell_type": "code",
   "execution_count": 17,
   "id": "ac02d56a",
   "metadata": {},
   "outputs": [],
   "source": [
    "# training the multiclass model:\n",
    "\n",
    "ovr_model = ovr.fit(train)"
   ]
  },
  {
   "cell_type": "code",
   "execution_count": 31,
   "id": "b11b9b99",
   "metadata": {},
   "outputs": [
    {
     "data": {
      "text/plain": [
       "[RandomForestClassificationModel: uid=RandomForestClassifier_6932c979352a, numTrees=20, numClasses=2, numFeatures=7,\n",
       " RandomForestClassificationModel: uid=RandomForestClassifier_6932c979352a, numTrees=20, numClasses=2, numFeatures=7,\n",
       " RandomForestClassificationModel: uid=RandomForestClassifier_6932c979352a, numTrees=20, numClasses=2, numFeatures=7,\n",
       " RandomForestClassificationModel: uid=RandomForestClassifier_6932c979352a, numTrees=20, numClasses=2, numFeatures=7]"
      ]
     },
     "execution_count": 31,
     "metadata": {},
     "output_type": "execute_result"
    }
   ],
   "source": [
    "ovr_model.models"
   ]
  },
  {
   "cell_type": "code",
   "execution_count": null,
   "id": "5763e977",
   "metadata": {},
   "outputs": [],
   "source": []
  }
 ],
 "metadata": {
  "kernelspec": {
   "display_name": "Python 3",
   "language": "python",
   "name": "python3"
  },
  "language_info": {
   "codemirror_mode": {
    "name": "ipython",
    "version": 3
   },
   "file_extension": ".py",
   "mimetype": "text/x-python",
   "name": "python",
   "nbconvert_exporter": "python",
   "pygments_lexer": "ipython3",
   "version": "3.8.6"
  }
 },
 "nbformat": 4,
 "nbformat_minor": 5
}
